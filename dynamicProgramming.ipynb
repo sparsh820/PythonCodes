{
 "cells": [
  {
   "cell_type": "code",
   "execution_count": 3,
   "id": "37bf25a0",
   "metadata": {},
   "outputs": [
    {
     "name": "stdout",
     "output_type": "stream",
     "text": [
      "34\n"
     ]
    }
   ],
   "source": [
    "def fib(n):\n",
    "    if n==1 or n==0:\n",
    "        return n\n",
    "    return fib(n-1)+fib(n-2)\n",
    "print(fib(9))"
   ]
  },
  {
   "cell_type": "code",
   "execution_count": 5,
   "id": "eaa53eee",
   "metadata": {},
   "outputs": [
    {
     "name": "stdout",
     "output_type": "stream",
     "text": [
      "34\n"
     ]
    }
   ],
   "source": [
    "#memoisation\n",
    "def fibTD(n,dp):\n",
    "    if n==1 or n==0:\n",
    "        return n\n",
    "    if dp[n-1]==-1:\n",
    "        ans1=fibTD(n-1,dp)\n",
    "        dp[n-1]=ans1\n",
    "    else:\n",
    "        ans1=dp[n-1]\n",
    "    if dp[n-2]==-1:\n",
    "        ans2=fibTD(n-2,dp)\n",
    "        dp[n-2]=ans2\n",
    "    else:\n",
    "        ans2=dp[n-2]\n",
    "    return ans1+ans2\n",
    "        \n",
    "\n",
    "n=9\n",
    "dp=[-1 for i in range(n+1)]\n",
    "print(fibTD(n,dp))"
   ]
  },
  {
   "cell_type": "code",
   "execution_count": null,
   "id": "8e852d81",
   "metadata": {},
   "outputs": [],
   "source": [
    "def fibI(n):\n",
    "    dp=[0 for i in range(n+1)]\n",
    "    dp[0]=0\n",
    "    dp[1]=1\n",
    "    i=2\n",
    "    while i<=n:\n",
    "        dp[i]=dp[i-1]+dp[i-2]\n",
    "        i=i+1\n",
    "    return dp[n]    "
   ]
  },
  {
   "cell_type": "code",
   "execution_count": null,
   "id": "233cc6eb",
   "metadata": {},
   "outputs": [],
   "source": [
    "print(fibI(5))"
   ]
  },
  {
   "cell_type": "code",
   "execution_count": 3,
   "id": "eb19d463",
   "metadata": {},
   "outputs": [
    {
     "name": "stdout",
     "output_type": "stream",
     "text": [
      "4\n",
      "1 1 1 1\n",
      "1 0 1 1\n",
      "1 1 0 1\n",
      "1 1 1 1\n",
      "Solution-> [[1, 0, 0, 0], [1, 0, 0, 0], [1, 0, 0, 0], [1, 1, 1, 1]]\n",
      "Solution-> [[1, 0, 0, 0], [1, 0, 0, 0], [1, 1, 0, 0], [0, 1, 1, 1]]\n",
      "Solution-> [[1, 1, 1, 0], [0, 0, 1, 1], [0, 0, 0, 1], [0, 0, 0, 1]]\n",
      "Solution-> [[1, 1, 1, 1], [0, 0, 0, 1], [0, 0, 0, 1], [0, 0, 0, 1]]\n"
     ]
    }
   ],
   "source": [
    "def Helper(x,y,maze,n,solution):\n",
    "    if x==n-1 and y==n-1:\n",
    "        solution[x][y]=1\n",
    "        print(\"Solution->\",solution)\n",
    "    if x<0 or y<0 or x>=n or y>=n or maze[x][y]==0 or solution[x][y]==1:\n",
    "        return\n",
    "    solution[x][y]=1\n",
    "    Helper(x+1,y,maze,n,solution)\n",
    "    Helper(x,y+1,maze,n,solution)\n",
    "    Helper(x-1,y,maze,n,solution)\n",
    "    Helper(x,y-1,maze,n,solution)\n",
    "    solution[x][y]=0\n",
    "    return\n",
    "\n",
    "\n",
    "def printPath(maze):\n",
    "    n=len(maze)\n",
    "    solution=[[0 for j in range(n)] for i in range(n)]\n",
    "    Helper(0,0,maze,n,solution)\n",
    "\n",
    "\n",
    "n=int(input())\n",
    "maze=[]\n",
    "for i in range(n):\n",
    "    row=[int(x) for x in input().split()]\n",
    "    maze.append(row)\n",
    "printPath(maze)  "
   ]
  },
  {
   "cell_type": "code",
   "execution_count": 8,
   "id": "505951cd",
   "metadata": {},
   "outputs": [
    {
     "name": "stdout",
     "output_type": "stream",
     "text": [
      "4\n",
      "0 1 0 0 0 0 0 1 1 0 0 0 0 0 1 0 \n",
      "0 0 1 0 1 0 0 0 0 0 0 1 0 1 0 0 \n"
     ]
    }
   ],
   "source": [
    "   \n",
    "def isSafe(row,col,board,n):\n",
    "    i = row-1\n",
    "    while i>=0:\n",
    "        if board[i][col] == 1:\n",
    "            return False \n",
    "        i-=1\n",
    "        \n",
    "    i = row-1\n",
    "    j = col-1\n",
    "    \n",
    "    while i>=0 and j>=0:\n",
    "        if board[i][j] == 1:\n",
    "            return False\n",
    "        \n",
    "        i-=1\n",
    "        j-=1\n",
    "        \n",
    "    i = row-1\n",
    "    j = col+1\n",
    "    while i>=0 and j<n:\n",
    "        if board[i][j] == 1:\n",
    "            return False\n",
    "        i-=1\n",
    "        j+=1\n",
    "        \n",
    "    return True\n",
    "        \n",
    "def printPathHelper(row,n,board):\n",
    "    if row ==n:\n",
    "        for i in range(n):\n",
    "            for j in range (n):\n",
    "                print(board[i][j],end= \" \")\n",
    "        print()\n",
    "        return\n",
    "    \n",
    "    for col in range (n):\n",
    "        if isSafe(row,col,board,n) is True:\n",
    "            board[row][col] = 1\n",
    "            printPathHelper(row+1,n,board)\n",
    "            board[row][col] = 0\n",
    "    return\n",
    "    \n",
    "def printPaths(n):\n",
    "    board = [[0 for j in range (n)]for i in range(n)]\n",
    "    printPathHelper(0,n,board)\n",
    "    \n",
    "n= int(input())\n",
    "printPaths(n)"
   ]
  },
  {
   "cell_type": "code",
   "execution_count": null,
   "id": "82759b29",
   "metadata": {},
   "outputs": [],
   "source": []
  }
 ],
 "metadata": {
  "kernelspec": {
   "display_name": "Python 3 (ipykernel)",
   "language": "python",
   "name": "python3"
  },
  "language_info": {
   "codemirror_mode": {
    "name": "ipython",
    "version": 3
   },
   "file_extension": ".py",
   "mimetype": "text/x-python",
   "name": "python",
   "nbconvert_exporter": "python",
   "pygments_lexer": "ipython3",
   "version": "3.9.7"
  }
 },
 "nbformat": 4,
 "nbformat_minor": 5
}
