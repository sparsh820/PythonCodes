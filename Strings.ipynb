{
 "cells": [
  {
   "cell_type": "code",
   "execution_count": 1,
   "id": "41b241df",
   "metadata": {},
   "outputs": [
    {
     "name": "stdout",
     "output_type": "stream",
     "text": [
      "b\n"
     ]
    }
   ],
   "source": [
    "a=\"blue\"\n",
    "print(a[0])"
   ]
  },
  {
   "cell_type": "code",
   "execution_count": 2,
   "id": "1083fb29",
   "metadata": {},
   "outputs": [
    {
     "data": {
      "text/plain": [
       "'blueblueblue'"
      ]
     },
     "execution_count": 2,
     "metadata": {},
     "output_type": "execute_result"
    }
   ],
   "source": [
    "a=a*3\n",
    "a"
   ]
  },
  {
   "cell_type": "code",
   "execution_count": 8,
   "id": "6cfab511",
   "metadata": {},
   "outputs": [
    {
     "name": "stdout",
     "output_type": "stream",
     "text": [
      "abcd\n",
      "abcdef\n",
      "2275368417328\n",
      "2275368194352\n"
     ]
    }
   ],
   "source": [
    "s = \"abcd\"\n",
    "b = s + \"ef\"\n",
    "print(s)\n",
    "print(b)\n",
    "print(id(s))\n",
    "print(id(b))"
   ]
  },
  {
   "cell_type": "code",
   "execution_count": 176,
   "id": "fdae817b",
   "metadata": {},
   "outputs": [
    {
     "name": "stdout",
     "output_type": "stream",
     "text": [
      "ari\n",
      "ai\n",
      "hkiraP\n"
     ]
    }
   ],
   "source": [
    "k=\"Parikh\"\n",
    "print(k[1:4])\n",
    "print(k[1:4:2])\n",
    "print(k[::-1])"
   ]
  },
  {
   "cell_type": "code",
   "execution_count": 12,
   "id": "17b37073",
   "metadata": {},
   "outputs": [
    {
     "name": "stdout",
     "output_type": "stream",
     "text": [
      "ar\n"
     ]
    }
   ],
   "source": [
    "print(k[-5:-3])"
   ]
  },
  {
   "cell_type": "code",
   "execution_count": 1,
   "id": "d69f8c97",
   "metadata": {},
   "outputs": [
    {
     "name": "stdout",
     "output_type": "stream",
     "text": [
      "3\n"
     ]
    }
   ],
   "source": [
    "str=\"Hello World\"\n",
    "count=0\n",
    "for letter in str:\n",
    "    if (letter=='l'):\n",
    "        count=count+1\n",
    "print(count)        "
   ]
  },
  {
   "cell_type": "code",
   "execution_count": 3,
   "id": "366b60e2",
   "metadata": {},
   "outputs": [
    {
     "name": "stdout",
     "output_type": "stream",
     "text": [
      "3\n"
     ]
    }
   ],
   "source": [
    "str=\"Hello World\"\n",
    "count=0\n",
    "for i in range(len(str)):\n",
    "    if (str[i]=='l'):\n",
    "        count=count+1\n",
    "print(count)        "
   ]
  },
  {
   "cell_type": "markdown",
   "id": "df5aeba7",
   "metadata": {},
   "source": [
    "In and Not in operation"
   ]
  },
  {
   "cell_type": "code",
   "execution_count": 4,
   "id": "767fb0cf",
   "metadata": {},
   "outputs": [
    {
     "name": "stdout",
     "output_type": "stream",
     "text": [
      "Yes\n"
     ]
    }
   ],
   "source": [
    "# used to check substring\n",
    "str=\"Hello world\"\n",
    "if \"Hel\" in str:\n",
    "    print(\"Yes\")\n",
    "else:\n",
    "    print(\"No\")"
   ]
  },
  {
   "cell_type": "code",
   "execution_count": 5,
   "id": "9cd729b8",
   "metadata": {},
   "outputs": [
    {
     "name": "stdout",
     "output_type": "stream",
     "text": [
      "Yes\n"
     ]
    }
   ],
   "source": [
    "if \"Heo\" not in str:\n",
    "    print(\"Yes\")\n",
    "else:\n",
    "    print(\"no\")"
   ]
  },
  {
   "cell_type": "markdown",
   "id": "b34ea553",
   "metadata": {},
   "source": [
    "Comparison Operator"
   ]
  },
  {
   "cell_type": "code",
   "execution_count": 7,
   "id": "18b15582",
   "metadata": {},
   "outputs": [
    {
     "data": {
      "text/plain": [
       "True"
      ]
     },
     "execution_count": 7,
     "metadata": {},
     "output_type": "execute_result"
    }
   ],
   "source": [
    "a=\"Parikh\"==\"Parikh\"\n",
    "a"
   ]
  },
  {
   "cell_type": "code",
   "execution_count": 8,
   "id": "c023ecd5",
   "metadata": {},
   "outputs": [
    {
     "data": {
      "text/plain": [
       "True"
      ]
     },
     "execution_count": 8,
     "metadata": {},
     "output_type": "execute_result"
    }
   ],
   "source": [
    "#Comparison on basis of ascii value\n",
    "b=\"Rarikh\">=\"Parikh\"\n",
    "b"
   ]
  },
  {
   "cell_type": "code",
   "execution_count": 11,
   "id": "51813d63",
   "metadata": {},
   "outputs": [
    {
     "data": {
      "text/plain": [
       "False"
      ]
     },
     "execution_count": 11,
     "metadata": {},
     "output_type": "execute_result"
    }
   ],
   "source": [
    "c=\"Parikh\">=\"Pbrikh\"\n",
    "c"
   ]
  },
  {
   "cell_type": "code",
   "execution_count": 12,
   "id": "46cf5ee0",
   "metadata": {},
   "outputs": [
    {
     "data": {
      "text/plain": [
       "True"
      ]
     },
     "execution_count": 12,
     "metadata": {},
     "output_type": "execute_result"
    }
   ],
   "source": [
    "d=\"pbrikh\">=\"Parikh\"\n",
    "d"
   ]
  },
  {
   "cell_type": "code",
   "execution_count": 13,
   "id": "8df249d0",
   "metadata": {},
   "outputs": [
    {
     "data": {
      "text/plain": [
       "True"
      ]
     },
     "execution_count": 13,
     "metadata": {},
     "output_type": "execute_result"
    }
   ],
   "source": [
    "\"parikh\">=\"par\""
   ]
  },
  {
   "cell_type": "code",
   "execution_count": 14,
   "id": "2ddda0a6",
   "metadata": {},
   "outputs": [
    {
     "data": {
      "text/plain": [
       "True"
      ]
     },
     "execution_count": 14,
     "metadata": {},
     "output_type": "execute_result"
    }
   ],
   "source": [
    "\"parikh\"!=\"Parikh\""
   ]
  },
  {
   "cell_type": "code",
   "execution_count": 18,
   "id": "8d0a4841",
   "metadata": {},
   "outputs": [],
   "source": [
    "def isPalindrome(string):\n",
    "    j=len(string)-1\n",
    "    Flag=True\n",
    "    for i in range(len(string)//2):\n",
    "        if string[i]!=string[j]:\n",
    "            Flag=False\n",
    "            break\n",
    "        else:\n",
    "            j=j-1\n",
    "    \n",
    "    \n",
    "    \n",
    "    return Flag        \n",
    "            \n",
    "            "
   ]
  },
  {
   "cell_type": "code",
   "execution_count": 20,
   "id": "2b226f14",
   "metadata": {},
   "outputs": [
    {
     "name": "stdout",
     "output_type": "stream",
     "text": [
      "True\n",
      "False\n"
     ]
    }
   ],
   "source": [
    "print(isPalindrome(\"abcdcba\"))\n",
    "print(isPalindrome(\"coding\"))"
   ]
  },
  {
   "cell_type": "code",
   "execution_count": 21,
   "id": "d96bef0f",
   "metadata": {},
   "outputs": [
    {
     "name": "stdout",
     "output_type": "stream",
     "text": [
      "True\n"
     ]
    }
   ],
   "source": [
    "a = \"abce\" >= \"abcdef\"\n",
    "print(a)"
   ]
  },
  {
   "cell_type": "markdown",
   "id": "86f0e77c",
   "metadata": {},
   "source": [
    "Functions on String"
   ]
  },
  {
   "cell_type": "markdown",
   "id": "01ba5789",
   "metadata": {},
   "source": [
    "(1)Split"
   ]
  },
  {
   "cell_type": "code",
   "execution_count": 24,
   "id": "da68199c",
   "metadata": {},
   "outputs": [
    {
     "name": "stdout",
     "output_type": "stream",
     "text": [
      "['My', 'Name', 'is', 'Sparsh']\n"
     ]
    }
   ],
   "source": [
    "str=\"My Name is Sparsh\"\n",
    "li=str.split()\n",
    "print(li)"
   ]
  },
  {
   "cell_type": "code",
   "execution_count": 34,
   "id": "65786d3f",
   "metadata": {},
   "outputs": [
    {
     "data": {
      "text/plain": [
       "['My,Name,is,Sparsh']"
      ]
     },
     "execution_count": 34,
     "metadata": {},
     "output_type": "execute_result"
    }
   ],
   "source": [
    "s=\"My,Name,is,Sparsh\"\n",
    "li=s.split(' , ')\n",
    "li"
   ]
  },
  {
   "cell_type": "code",
   "execution_count": 44,
   "id": "9ed32cd7",
   "metadata": {},
   "outputs": [
    {
     "name": "stdout",
     "output_type": "stream",
     "text": [
      "Hello sparsh\n"
     ]
    }
   ],
   "source": [
    "str=\"Hello world\"\n",
    "str=str.replace(\"world\",\"sparsh\")\n",
    "print(str)"
   ]
  },
  {
   "cell_type": "markdown",
   "id": "9032e666",
   "metadata": {},
   "source": [
    "Find"
   ]
  },
  {
   "cell_type": "code",
   "execution_count": 45,
   "id": "31257dba",
   "metadata": {},
   "outputs": [
    {
     "data": {
      "text/plain": [
       "3"
      ]
     },
     "execution_count": 45,
     "metadata": {},
     "output_type": "execute_result"
    }
   ],
   "source": [
    "str=\"My Name is Parikh\"\n",
    "idx=str.find(\"Na\")\n",
    "idx"
   ]
  },
  {
   "cell_type": "markdown",
   "id": "674ec057",
   "metadata": {},
   "source": [
    "Lower and Upper"
   ]
  },
  {
   "cell_type": "code",
   "execution_count": 48,
   "id": "c7f483da",
   "metadata": {},
   "outputs": [
    {
     "name": "stdout",
     "output_type": "stream",
     "text": [
      "my name is parikh\n"
     ]
    },
    {
     "data": {
      "text/plain": [
       "'MY NAME IS PARIKH'"
      ]
     },
     "execution_count": 48,
     "metadata": {},
     "output_type": "execute_result"
    }
   ],
   "source": [
    "s=str.lower()\n",
    "print(s)\n",
    "s=str.upper()\n",
    "s"
   ]
  },
  {
   "cell_type": "markdown",
   "id": "6783cd77",
   "metadata": {},
   "source": [
    "Starts_With"
   ]
  },
  {
   "cell_type": "code",
   "execution_count": 53,
   "id": "0db85b0d",
   "metadata": {},
   "outputs": [
    {
     "name": "stdout",
     "output_type": "stream",
     "text": [
      "MY NAME IS PARIKH\n"
     ]
    },
    {
     "data": {
      "text/plain": [
       "True"
      ]
     },
     "execution_count": 53,
     "metadata": {},
     "output_type": "execute_result"
    }
   ],
   "source": [
    "print(s)\n",
    "ans=s.startswith(\"MY NA\")\n",
    "ans"
   ]
  },
  {
   "cell_type": "code",
   "execution_count": 57,
   "id": "3dacb5b8",
   "metadata": {},
   "outputs": [
    {
     "data": {
      "text/plain": [
       "True"
      ]
     },
     "execution_count": 57,
     "metadata": {},
     "output_type": "execute_result"
    }
   ],
   "source": [
    "ans=s.startswith(\"PAR\",11,25)\n",
    "ans"
   ]
  },
  {
   "cell_type": "code",
   "execution_count": 58,
   "id": "1356832e",
   "metadata": {},
   "outputs": [],
   "source": [
    "def replace_with(s,c1,c2):\n",
    "    str=\"\"\n",
    "    for letter in s:\n",
    "        if letter==c1:\n",
    "            str=str+c2\n",
    "        else:\n",
    "            str=str+letter\n",
    "    return str        \n",
    "            "
   ]
  },
  {
   "cell_type": "code",
   "execution_count": 60,
   "id": "8085c17d",
   "metadata": {},
   "outputs": [
    {
     "name": "stdout",
     "output_type": "stream",
     "text": [
      "ebcde\n"
     ]
    }
   ],
   "source": [
    "s=\"abcda\"\n",
    "s=replace_with(s,'a','e')\n",
    "print(s)"
   ]
  },
  {
   "cell_type": "code",
   "execution_count": 98,
   "id": "92fd0a99",
   "metadata": {},
   "outputs": [
    {
     "data": {
      "text/plain": [
       "26"
      ]
     },
     "execution_count": 98,
     "metadata": {},
     "output_type": "execute_result"
    }
   ],
   "source": [
    "ord(\"z\")-96"
   ]
  },
  {
   "cell_type": "code",
   "execution_count": 99,
   "id": "85bc275a",
   "metadata": {},
   "outputs": [],
   "source": [
    "def isPermutation(string1, string2):\n",
    "    li=[]\n",
    "    for i in range(27):\n",
    "        li.append(0)\n",
    "    for letter in string1:\n",
    "        idx=ord(letter)-96\n",
    "        li[idx]=li[idx]+1\n",
    "    for letter in string2:\n",
    "        idx=ord(letter)-96\n",
    "        li[idx]=li[idx]-1\n",
    "    for i in range(27):\n",
    "        if li[i]!=0:\n",
    "            return False\n",
    "    return True    \n",
    "        \n",
    "        \n",
    "        "
   ]
  },
  {
   "cell_type": "code",
   "execution_count": 100,
   "id": "53fdde78",
   "metadata": {},
   "outputs": [
    {
     "name": "stdout",
     "output_type": "stream",
     "text": [
      "False\n",
      "True\n"
     ]
    }
   ],
   "source": [
    "print(isPermutation(\"abc\",\"cbd\"))\n",
    "print(isPermutation(\"abc\",\"cba\"))"
   ]
  },
  {
   "cell_type": "code",
   "execution_count": 166,
   "id": "0d9b28b7",
   "metadata": {},
   "outputs": [],
   "source": [
    "\n",
    "def removeConsecutiveDuplicates(string):\n",
    "    i=0\n",
    "    str=\"\"\n",
    "    while i <len(string):\n",
    "        count=1\n",
    "        j=i+1\n",
    "        while j<len(string) and  string[i]==string[j]:\n",
    "            count=count+1\n",
    "            j=j+1   \n",
    "        if count>=1:\n",
    "            str=str+string[i]\n",
    "        i=i+count\n",
    "    return str    \n",
    "        "
   ]
  },
  {
   "cell_type": "code",
   "execution_count": 168,
   "id": "f6f6c74f",
   "metadata": {},
   "outputs": [
    {
     "name": "stdout",
     "output_type": "stream",
     "text": [
      "a\n",
      "abcba\n",
      "xyzx\n"
     ]
    }
   ],
   "source": [
    "print(removeConsecutiveDuplicates(\"aaaa\"))\n",
    "print(removeConsecutiveDuplicates(\"aabccbaa\"))\n",
    "print(removeConsecutiveDuplicates(\"xxyyzxx\"))"
   ]
  },
  {
   "cell_type": "code",
   "execution_count": 177,
   "id": "ba11bf31",
   "metadata": {},
   "outputs": [],
   "source": [
    "def reverseEachWord(string):\n",
    "    li=string.split()\n",
    "    str=\"\"\n",
    "    for s in li:\n",
    "        str=str+s[::-1]+\" \"\n",
    "    return str"
   ]
  },
  {
   "cell_type": "code",
   "execution_count": 178,
   "id": "8f47d406",
   "metadata": {},
   "outputs": [
    {
     "data": {
      "text/plain": [
       "'olleH dlroW '"
      ]
     },
     "execution_count": 178,
     "metadata": {},
     "output_type": "execute_result"
    }
   ],
   "source": [
    "reverseEachWord(\"Hello World\")"
   ]
  },
  {
   "cell_type": "code",
   "execution_count": 179,
   "id": "0fe5da5f",
   "metadata": {},
   "outputs": [],
   "source": [
    "def removeAllOccurrencesOfChar(string, ch) :\n",
    "    str=\"\"\n",
    "    for letter in string:\n",
    "        if letter!=ch:\n",
    "            str=str+letter\n",
    "    return str"
   ]
  },
  {
   "cell_type": "code",
   "execution_count": 180,
   "id": "c54711da",
   "metadata": {},
   "outputs": [],
   "source": [
    "def highestOccuringChar(string) :\n",
    "    max=-999999999999\n",
    "    li=[]\n",
    "    for i in range(27):\n",
    "        li.append(0)\n",
    "    for letter in string:\n",
    "        idx=ord(letter)-96\n",
    "        li[idx]=li[idx]+1\n",
    "    for i in range(27):\n",
    "        if li[i]>max:\n",
    "            max=li[i]\n",
    "            string=chr(96+i)\n",
    "    return string"
   ]
  },
  {
   "cell_type": "code",
   "execution_count": 183,
   "id": "4c587eac",
   "metadata": {},
   "outputs": [],
   "source": [
    "#ForLoop python\n",
    "def getCompressedString(input) :\n",
    "    i=0\n",
    "    s=\"\"\n",
    "    while i<len(input):\n",
    "        count=1\n",
    "        j=i+1\n",
    "        while j<len(input) and input[i]==input[j]:\n",
    "            count=count+1\n",
    "            j=j+1\n",
    "        if count>1:\n",
    "            s=s+input[i]+str(count)\n",
    "        else:\n",
    "            s=s+input[i]   \n",
    "        i=i+count\n",
    "    \n",
    "    return s\n",
    "            "
   ]
  },
  {
   "cell_type": "code",
   "execution_count": 194,
   "id": "a944a9e8",
   "metadata": {},
   "outputs": [
    {
     "ename": "TypeError",
     "evalue": "'str' object is not callable",
     "output_type": "error",
     "traceback": [
      "\u001b[1;31m---------------------------------------------------------------------------\u001b[0m",
      "\u001b[1;31mTypeError\u001b[0m                                 Traceback (most recent call last)",
      "\u001b[1;32m~\\AppData\\Local\\Temp/ipykernel_13944/350918636.py\u001b[0m in \u001b[0;36m<module>\u001b[1;34m\u001b[0m\n\u001b[1;32m----> 1\u001b[1;33m \u001b[0mgetCompressedString\u001b[0m\u001b[1;33m(\u001b[0m\u001b[1;34m\"aaabbccdsa\"\u001b[0m\u001b[1;33m)\u001b[0m\u001b[1;33m\u001b[0m\u001b[1;33m\u001b[0m\u001b[0m\n\u001b[0m",
      "\u001b[1;32m~\\AppData\\Local\\Temp/ipykernel_13944/2592522487.py\u001b[0m in \u001b[0;36mgetCompressedString\u001b[1;34m(input)\u001b[0m\n\u001b[0;32m      9\u001b[0m             \u001b[0mj\u001b[0m\u001b[1;33m=\u001b[0m\u001b[0mj\u001b[0m\u001b[1;33m+\u001b[0m\u001b[1;36m1\u001b[0m\u001b[1;33m\u001b[0m\u001b[1;33m\u001b[0m\u001b[0m\n\u001b[0;32m     10\u001b[0m         \u001b[1;32mif\u001b[0m \u001b[0mcount\u001b[0m\u001b[1;33m>\u001b[0m\u001b[1;36m1\u001b[0m\u001b[1;33m:\u001b[0m\u001b[1;33m\u001b[0m\u001b[1;33m\u001b[0m\u001b[0m\n\u001b[1;32m---> 11\u001b[1;33m             \u001b[0mstr\u001b[0m\u001b[1;33m=\u001b[0m\u001b[0mstr\u001b[0m\u001b[1;33m+\u001b[0m\u001b[0minput\u001b[0m\u001b[1;33m[\u001b[0m\u001b[0mi\u001b[0m\u001b[1;33m]\u001b[0m\u001b[1;33m+\u001b[0m\u001b[0mstr\u001b[0m\u001b[1;33m(\u001b[0m\u001b[0mcount\u001b[0m\u001b[1;33m)\u001b[0m\u001b[1;33m\u001b[0m\u001b[1;33m\u001b[0m\u001b[0m\n\u001b[0m\u001b[0;32m     12\u001b[0m         \u001b[1;32melse\u001b[0m\u001b[1;33m:\u001b[0m\u001b[1;33m\u001b[0m\u001b[1;33m\u001b[0m\u001b[0m\n\u001b[0;32m     13\u001b[0m             \u001b[0mstr\u001b[0m\u001b[1;33m=\u001b[0m\u001b[0mstr\u001b[0m\u001b[1;33m+\u001b[0m\u001b[0minput\u001b[0m\u001b[1;33m[\u001b[0m\u001b[0mi\u001b[0m\u001b[1;33m]\u001b[0m\u001b[1;33m\u001b[0m\u001b[1;33m\u001b[0m\u001b[0m\n",
      "\u001b[1;31mTypeError\u001b[0m: 'str' object is not callable"
     ]
    }
   ],
   "source": [
    "getCompressedString(\"aaabbccdsa\")"
   ]
  },
  {
   "cell_type": "code",
   "execution_count": 193,
   "id": "e6d7cbe1",
   "metadata": {},
   "outputs": [
    {
     "ename": "TypeError",
     "evalue": "'str' object is not callable",
     "output_type": "error",
     "traceback": [
      "\u001b[1;31m---------------------------------------------------------------------------\u001b[0m",
      "\u001b[1;31mTypeError\u001b[0m                                 Traceback (most recent call last)",
      "\u001b[1;32m~\\AppData\\Local\\Temp/ipykernel_13944/1429013159.py\u001b[0m in \u001b[0;36m<module>\u001b[1;34m\u001b[0m\n\u001b[0;32m      1\u001b[0m \u001b[0minteger\u001b[0m \u001b[1;33m=\u001b[0m \u001b[1;36m123\u001b[0m\u001b[1;33m\u001b[0m\u001b[1;33m\u001b[0m\u001b[0m\n\u001b[1;32m----> 2\u001b[1;33m \u001b[0ms\u001b[0m\u001b[1;33m=\u001b[0m \u001b[0mstr\u001b[0m\u001b[1;33m(\u001b[0m\u001b[1;36m3\u001b[0m\u001b[1;33m)\u001b[0m\u001b[1;33m\u001b[0m\u001b[1;33m\u001b[0m\u001b[0m\n\u001b[0m\u001b[0;32m      3\u001b[0m \u001b[0ms\u001b[0m\u001b[1;33m\u001b[0m\u001b[1;33m\u001b[0m\u001b[0m\n",
      "\u001b[1;31mTypeError\u001b[0m: 'str' object is not callable"
     ]
    }
   ],
   "source": [
    "integer = 123\n",
    "s= str(3)\n",
    "s"
   ]
  },
  {
   "cell_type": "code",
   "execution_count": 1,
   "id": "a4e1fbc8",
   "metadata": {},
   "outputs": [
    {
     "name": "stdout",
     "output_type": "stream",
     "text": [
      "a b c d e\n",
      "a\n"
     ]
    }
   ],
   "source": [
    "\n",
    "def minimum_length(s):\n",
    "    d=dict()\n",
    "    words=s.split()\n",
    "    word=\"\"\n",
    "    min=9999999\n",
    "    for w in words:\n",
    "        if min>len(w):\n",
    "            min=len(w)\n",
    "            word=w\n",
    "        \n",
    "          \n",
    "    return word\n",
    "            \n",
    "\n",
    "\n",
    "s=input()\n",
    "print(minimum_length(s))"
   ]
  },
  {
   "cell_type": "code",
   "execution_count": null,
   "id": "15032ec4",
   "metadata": {},
   "outputs": [],
   "source": [
    "import sys\n",
    "def isUnique(s):\n",
    "    d={}\n",
    "    for ch in s:\n",
    "        if ch not in d:\n",
    "            d[ch]=1\n",
    "        else:\n",
    "            return False\n",
    "    return True\n",
    "\n",
    "\n",
    "s=input()\n",
    "max_len=-1*sys.maxsize\n",
    "substring=\"\"\n",
    "for i in range(len(s)):\n",
    "    for j in range(i+1,len(s)):\n",
    "        if isUnique(s[i:j]) and len(s[i:j])>max_len:\n",
    "            substring=s[i:j]\n",
    "            max_len=len(s[i:j])\n",
    "print(substring)       "
   ]
  },
  {
   "cell_type": "code",
   "execution_count": null,
   "id": "b088b5e9",
   "metadata": {},
   "outputs": [],
   "source": [
    "# long maxPathSum(int ar1[], int ar2[], int m, int n)\n",
    "# {\n",
    "#   /* Don't write main().\n",
    "#   Don't read input, it is passed as function argument.\n",
    "#   Return output and don't print it.\n",
    "#   Taking input and printing output is handled automatically.\n",
    "#   */\n",
    "#   long maxsum = 0;\n",
    "#   long s1 = 0, s2 = 0;\n",
    "#   int i = 0, j = 0;\n",
    "\n",
    "#   while (i < m && j < n) {\n",
    "#     if (ar1[i] < ar2[j]) {\n",
    "#       s1 += ar1[i];\n",
    "#       i++;\n",
    "#     } else if (ar1[i] > ar2[j]) {\n",
    "#       s2 += ar2[j];\n",
    "#       j++;\n",
    "#     } else {\n",
    "#       maxsum += max(s1, s2) + ar1[i];\n",
    "#       s1 = 0, s2 = 0;\n",
    "#       i++;\n",
    "#       j++;\n",
    "#     }\n",
    "#   }\n",
    "#   // Adding remaining elements\n",
    "#   while (i < m)\n",
    "#     s1 += ar1[i++];\n",
    "#   while (j < n)\n",
    "#     s2 += ar2[j++];\n",
    "#   maxsum += max(s1, s2);\n",
    "#   return maxsum;\n",
    "# }"
   ]
  }
 ],
 "metadata": {
  "kernelspec": {
   "display_name": "Python 3 (ipykernel)",
   "language": "python",
   "name": "python3"
  },
  "language_info": {
   "codemirror_mode": {
    "name": "ipython",
    "version": 3
   },
   "file_extension": ".py",
   "mimetype": "text/x-python",
   "name": "python",
   "nbconvert_exporter": "python",
   "pygments_lexer": "ipython3",
   "version": "3.9.7"
  }
 },
 "nbformat": 4,
 "nbformat_minor": 5
}
