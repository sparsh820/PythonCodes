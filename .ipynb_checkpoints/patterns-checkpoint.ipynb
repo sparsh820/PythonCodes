{
 "cells": [
  {
   "cell_type": "markdown",
   "id": "f93e11bb",
   "metadata": {},
   "source": [
    "### pattern-1"
   ]
  },
  {
   "cell_type": "code",
   "execution_count": 8,
   "id": "b28f4735",
   "metadata": {},
   "outputs": [
    {
     "name": "stdout",
     "output_type": "stream",
     "text": [
      "4\n",
      "* * * * \n",
      "* * * * \n",
      "* * * * \n",
      "* * * * \n"
     ]
    }
   ],
   "source": [
    "n=int(input())\n",
    "row=1\n",
    "nst=n\n",
    "while row<=n:\n",
    "    cst=1\n",
    "    while cst<=nst:\n",
    "        print('*',end=' ')\n",
    "        cst=cst+1\n",
    "    print()\n",
    "    row=row+1\n",
    "        \n",
    "    "
   ]
  },
  {
   "cell_type": "code",
   "execution_count": 9,
   "id": "be3d482a",
   "metadata": {},
   "outputs": [
    {
     "name": "stdout",
     "output_type": "stream",
     "text": [
      "4\n",
      "1 2 3 4 \n",
      "1 2 3 4 \n",
      "1 2 3 4 \n",
      "1 2 3 4 \n"
     ]
    }
   ],
   "source": [
    "n=int(input())\n",
    "row=1\n",
    "nst=n\n",
    "while row<=n:\n",
    "    cst=1\n",
    "    while cst<=nst:\n",
    "        print(cst,end=' ')\n",
    "        cst=cst+1\n",
    "    print()\n",
    "    row=row+1"
   ]
  },
  {
   "cell_type": "code",
   "execution_count": 10,
   "id": "7505da77",
   "metadata": {},
   "outputs": [
    {
     "name": "stdout",
     "output_type": "stream",
     "text": [
      "4\n",
      "1111\n",
      "2222\n",
      "3333\n",
      "4444\n"
     ]
    }
   ],
   "source": [
    "n=int(input())\n",
    "row=1\n",
    "nst=n\n",
    "k=1\n",
    "while row<=n:\n",
    "    cst=1\n",
    "    while cst<=nst:\n",
    "        print(k,end='')\n",
    "        cst=cst+1\n",
    "    print()\n",
    "    k=k+1\n",
    "    row=row+1"
   ]
  },
  {
   "cell_type": "code",
   "execution_count": 11,
   "id": "c72caa07",
   "metadata": {},
   "outputs": [
    {
     "name": "stdout",
     "output_type": "stream",
     "text": [
      "4\n",
      "4 3 2 1 \n",
      "4 3 2 1 \n",
      "4 3 2 1 \n",
      "4 3 2 1 \n"
     ]
    }
   ],
   "source": [
    "n=int(input())\n",
    "row=1\n",
    "while row<=n:\n",
    "    cst=n\n",
    "    while cst>=1:\n",
    "        print(cst,end=' ')\n",
    "        cst=cst-1\n",
    "    print()\n",
    "    row=row+1"
   ]
  },
  {
   "cell_type": "markdown",
   "id": "256a6249",
   "metadata": {},
   "source": [
    "### triangular pattern"
   ]
  },
  {
   "cell_type": "code",
   "execution_count": 12,
   "id": "6e165c00",
   "metadata": {},
   "outputs": [
    {
     "name": "stdout",
     "output_type": "stream",
     "text": [
      "4\n",
      "1 \n",
      "1 2 \n",
      "1 2 3 \n",
      "1 2 3 4 \n"
     ]
    }
   ],
   "source": [
    "n=int(input())\n",
    "row=1\n",
    "nst=1\n",
    "while row<=n:\n",
    "    cst=1\n",
    "    while cst<=nst:\n",
    "        print(cst,end=' ')\n",
    "        cst=cst+1\n",
    "    print()\n",
    "    nst=nst+1\n",
    "    row=row+1"
   ]
  },
  {
   "cell_type": "code",
   "execution_count": 14,
   "id": "c3dbbbde",
   "metadata": {},
   "outputs": [
    {
     "name": "stdout",
     "output_type": "stream",
     "text": [
      "4\n",
      "1 \n",
      "2 3 \n",
      "3 4 5 \n",
      "4 5 6 7 \n"
     ]
    }
   ],
   "source": [
    "n=int(input())\n",
    "row=1\n",
    "nst=1\n",
    "k=1\n",
    "while row<=n:\n",
    "    cst=1\n",
    "    m=k\n",
    "    while cst<=nst:\n",
    "        print(m,end=' ')\n",
    "        cst=cst+1\n",
    "        m=m+1\n",
    "    print()\n",
    "    k=k+1\n",
    "    nst=nst+1\n",
    "    row=row+1"
   ]
  },
  {
   "cell_type": "code",
   "execution_count": 3,
   "id": "b4b5006a",
   "metadata": {},
   "outputs": [
    {
     "name": "stdout",
     "output_type": "stream",
     "text": [
      "4\n",
      "1 \n",
      "2 3 \n",
      "4 5 6 \n",
      "7 8 9 10 \n"
     ]
    }
   ],
   "source": [
    "n=int(input())\n",
    "row=1\n",
    "nst=1\n",
    "k=1\n",
    "while row<=n:\n",
    "    cst=1\n",
    "    while cst<=nst:\n",
    "        print(k,end=' ')\n",
    "        cst=cst+1\n",
    "        k=k+1\n",
    "    print()\n",
    "    nst=nst+1\n",
    "    row=row+1"
   ]
  },
  {
   "cell_type": "code",
   "execution_count": null,
   "id": "887fa726",
   "metadata": {},
   "outputs": [],
   "source": [
    "n=int(input())\n",
    "row=1\n",
    "nst=1\n",
    "k=1\n",
    "while row<=n:\n",
    "    cst=1\n",
    "    while cst<=nst:\n",
    "        print(k,end=' ')\n",
    "        cst=cst+1\n",
    "    print()\n",
    "    k=k+1\n",
    "    nst=nst+1\n",
    "    row=row+1"
   ]
  },
  {
   "cell_type": "code",
   "execution_count": 18,
   "id": "1f38484b",
   "metadata": {},
   "outputs": [
    {
     "name": "stdout",
     "output_type": "stream",
     "text": [
      "4\n",
      "1 \n",
      "2 1 \n",
      "3 2 1 \n",
      "4 3 2 1 \n"
     ]
    }
   ],
   "source": [
    "n=int(input())\n",
    "row=1\n",
    "nst=1\n",
    "k=1\n",
    "while row<=n:\n",
    "    cst=1\n",
    "    m=k\n",
    "    while cst<=nst:\n",
    "        print(m,end=' ')\n",
    "        cst=cst+1\n",
    "        m=m-1\n",
    "    print()\n",
    "    k=k+1\n",
    "    nst=nst+1\n",
    "    row=row+1"
   ]
  },
  {
   "cell_type": "markdown",
   "id": "320ef19d",
   "metadata": {},
   "source": [
    "### print k-th alphabet"
   ]
  },
  {
   "cell_type": "code",
   "execution_count": 22,
   "id": "0077e2f0",
   "metadata": {},
   "outputs": [
    {
     "name": "stdout",
     "output_type": "stream",
     "text": [
      "65\n",
      "B\n"
     ]
    }
   ],
   "source": [
    "print(ord('A')) #ascii value of A-order command\n",
    "print(chr(66)) #character command"
   ]
  },
  {
   "cell_type": "code",
   "execution_count": 25,
   "id": "5d39dd36",
   "metadata": {},
   "outputs": [
    {
     "name": "stdout",
     "output_type": "stream",
     "text": [
      "4\n",
      "D\n"
     ]
    }
   ],
   "source": [
    "k=int(input())\n",
    "x=ord('A')\n",
    "print(chr(x+k-1))"
   ]
  },
  {
   "cell_type": "code",
   "execution_count": 26,
   "id": "ef5cdb52",
   "metadata": {},
   "outputs": [
    {
     "name": "stdout",
     "output_type": "stream",
     "text": [
      "4\n",
      "A B C D \n",
      "A B C D \n",
      "A B C D \n",
      "A B C D \n"
     ]
    }
   ],
   "source": [
    "n=int(input())\n",
    "row=1\n",
    "nst=n\n",
    "x=ord('A')\n",
    "while row<=n:\n",
    "    cst=1\n",
    "    k=1\n",
    "    while cst<=nst:\n",
    "        charP=chr(x+k-1)\n",
    "        print(charP,end=' ')\n",
    "        k=k+1\n",
    "        cst=cst+1\n",
    "    print()\n",
    "    row=row+1\n",
    "        "
   ]
  },
  {
   "cell_type": "code",
   "execution_count": 27,
   "id": "cf800042",
   "metadata": {},
   "outputs": [
    {
     "name": "stdout",
     "output_type": "stream",
     "text": [
      "4\n",
      "A B C D \n",
      "B C D E \n",
      "C D E F \n",
      "D E F G \n"
     ]
    }
   ],
   "source": [
    "n=int(input())\n",
    "row=1\n",
    "nst=n\n",
    "x=ord('A')\n",
    "while row<=n:\n",
    "    cst=1\n",
    "    k=1\n",
    "    while cst<=nst:\n",
    "        charP=chr(x+k-1) #character to be printed\n",
    "        print(charP,end=' ')\n",
    "        k=k+1\n",
    "        cst=cst+1\n",
    "    print()\n",
    "    x=x+1\n",
    "    row=row+1\n",
    "        "
   ]
  },
  {
   "cell_type": "code",
   "execution_count": 30,
   "id": "f1477918",
   "metadata": {},
   "outputs": [
    {
     "name": "stdout",
     "output_type": "stream",
     "text": [
      "4\n",
      "A \n",
      "B C \n",
      "C D E \n",
      "D E F G \n"
     ]
    }
   ],
   "source": [
    "n=int(input())\n",
    "row=1\n",
    "nst=1\n",
    "x=ord('A')\n",
    "while row<=n:\n",
    "    cst=1\n",
    "    k=1\n",
    "    while cst<=nst:\n",
    "        charp=chr(x+k-1)\n",
    "        print(charp,end=' ')\n",
    "        k=k+1\n",
    "        cst=cst+1\n",
    "    print()\n",
    "    x=x+1\n",
    "    nst=nst+1\n",
    "    row=row+1"
   ]
  },
  {
   "cell_type": "code",
   "execution_count": 36,
   "id": "11aed40d",
   "metadata": {},
   "outputs": [
    {
     "name": "stdout",
     "output_type": "stream",
     "text": [
      "5\n",
      "E \n",
      "D E \n",
      "C D E \n",
      "B C D E \n",
      "A B C D E \n"
     ]
    }
   ],
   "source": [
    "n=int(input())\n",
    "m=ord('A')\n",
    "row=1\n",
    "nst=1\n",
    "charS=chr(m+n-1)\n",
    "x=ord(charS)\n",
    "while row<=n:\n",
    "    cst=1\n",
    "    k=1\n",
    "    while cst<=nst:\n",
    "        charp=chr(x+k-1)\n",
    "        print(charp,end=' ')\n",
    "        k=k+1\n",
    "        cst=cst+1\n",
    "    print()\n",
    "    x=x-1\n",
    "    nst=nst+1\n",
    "    row=row+1"
   ]
  },
  {
   "cell_type": "code",
   "execution_count": 37,
   "id": "bd9fb579",
   "metadata": {},
   "outputs": [
    {
     "name": "stdout",
     "output_type": "stream",
     "text": [
      "4\n",
      "1 \n",
      "1 1 \n",
      "1 1 1 \n",
      "1 1 1 1 \n"
     ]
    }
   ],
   "source": [
    "n=int(input())\n",
    "row=1\n",
    "nst=1\n",
    "while row<=n:\n",
    "    cst=1\n",
    "    while cst<=nst:\n",
    "        print('1',end=' ')\n",
    "        cst=cst+1\n",
    "    print()\n",
    "    nst=nst+1\n",
    "    row=row+1"
   ]
  },
  {
   "cell_type": "markdown",
   "id": "67306215",
   "metadata": {},
   "source": [
    "1\n",
    "11\n",
    "202\n",
    "3003"
   ]
  },
  {
   "cell_type": "code",
   "execution_count": 60,
   "id": "cca43654",
   "metadata": {},
   "outputs": [
    {
     "name": "stdout",
     "output_type": "stream",
     "text": [
      "5\n",
      "1\n",
      "11\n",
      "202\n",
      "3003\n",
      "40004\n"
     ]
    }
   ],
   "source": [
    "n=int(input())\n",
    "row=1\n",
    "nst=1\n",
    "k=1\n",
    "while row<=n:\n",
    "    cst=1\n",
    "    while cst<=nst:\n",
    "        if cst==1 or cst==nst:\n",
    "            print(k,end='')\n",
    "        else:\n",
    "            print(0,end='')\n",
    "        cst=cst+1\n",
    "    print()\n",
    "    if row!=1:\n",
    "        k=k+1\n",
    "    nst=nst+1\n",
    "    row=row+1\n",
    "\n",
    "        \n",
    "        \n",
    "        \n",
    "        "
   ]
  },
  {
   "cell_type": "code",
   "execution_count": 61,
   "id": "1a8767a1",
   "metadata": {},
   "outputs": [
    {
     "name": "stdout",
     "output_type": "stream",
     "text": [
      "4\n",
      "1\n",
      "11\n",
      "121\n",
      "1221\n"
     ]
    }
   ],
   "source": [
    "n=int(input())\n",
    "row=1\n",
    "nst=1\n",
    "while row<=n:\n",
    "    cst=1\n",
    "    while cst<=nst:\n",
    "        if cst==1 or cst==nst:\n",
    "            print(1,end='')\n",
    "        else:\n",
    "            print(2,end='')\n",
    "        cst=cst+1\n",
    "    print()\n",
    "    nst=nst+1\n",
    "    row=row+1\n"
   ]
  },
  {
   "cell_type": "code",
   "execution_count": 62,
   "id": "f41a6428",
   "metadata": {},
   "outputs": [
    {
     "name": "stdout",
     "output_type": "stream",
     "text": [
      "4\n",
      "1234\n",
      "123\n",
      "12\n",
      "1\n"
     ]
    }
   ],
   "source": [
    "n=int(input())\n",
    "row=1\n",
    "nst=n\n",
    "while row<=n:\n",
    "    cst=1\n",
    "    while cst<=nst:\n",
    "        print(cst,end='')\n",
    "        cst=cst+1\n",
    "    print()\n",
    "    nst=nst-1\n",
    "    row=row+1\n",
    "\n"
   ]
  },
  {
   "cell_type": "code",
   "execution_count": 63,
   "id": "6024cfb1",
   "metadata": {},
   "outputs": [
    {
     "name": "stdout",
     "output_type": "stream",
     "text": [
      "4\n",
      "A \n",
      "B B \n",
      "C C C \n",
      "D D D D \n"
     ]
    }
   ],
   "source": [
    "n=int(input())\n",
    "row=1\n",
    "nst=1\n",
    "x=ord('A')\n",
    "while row<=n:\n",
    "    cst=1\n",
    "    k=1\n",
    "    while cst<=nst:\n",
    "        charp=chr(x+k-1)\n",
    "        print(charp,end=' ')\n",
    "        cst=cst+1\n",
    "    print()\n",
    "    x=x+1\n",
    "    nst=nst+1\n",
    "    row=row+1"
   ]
  },
  {
   "cell_type": "code",
   "execution_count": 2,
   "id": "88e25dbe",
   "metadata": {},
   "outputs": [
    {
     "name": "stdout",
     "output_type": "stream",
     "text": [
      "4\n",
      "1      1\n",
      "12    21\n",
      "123  321\n",
      "12344321\n"
     ]
    }
   ],
   "source": [
    "n=int(input())\n",
    "row=1\n",
    "nst=1\n",
    "nsp=2*n-2\n",
    "while row<=n:\n",
    "    m=1\n",
    "    cst=1\n",
    "    while cst<=nst:\n",
    "        print(m,end='')\n",
    "        cst=cst+1\n",
    "        m=m+1\n",
    "    csp=1    \n",
    "    while csp<=nsp:\n",
    "        print(' ',end='')\n",
    "        csp=csp+1\n",
    "    m=m-1\n",
    "    while m>=1:\n",
    "        print(m,end='')\n",
    "        m=m-1\n",
    "    print()\n",
    "    nsp=nsp-2\n",
    "    nst=nst+1\n",
    "    row=row+1"
   ]
  },
  {
   "cell_type": "markdown",
   "id": "88be5989",
   "metadata": {},
   "source": [
    "#### "
   ]
  }
 ],
 "metadata": {
  "kernelspec": {
   "display_name": "Python 3 (ipykernel)",
   "language": "python",
   "name": "python3"
  },
  "language_info": {
   "codemirror_mode": {
    "name": "ipython",
    "version": 3
   },
   "file_extension": ".py",
   "mimetype": "text/x-python",
   "name": "python",
   "nbconvert_exporter": "python",
   "pygments_lexer": "ipython3",
   "version": "3.9.7"
  }
 },
 "nbformat": 4,
 "nbformat_minor": 5
}
