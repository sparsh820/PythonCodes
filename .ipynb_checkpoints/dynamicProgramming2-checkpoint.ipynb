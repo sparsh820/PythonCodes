{
 "cells": [
  {
   "cell_type": "code",
   "execution_count": 28,
   "id": "491dba80",
   "metadata": {},
   "outputs": [],
   "source": [
    "class Vehicle:\n",
    "    def __init__(self,name,isUsed,typeOfVehicle,Owner,fuel,isImported):\n",
    "        self.name=name\n",
    "        self.isUsed=isUsed\n",
    "        self.typeOfVehicle=typeOfVehicle\n",
    "        self.Owner=Owner\n",
    "        self.fuel=fuel\n",
    "        self.isImported=isImported\n",
    "    def __str__(self):\n",
    "        return self.name+\" \"+str(self.isUsed)+\" \"+self.typeOfVehicle+\" \"+self.Owner+\" \"+self.fuel\n",
    "    def fuelType(self):\n",
    "        return self.name+\" \"+\"runs on fuel called\"+\" \"+self.fuel\n",
    "    def isImportedvehicle(self):\n",
    "        if self.isUsed==True and self.isImported==True:\n",
    "            return self.name+\" \"+\"is Used and is Imported\"\n",
    "        else:\n",
    "            return self.name+\" \"+\"is new and Made in India\""
   ]
  },
  {
   "cell_type": "code",
   "execution_count": 29,
   "id": "fceaf961",
   "metadata": {},
   "outputs": [
    {
     "name": "stdout",
     "output_type": "stream",
     "text": [
      "Honda runs on fuel called Diesel\n",
      "Ducati runs on fuel called Petrol\n",
      "Honda is new and Made in India\n",
      "Ducati is Used and is Imported\n"
     ]
    }
   ],
   "source": [
    "c=Vehicle(\"Honda\",False,\"Car\",\"Saurabh\", \"Diesel\",False)\n",
    "b=Vehicle(\"Ducati\",True,\"Bike\",\"Saurabh\", \"Petrol\",True)\n",
    "print(c.fuelType())\n",
    "print(b.fuelType())\n",
    "print(c.isImportedvehicle())\n",
    "print(b.isImportedvehicle())"
   ]
  },
  {
   "cell_type": "code",
   "execution_count": 4,
   "id": "8525333c",
   "metadata": {},
   "outputs": [],
   "source": [
    "def fibI(n):\n",
    "    dp=[0 for i in range(n+1)]\n",
    "    dp[0]=0\n",
    "    dp[1]=1\n",
    "    i=2\n",
    "    while i<=n:\n",
    "        dp[i]=dp[i-1]+dp[i-2]\n",
    "        i=i+1\n",
    "    return dp[n]    "
   ]
  },
  {
   "cell_type": "code",
   "execution_count": 5,
   "id": "7de5b66d",
   "metadata": {},
   "outputs": [
    {
     "name": "stdout",
     "output_type": "stream",
     "text": [
      "5\n"
     ]
    }
   ],
   "source": [
    "print(fibI(5))"
   ]
  },
  {
   "cell_type": "code",
   "execution_count": 3,
   "id": "abfcc814",
   "metadata": {},
   "outputs": [
    {
     "name": "stdout",
     "output_type": "stream",
     "text": [
      "9223372036854775807\n"
     ]
    }
   ],
   "source": [
    "from sys import maxsize as MAX_VALUE\n",
    "print(MAX_VALUE)"
   ]
  },
  {
   "cell_type": "code",
   "execution_count": 14,
   "id": "07d32838",
   "metadata": {},
   "outputs": [],
   "source": [
    "def countMinSteps(n):\n",
    "    if n==1:\n",
    "        return 0\n",
    "    ans1=countMinSteps(n-1)\n",
    "    ans2=MAX_VALUE\n",
    "    ans3=MAX_VALUE\n",
    "    if n%2==0:\n",
    "        ans2=countMinSteps(n//2)\n",
    "    if n%3==0:\n",
    "        ans3=countMinSteps(n//3)\n",
    "    return 1+min(ans1,min(ans2,ans3))    "
   ]
  },
  {
   "cell_type": "code",
   "execution_count": 16,
   "id": "17554bb5",
   "metadata": {},
   "outputs": [
    {
     "name": "stdout",
     "output_type": "stream",
     "text": [
      "4\n"
     ]
    }
   ],
   "source": [
    "print(countMinSteps(20))"
   ]
  },
  {
   "cell_type": "code",
   "execution_count": 18,
   "id": "fba5d98f",
   "metadata": {},
   "outputs": [],
   "source": [
    "def countMinStepsTD(dp,n):\n",
    "    if n==1:\n",
    "        return 0\n",
    "    ans1=MAX_VALUE\n",
    "    if dp[n-1]==-1:\n",
    "        ans1=countMinStepsTD(dp,n-1)\n",
    "        dp[n-1]=ans1\n",
    "    else:\n",
    "        ans1=dp[n-1]\n",
    "    ans2=MAX_VALUE\n",
    "    ans3=MAX_VALUE\n",
    "    if n%2==0:\n",
    "        if dp[n//2]==-1:\n",
    "            ans2=countMinStepsTD(dp,n//2)\n",
    "            dp[n//2]=ans2\n",
    "        else:\n",
    "            ans2=dp[n//2]\n",
    "    if n%3==0:\n",
    "        if dp[n//3]==-1:\n",
    "            ans3=countMinStepsTD(dp,n//3)\n",
    "            dp[n//3]=ans3\n",
    "        else:\n",
    "            ans3=dp[n//3]\n",
    "    return 1+min(ans1,ans2,ans3)    "
   ]
  },
  {
   "cell_type": "code",
   "execution_count": 21,
   "id": "e25ea710",
   "metadata": {},
   "outputs": [
    {
     "name": "stdout",
     "output_type": "stream",
     "text": [
      "4\n"
     ]
    }
   ],
   "source": [
    "n=20\n",
    "dp=[-1 for i in range(n+1)]\n",
    "print(countMinStepsTD(dp,20))"
   ]
  },
  {
   "cell_type": "code",
   "execution_count": 4,
   "id": "7d1056cf",
   "metadata": {},
   "outputs": [],
   "source": [
    "def countMinStepsI(n):\n",
    "    dp=[0 for i in range(n+1)]\n",
    "    dp[1]=0\n",
    "    i=2\n",
    "    while i<=n:\n",
    "        ans2=MAX_VALUE\n",
    "        ans3=MAX_VALUE\n",
    "        ans1=dp[i-1]\n",
    "        if i%2==0:\n",
    "            ans2=dp[i//2]\n",
    "        if i%3==0:\n",
    "            ans3=dp[i//3]\n",
    "        dp[i]=1+min(ans1,ans2,ans3)\n",
    "        i=i+1\n",
    "    return dp[n]    "
   ]
  },
  {
   "cell_type": "code",
   "execution_count": 5,
   "id": "0a4afadf",
   "metadata": {},
   "outputs": [
    {
     "name": "stdout",
     "output_type": "stream",
     "text": [
      "4\n"
     ]
    }
   ],
   "source": [
    "n=20\n",
    "print(countMinStepsI(n))"
   ]
  },
  {
   "cell_type": "code",
   "execution_count": 8,
   "id": "08333b67",
   "metadata": {},
   "outputs": [],
   "source": [
    "import math,sys\n",
    "def minSquares(n):\n",
    "    if n==0:\n",
    "        return 0\n",
    "    ans=sys.maxsize\n",
    "    root=int(math.sqrt(n))\n",
    "    for i in range(1,root+1):\n",
    "        curans=1+minSquares(n-(i**2))\n",
    "        ans=min(ans,curans)\n",
    "    return ans    "
   ]
  },
  {
   "cell_type": "code",
   "execution_count": 17,
   "id": "b29cee9f",
   "metadata": {},
   "outputs": [
    {
     "name": "stdout",
     "output_type": "stream",
     "text": [
      "2\n"
     ]
    }
   ],
   "source": [
    "print(minSquares(2))"
   ]
  },
  {
   "cell_type": "code",
   "execution_count": 15,
   "id": "6b47a19c",
   "metadata": {},
   "outputs": [],
   "source": [
    "def minSquaresTD(dp,n):\n",
    "    if n==0:\n",
    "        return 0\n",
    "    ans=sys.maxsize\n",
    "    root=int(math.sqrt(n))\n",
    "    for i in range(1,root+1):\n",
    "        if dp[n-(i**2)]==-1:\n",
    "            curans=minSquaresTD(dp,n-(i**2))\n",
    "            dp[n-(i**2)]=curans\n",
    "            curans=curans+1\n",
    "        else:\n",
    "            curans=dp[n-(i**2)]+1\n",
    "            ans=min(ans,curans)\n",
    "    return ans        \n",
    "    "
   ]
  },
  {
   "cell_type": "code",
   "execution_count": 16,
   "id": "6e1fce9c",
   "metadata": {},
   "outputs": [
    {
     "name": "stdout",
     "output_type": "stream",
     "text": [
      "4\n"
     ]
    }
   ],
   "source": [
    "n=28\n",
    "dp=[-1 for i in range(n+1)]\n",
    "print(minSquaresTD(dp,28))"
   ]
  },
  {
   "cell_type": "code",
   "execution_count": 22,
   "id": "c274b5f6",
   "metadata": {},
   "outputs": [],
   "source": [
    "def minSquaresI(n):\n",
    "    dp=[-1 for i in range(n+1)]\n",
    "    dp[0]=0\n",
    "    for i in range(1,n+1):\n",
    "        ans=sys.maxsize\n",
    "        root=int(math.sqrt(i))\n",
    "        for j in range(1,root+1):\n",
    "            curAns=1+dp[i-(j**2)]\n",
    "            ans=min(ans,curAns)\n",
    "        dp[i]=ans\n",
    "    return dp[n]    "
   ]
  },
  {
   "cell_type": "code",
   "execution_count": 23,
   "id": "f87534a9",
   "metadata": {},
   "outputs": [
    {
     "name": "stdout",
     "output_type": "stream",
     "text": [
      "4\n"
     ]
    }
   ],
   "source": [
    "print(minSquaresI(28))"
   ]
  },
  {
   "cell_type": "code",
   "execution_count": 29,
   "id": "7575d408",
   "metadata": {},
   "outputs": [],
   "source": [
    "#longest increasing subsequence\n",
    "def lis(li,i,n):\n",
    "    if i==n:\n",
    "        return 0,0\n",
    "    including_max=1\n",
    "    for j in range(i+1,n):\n",
    "        if li[j]>=li[i]:\n",
    "            further_including_max=lis(li,j,n)[0]\n",
    "            including_max=max(including_max,1+further_including_max)\n",
    "    excluding_max=lis(li,i+1,n)[1]\n",
    "    overallmax=max(including_max,excluding_max)\n",
    "    return including_max,overallmax"
   ]
  },
  {
   "cell_type": "code",
   "execution_count": 30,
   "id": "fad87961",
   "metadata": {},
   "outputs": [
    {
     "name": "stdout",
     "output_type": "stream",
     "text": [
      "4\n"
     ]
    }
   ],
   "source": [
    "li=[6,3,1,2,7,0,9]\n",
    "print(lis(li,0,7)[1])"
   ]
  },
  {
   "cell_type": "code",
   "execution_count": 46,
   "id": "86ca2d39",
   "metadata": {},
   "outputs": [],
   "source": [
    "def lisTD(li,i,n,dp):\n",
    "    if i==n:\n",
    "        return 0,0\n",
    "    including_max=1\n",
    "    for j in range(i+1,n):\n",
    "        if li[j]>=li[i]:\n",
    "            if dp[j]==-1:\n",
    "                ans=lisTD(li,j,n,dp)\n",
    "                dp[j]=ans\n",
    "                further_including_max=ans[0]\n",
    "            else:\n",
    "                further_including_max=dp[j][0]\n",
    "            including_max=max(including_max,1+further_including_max)\n",
    "    if dp[i+1]==-1:\n",
    "        ans=lisTD(li,i+1,n,dp)\n",
    "        dp[i+1]=ans\n",
    "        excluding_max=ans[1]\n",
    "    else:\n",
    "        excluding_max=dp[i+1][1]\n",
    "    overallmax=max(including_max,excluding_max)\n",
    "    return including_max,overallmax"
   ]
  },
  {
   "cell_type": "code",
   "execution_count": 47,
   "id": "c6371e77",
   "metadata": {},
   "outputs": [
    {
     "name": "stdout",
     "output_type": "stream",
     "text": [
      "4\n"
     ]
    }
   ],
   "source": [
    "li=[6,3,1,2,7,0,9]\n",
    "n=len(li)\n",
    "dp=[-1 for i in range(n+1)]\n",
    "print(lisTD(li,0,n,dp)[1])"
   ]
  },
  {
   "cell_type": "code",
   "execution_count": 53,
   "id": "f24e111f",
   "metadata": {},
   "outputs": [],
   "source": [
    "def lisI(li,n):\n",
    "    dp=[[0 for j in range(2)] for i in range(n+1)]\n",
    "    for i in range(n-1,-1,-1):\n",
    "        including_max=1\n",
    "        for j in range(i+1,n):\n",
    "            if li[j]>li[i]:\n",
    "                including_max=max(including_max,1+dp[j][0])\n",
    "        dp[i][0]=including_max\n",
    "        excluding_max=dp[i+1][1]\n",
    "        overallmax=max(including_max,excluding_max)\n",
    "        dp[i][1]=overallmax\n",
    "    return dp[0][1]    \n",
    "        \n",
    "            "
   ]
  },
  {
   "cell_type": "code",
   "execution_count": 54,
   "id": "adcf2dcc",
   "metadata": {},
   "outputs": [
    {
     "name": "stdout",
     "output_type": "stream",
     "text": [
      "4\n"
     ]
    }
   ],
   "source": [
    "li=[6,3,1,2,7,0,9]\n",
    "print(lisI(li,7))"
   ]
  },
  {
   "cell_type": "code",
   "execution_count": 1,
   "id": "479e1c56",
   "metadata": {},
   "outputs": [],
   "source": [
    "import sys\n",
    "from sys import stdin\n",
    "MAX_VALUE = 2147483647\n",
    "\n",
    "def minCostPathhelper(input,mRows,nCols,row,col):\n",
    "    if row==mRows-1 and col==nCols-1:\n",
    "        return input[row][col]\n",
    "    if row>=mRows or col>=nCols:\n",
    "        return sys.maxsize\n",
    "    ans1=minCostPathhelper(input,mRows,nCols,row,col+1)\n",
    "    ans2=minCostPathhelper(input,mRows,nCols,row+1,col)\n",
    "    ans3=minCostPathhelper(input,mRows,nCols,row+1,col+1)\n",
    "    return input[row][col]+min(ans1,ans2,ans3)\n",
    "\n",
    "def minCostPath(input, mRows, nCols) :\n",
    "    ans=minCostPathhelper(input,mRows,nCols,0,0)\n",
    "    return ans"
   ]
  },
  {
   "cell_type": "code",
   "execution_count": 3,
   "id": "d791583f",
   "metadata": {},
   "outputs": [
    {
     "name": "stdout",
     "output_type": "stream",
     "text": [
      "30\n"
     ]
    }
   ],
   "source": [
    "cost=[[1,5,11],[8,13,12],[2,3,7],[15,16,18]]\n",
    "ans=minCostPath(cost,4,3)\n",
    "print(ans)"
   ]
  },
  {
   "cell_type": "code",
   "execution_count": 7,
   "id": "e49197b2",
   "metadata": {},
   "outputs": [],
   "source": [
    "import sys\n",
    "from sys import stdin\n",
    "MAX_VALUE = 2147483647\n",
    "\n",
    "def minCostPathTDhelper(input,mRows,nCols,row,col,dp):\n",
    "    if row==mRows-1 and col==nCols-1:\n",
    "        return input[row][col]\n",
    "    if row>=mRows or col>=nCols:\n",
    "        return sys.maxsize\n",
    "    if dp[row][col+1]==sys.maxsize:\n",
    "        ans1=minCostPathhelper(input,mRows,nCols,row,col+1)\n",
    "        dp[row][col+1]=ans1\n",
    "    else:\n",
    "        ans1=dp[row][col+1]\n",
    "    if dp[row+1][col]==sys.maxsize:\n",
    "        ans2=minCostPathhelper(input,mRows,nCols,row+1,col)\n",
    "        dp[row+1][col]=ans2\n",
    "    else:\n",
    "        ans2=dp[row+1][col]\n",
    "    if dp[row+1][col+1]==sys.maxsize:\n",
    "        ans3=minCostPathhelper(input,mRows,nCols,row+1,col+1)\n",
    "        dp[row+1][col+1]=ans3\n",
    "    else:\n",
    "        ans3=dp[row+1][col+1]\n",
    "    return input[row][col]+min(ans1,ans2,ans3)\n",
    "\n",
    "def minCostPathTD(input, mRows, nCols,dp) :\n",
    "    ans=minCostPathTDhelper(input,mRows,nCols,0,0,dp)\n",
    "    return ans"
   ]
  },
  {
   "cell_type": "code",
   "execution_count": 8,
   "id": "b4a2f21a",
   "metadata": {},
   "outputs": [
    {
     "name": "stdout",
     "output_type": "stream",
     "text": [
      "30\n"
     ]
    }
   ],
   "source": [
    "m=4#rows=4\n",
    "n=3#cols=3\n",
    "cost=[[1,5,11],[8,13,12],[2,3,7],[15,16,18]]\n",
    "dp=[[sys.maxsize for j in range(n+1)] for i in range(m+1)]\n",
    "ans=minCostPathTD(cost,4,3,dp)\n",
    "print(ans)"
   ]
  },
  {
   "cell_type": "code",
   "execution_count": 13,
   "id": "31c6439c",
   "metadata": {},
   "outputs": [],
   "source": [
    "import sys\n",
    "from sys import stdin\n",
    "MAX_VALUE = 2147483647\n",
    "def minCostPathI(input, mRows, nCols) :\n",
    "    dp=[[sys.maxsize for j in range(nCols+1)]for i in range(mRows+1)]\n",
    "    for i in range(mRows-1,-1,-1):\n",
    "        for j in range(nCols-1,-1,-1):\n",
    "            if i==mRows-1 and j==nCols-1:\n",
    "                dp[i][j]=input[i][j]\n",
    "            else:\n",
    "                ans1=dp[i][j+1]\n",
    "                ans2=dp[i+1][j]\n",
    "                ans3=dp[i+1][j+1]\n",
    "                dp[i][j]=input[i][j]+min(ans1,ans2,ans3)\n",
    "    return dp[0][0]            \n",
    "                "
   ]
  },
  {
   "cell_type": "code",
   "execution_count": 14,
   "id": "b428f5bb",
   "metadata": {},
   "outputs": [
    {
     "name": "stdout",
     "output_type": "stream",
     "text": [
      "30\n"
     ]
    }
   ],
   "source": [
    "cost=[[1,5,11],[8,13,12],[2,3,7],[15,16,18]]\n",
    "ans=minCostPathI(cost,4,3)\n",
    "print(ans)"
   ]
  },
  {
   "cell_type": "code",
   "execution_count": 28,
   "id": "82e642cd",
   "metadata": {},
   "outputs": [],
   "source": [
    "def lcs(s, t,i,j) :\n",
    "    if i==len(s) or j==len(t):\n",
    "        return 0\n",
    "    ans=0\n",
    "    if s[i]==t[j]:\n",
    "        ans=1+lcs(s,t,i+1,j+1)\n",
    "    else:\n",
    "        ans1=lcs(s,t,i+1,j)\n",
    "        ans2=lcs(s,t,i,j+1)\n",
    "        ans=max(ans1,ans2)\n",
    "    return ans    "
   ]
  },
  {
   "cell_type": "code",
   "execution_count": 43,
   "id": "c87b823d",
   "metadata": {},
   "outputs": [],
   "source": [
    "def lcsTD(s, t,i,j,dp) :\n",
    "    if i==len(s) or j==len(t):\n",
    "        return 0\n",
    "    ans=0\n",
    "    if s[i]==t[j]:\n",
    "        if dp[i+1][j+1]==-1:\n",
    "            smallAns=lcsTD(s,t,i+1,j+1,dp)\n",
    "            dp[i+1][j+1]=smallAns\n",
    "            ans=1+smallAns\n",
    "        else:\n",
    "            ans=1+dp[i+1][j+1]\n",
    "    else:\n",
    "        if dp[i+1][j]==-1:\n",
    "            ans1=lcsTD(s,t,i+1,j,dp)\n",
    "            dp[i+1][j]=ans1\n",
    "        else:\n",
    "            ans1=dp[i+1][j]\n",
    "        if dp[i][j+1]==-1:\n",
    "            ans2=lcsTD(s,t,i,j+1,dp)\n",
    "            dp[i][j+1]=ans2\n",
    "        else:\n",
    "            ans2=dp[i][j+1]\n",
    "        ans=max(ans1,ans2)\n",
    "    return ans    \n",
    "            \n",
    "        \n",
    "            \n",
    "            "
   ]
  },
  {
   "cell_type": "code",
   "execution_count": 45,
   "id": "b691acb0",
   "metadata": {},
   "outputs": [],
   "source": [
    "def lcsI(s,t):\n",
    "    m=len(s)\n",
    "    n=len(t)\n",
    "    dp=[[0 for j in range(n+1)] for i in range(m+1)]\n",
    "    for i in range(m-1,-1,-1):\n",
    "        for j in range(n-1,-1,-1):\n",
    "            if s[i]==t[j]:\n",
    "                dp[i][j]=1+dp[i+1][j+1]\n",
    "            else:\n",
    "                ans1=dp[i+1][j]\n",
    "                ans2=dp[i][j+1]\n",
    "                dp[i][j]=max(ans1,ans2)\n",
    "    return dp[0][0]    "
   ]
  },
  {
   "cell_type": "code",
   "execution_count": 35,
   "id": "9496f2e5",
   "metadata": {},
   "outputs": [
    {
     "name": "stdout",
     "output_type": "stream",
     "text": [
      "2\n"
     ]
    }
   ],
   "source": [
    "s=\"abc\"\n",
    "t=\"aec\"\n",
    "print(lcs(s,t,0,0))"
   ]
  },
  {
   "cell_type": "code",
   "execution_count": 42,
   "id": "9e60677c",
   "metadata": {},
   "outputs": [
    {
     "name": "stdout",
     "output_type": "stream",
     "text": [
      "2\n"
     ]
    }
   ],
   "source": [
    "s=\"abc\"\n",
    "t=\"aec\"\n",
    "dp=[[-1 for j in range(len(t)+1)] for i in range(len(s)+1)]\n",
    "print(lcsTD(s,t,0,0,dp))"
   ]
  },
  {
   "cell_type": "code",
   "execution_count": 46,
   "id": "02faeba6",
   "metadata": {},
   "outputs": [
    {
     "name": "stdout",
     "output_type": "stream",
     "text": [
      "2\n"
     ]
    }
   ],
   "source": [
    "s=\"abc\"\n",
    "t=\"aec\"\n",
    "print(lcsI(s,t))"
   ]
  },
  {
   "cell_type": "code",
   "execution_count": 62,
   "id": "a1dbc17e",
   "metadata": {},
   "outputs": [],
   "source": [
    "def knapsackHelper(weights,values,n,maxWeight,idx):\n",
    "    if idx==n:\n",
    "        return 0\n",
    "    i=0\n",
    "    if maxWeight>=weights[idx]:\n",
    "        i=knapsackHelper(weights,values,n,maxWeight-weights[idx],idx+1)+values[idx]\n",
    "    e=knapsackHelper(weights,values,n,maxWeight,idx+1)\n",
    "    return max(i,e)\n",
    "    \n",
    "\n",
    "def knapsack(weights, values, n, maxWeight) :\n",
    "    ans=knapsackHelper(weights,values,n,maxWeight,0)\n",
    "    return ans"
   ]
  },
  {
   "cell_type": "code",
   "execution_count": 60,
   "id": "27f885ff",
   "metadata": {},
   "outputs": [],
   "source": [
    "def knapsackHelperTD(weights,values,maxWeight,value,idx,dp):\n",
    "    if idx==n:\n",
    "        return value\n",
    "    if maxWeight==0:\n",
    "        return value\n",
    "    if dp[idx][maxWeight]!=-1:\n",
    "        return dp[idx][maxWeight]\n",
    "    i=0\n",
    "    if maxWeight>=weights[idx]:\n",
    "        i=knapsackHelper(weights,values,n,maxWeight-weights[idx],value+values[idx],idx+1)\n",
    "    e=knapsackHelper(weights,values,n,maxWeight,value,idx+1)\n",
    "    ans=max(i,e)\n",
    "    dp[idx][maxWeight]=ans\n",
    "    return ans\n",
    "    \n",
    "\n",
    "def knapsackTD(weights, values,maxWeight) :\n",
    "    n=len(weights)\n",
    "    m=maxWeight\n",
    "    dp=[[-1 for j in range(m+1)] for i in range(n+1)]\n",
    "    ans=knapsackHelperTD(weights,values,maxWeight,0,0,dp)\n",
    "    return ans"
   ]
  },
  {
   "cell_type": "code",
   "execution_count": 52,
   "id": "008e555f",
   "metadata": {},
   "outputs": [],
   "source": [
    "def knapsackI(weights, values,maxWeight) :\n",
    "    n=len(weights)\n",
    "    m=maxWeight\n",
    "    dp=[[0 for j in range(m+1)] for i in range(n+1)]\n",
    "    for i in range(n-1,-1,-1):\n",
    "        for j in range(1,m+1):\n",
    "            include=0\n",
    "            if j>=weights[i]:\n",
    "                include=dp[i+1][j-weights[i]]+values[i]\n",
    "            exclude=dp[i+1][j]\n",
    "            dp[i][j]=max(include,exclude)\n",
    "    return dp[0][maxWeight]       \n",
    "                \n",
    "                "
   ]
  },
  {
   "cell_type": "code",
   "execution_count": 53,
   "id": "022e6afe",
   "metadata": {},
   "outputs": [
    {
     "name": "stdout",
     "output_type": "stream",
     "text": [
      "70\n"
     ]
    }
   ],
   "source": [
    "val=[20,30,40]\n",
    "wt=[1,1,1]\n",
    "weight=2\n",
    "print(knapsackI(wt,val,weight))"
   ]
  },
  {
   "cell_type": "code",
   "execution_count": 61,
   "id": "65bbc25c",
   "metadata": {},
   "outputs": [
    {
     "name": "stdout",
     "output_type": "stream",
     "text": [
      "70\n"
     ]
    }
   ],
   "source": [
    "val=[20,30,40]\n",
    "wt=[1,1,1]\n",
    "weight=2\n",
    "print(knapsackTD(wt,val,weight))"
   ]
  },
  {
   "cell_type": "code",
   "execution_count": 63,
   "id": "88245798",
   "metadata": {},
   "outputs": [
    {
     "name": "stdout",
     "output_type": "stream",
     "text": [
      "70\n"
     ]
    }
   ],
   "source": [
    "val=[20,30,40]\n",
    "wt=[1,1,1]\n",
    "weight=2\n",
    "print(knapsack(wt,val,3,weight))"
   ]
  },
  {
   "cell_type": "code",
   "execution_count": 64,
   "id": "dc193f33",
   "metadata": {},
   "outputs": [],
   "source": [
    "def mcmHelper(arr,si,ei):\n",
    "    if ei==si+1:\n",
    "        return 0\n",
    "    min_val=sys.maxsize\n",
    "    for split in range(si+1,ei,1):\n",
    "        fp=mcmHelper(arr,si,split)\n",
    "        sp=mcmHelper(arr,split,ei)\n",
    "        sw=arr[si]*arr[split]*arr[ei]\n",
    "        ans=sw+sp+fp\n",
    "        if min_val>ans:\n",
    "            min_val=ans\n",
    "    return min_val\n",
    "\n",
    "def mcm(p,n):\n",
    "    ans=mcmHelper(p,0,n)\n",
    "    return ans\n"
   ]
  },
  {
   "cell_type": "code",
   "execution_count": 73,
   "id": "018c7379",
   "metadata": {},
   "outputs": [],
   "source": [
    "def mcmHelperTD(arr,si,ei,dp):\n",
    "    if ei==si+1:\n",
    "        return 0\n",
    "    if dp[si][ei]!=0:\n",
    "        return dp[si][ei]\n",
    "    min_val=sys.maxsize\n",
    "    for split in range(si+1,ei,1):\n",
    "        fp=mcmHelperTD(arr,si,split,dp)\n",
    "        sp=mcmHelperTD(arr,split,ei,dp)\n",
    "        sw=arr[si]*arr[split]*arr[ei]\n",
    "        ans=sw+sp+fp\n",
    "        if min_val>ans:\n",
    "            min_val=ans\n",
    "    dp[si][ei]=min_val        \n",
    "    return min_val\n",
    "\n",
    "def mcmTD(p,n):\n",
    "    dp=[[0 for j in range(n+1)] for i in range(n+1)]\n",
    "    ans=mcmHelperTD(p,0,n,dp)\n",
    "    return ans"
   ]
  },
  {
   "cell_type": "code",
   "execution_count": 74,
   "id": "58472c34",
   "metadata": {},
   "outputs": [
    {
     "name": "stdout",
     "output_type": "stream",
     "text": [
      "8000\n"
     ]
    }
   ],
   "source": [
    "p=[10,15,20,25]\n",
    "n=3\n",
    "print(mcmTD(p,n))"
   ]
  },
  {
   "cell_type": "code",
   "execution_count": 75,
   "id": "45998757",
   "metadata": {},
   "outputs": [
    {
     "name": "stdout",
     "output_type": "stream",
     "text": [
      "abc\n",
      "abc \n",
      "bc \n",
      "ac \n",
      "c \n",
      "ab \n",
      "b \n",
      "a \n",
      " \n"
     ]
    }
   ],
   "source": [
    "def subsequences(string):\n",
    "    if len(string)==0:\n",
    "        li=[]\n",
    "        li.append(\" \")\n",
    "        return li\n",
    "    ch=string[0]\n",
    "    rr=subsequences(string[1:])\n",
    "    mr=[]\n",
    "    for ele in rr:\n",
    "        mr.append(ch+ele)\n",
    "        mr.append(ele)\n",
    "    return mr    \n",
    "        \n",
    "\n",
    "string = input()\n",
    "ans = subsequences(string)\n",
    "for ele in ans:\n",
    "    print(ele)\n"
   ]
  },
  {
   "cell_type": "code",
   "execution_count": 76,
   "id": "19f3cddb",
   "metadata": {},
   "outputs": [
    {
     "name": "stdout",
     "output_type": "stream",
     "text": [
      "23\n",
      " ad\n",
      " bd\n",
      " cd\n",
      " ae\n",
      " be\n",
      " ce\n",
      " af\n",
      " bf\n",
      " cf\n"
     ]
    }
   ],
   "source": [
    "\n",
    "def getSequence(n):\n",
    "    if n==2:\n",
    "        return \"abc\"\n",
    "    if n==3:\n",
    "        return \"def\"\n",
    "    if n==4:\n",
    "        return \"ghi\"\n",
    "    if n==5:\n",
    "        return \"jkl\"\n",
    "    if n==6:\n",
    "        return \"mno\"\n",
    "    if n==7:\n",
    "        return \"pqrs\"\n",
    "    if n==8:\n",
    "        return \"tuv\"\n",
    "    if n==9:\n",
    "        return \"wxyz\"\n",
    "\n",
    "\n",
    "\n",
    "def keypad(n):\n",
    "    if n==0:\n",
    "        li=[]\n",
    "        li.append(\" \")\n",
    "        return li\n",
    "    rem=n%10\n",
    "    s=getSequence(rem)\n",
    "    rr=keypad(n//10)\n",
    "    mr=[]\n",
    "    for c in s:\n",
    "        for ele in rr:\n",
    "            mr.append(ele+c)\n",
    "    return mr        \n",
    "        \n",
    "    \n",
    "    \n",
    "\n",
    "n = int(input())\n",
    "ans = keypad(n)\n",
    "for s in ans:\n",
    "    print(s)"
   ]
  },
  {
   "cell_type": "code",
   "execution_count": 77,
   "id": "a984d66a",
   "metadata": {},
   "outputs": [
    {
     "name": "stdout",
     "output_type": "stream",
     "text": [
      "23\n",
      "ad\n",
      "bd\n",
      "cd\n",
      "ae\n",
      "be\n",
      "ce\n",
      "af\n",
      "bf\n",
      "cf\n"
     ]
    }
   ],
   "source": [
    "    \n",
    "options = [\"\", \"\", \"abc\", \"def\", \"ghi\", \"jkl\", \"mno\", \"pqrs\", \"tuv\", \"wxyz\"]\n",
    "\n",
    "def keypad(n):\n",
    "    if n==0:\n",
    "        output = [\"\"]\n",
    "        return output\n",
    "    smallOutput = keypad(n//10)\n",
    "    currDArray = options[n%10]\n",
    "    output = []\n",
    "    for d in currDArray:\n",
    "        for s in smallOutput:\n",
    "            output.append(s+d)\n",
    "    return output\n",
    "\n",
    "n = int(input())\n",
    "ans = keypad(n)\n",
    "for s in ans:\n",
    "    print(s)"
   ]
  },
  {
   "cell_type": "code",
   "execution_count": 78,
   "id": "c4631c58",
   "metadata": {},
   "outputs": [
    {
     "name": "stdout",
     "output_type": "stream",
     "text": [
      "abc\n",
      "abc\n",
      "ab\n",
      "ac\n",
      "a\n",
      "bc\n",
      "b\n",
      "c\n",
      "\n"
     ]
    }
   ],
   "source": [
    "def printSubSeq(str,ans):\n",
    "    if len(str)==0:\n",
    "        print(ans)\n",
    "        return\n",
    "    printSubSeq(str[1:],ans+str[0])#include\n",
    "    printSubSeq(str[1:],ans)#exclude\n",
    "    \n",
    "    \n",
    "\n",
    "\n",
    "\n",
    "\n",
    "\n",
    "str=input()\n",
    "printSubSeq(str,\"\")"
   ]
  },
  {
   "cell_type": "code",
   "execution_count": 1,
   "id": "510d5198",
   "metadata": {},
   "outputs": [
    {
     "name": "stdout",
     "output_type": "stream",
     "text": [
      "23\n",
      "ad\n",
      "bd\n",
      "cd\n",
      "ae\n",
      "be\n",
      "ce\n",
      "af\n",
      "bf\n",
      "cf\n"
     ]
    }
   ],
   "source": [
    "options = [\"\", \"\", \"abc\", \"def\", \"ghi\", \"jkl\", \"mno\", \"pqrs\", \"tuv\", \"wxyz\"]\n",
    "def keypad(n,ans):\n",
    "    if n==0:\n",
    "        print(ans)\n",
    "    s=options[n%10]\n",
    "    for c in s:\n",
    "        keypad(n//10,c+ans)\n",
    "\n",
    "n = int(input())\n",
    "keypad(n,\"\")"
   ]
  },
  {
   "cell_type": "code",
   "execution_count": null,
   "id": "0023733d",
   "metadata": {},
   "outputs": [],
   "source": [
    "def printSubset(arr, k, lst):\n",
    "    n=len(arr)\n",
    "    if n==0:\n",
    "        return\n",
    "    if n==1:\n",
    "        if arr[0]==k:\n",
    "            print(k,*lst)\n",
    "            return\n",
    "    printSubset(arr[:-1], k, lst) #exclusion\n",
    "    printSubset(arr[:-1], k-arr[-1], [arr[-1]]+lst) #inclusion\n",
    "    if arr[-1]==k:\n",
    "        print(k, *lst)\n",
    "\n",
    "def printSubsetMain(arr, k):\n",
    "    printSubset(arr, k, [])\n",
    "\n",
    "n=int(input())\n",
    "arr=list(int(i) for i in input().strip().split(' '))\n",
    "k=int(input())\n",
    "printSubsetMain(arr, k)"
   ]
  },
  {
   "cell_type": "code",
   "execution_count": null,
   "id": "21ad5e3f",
   "metadata": {},
   "outputs": [],
   "source": [
    "import sys\n",
    "sys.setrecursionlimit(10 ** 8)\n",
    "\n",
    "def subsetsSumKHelper(arr, startIndex, k) :\n",
    "    if startIndex == len(arr) :\n",
    "        if k == 0 :\n",
    "            return [list()]\n",
    "        else :\n",
    "            return list()\n",
    "        \n",
    "    smallOutput1 = subsetsSumKHelper(arr, startIndex + 1, k) \n",
    "    smallOutput2 = subsetsSumKHelper(arr, startIndex + 1, k - arr[startIndex]) \n",
    "    \n",
    "    output = (len(smallOutput1) + len(smallOutput2)) * [0]\n",
    "    \n",
    "    index = 0\n",
    "    for i in range(len(smallOutput1)) :\n",
    "        output[index] = smallOutput1[i]\n",
    "        index += 1\n",
    "        \n",
    "    for i in range(len(smallOutput2)) :\n",
    "        output[index] = (len(smallOutput2[i]) + 1) * [0]\n",
    "        output[index][0]= arr[startIndex]\n",
    "        \n",
    "        for j in range(len(smallOutput2[i])) :\n",
    "            output[index][j+1] = smallOutput2[i][j]\n",
    "            \n",
    "        index += 1\n",
    "        \n",
    "    return output\n",
    "        \n",
    "\n",
    "def subsetsSumK(arr, k) :\n",
    "    return subsetsSumKHelper(arr, 0, k)\n",
    "\n",
    "        \n",
    "\n",
    "\n",
    "\n",
    "\n",
    "\n",
    "\n",
    "\n",
    "\n",
    "\n",
    "\n",
    "\n",
    "\n",
    "\n",
    "\n",
    "\n",
    "\n",
    "\n",
    "\n",
    "\n",
    "\n",
    "\n",
    "\n",
    "#taking input\n",
    "def takeInput() :\n",
    "    n = int(input().strip())\n",
    "\n",
    "    if n == 0 :\n",
    "        return list(), 0\n",
    "\n",
    "    arr = [int(element) for element in list(input().strip().split(\" \"))]\n",
    "    return arr, n\n",
    "\n",
    "\n",
    "#printing the list of lists\n",
    "def printListOfList(liOfLi) :\n",
    "    for li in liOfLi :\n",
    "        for elem in li :\n",
    "            print(elem, end = \" \")\n",
    "        print()\n",
    "\n",
    "#main\n",
    "arr, n = takeInput()\n",
    "\n",
    "if n != 0 :\n",
    "    k = int(input().strip())\n",
    "    liOfLi = subsetsSumK(arr, k)\n",
    "\n",
    "    printListOfList(liOfLi)\n",
    "\n"
   ]
  },
  {
   "cell_type": "code",
   "execution_count": null,
   "id": "1c5f54e2",
   "metadata": {},
   "outputs": [],
   "source": [
    "## Read input as specified in the question.\n",
    "## Print output as specified in the question.\n",
    "def subsetOfArray(n,arr,idx,v):\n",
    "    if idx==n:\n",
    "        for i in range(len(v)):\n",
    "            print(v[i],end=' ')\n",
    "        print()\n",
    "        return\n",
    "    v.append(arr[idx])\n",
    "    subsetOfArray(n,arr,idx+1,v)\n",
    "    v.pop()\n",
    "    subsetOfArray(n,arr,idx+1,v)\n",
    "\n",
    "\n",
    "\n",
    "\n",
    "\n",
    "\n",
    "n=int(input())\n",
    "arr=[int(x) for x in input().split()]\n",
    "v=[]\n",
    "subsetOfArray(n,arr,0,v)\n"
   ]
  },
  {
   "cell_type": "code",
   "execution_count": null,
   "id": "191d9a5e",
   "metadata": {},
   "outputs": [],
   "source": [
    "def permutations(string):\n",
    "    if len(string)==0:\n",
    "        br=[]\n",
    "        br.append(\" \")\n",
    "        return br\n",
    "    rr=permutations(string[1:])\n",
    "    mr=[]\n",
    "    for ele in rr:\n",
    "        for i in range(1,len(ele)+1):\n",
    "            mr.append(ele[0:i]+string[0]+ele[i:])       \n",
    "    return mr        \n",
    "\n",
    "\n",
    "string = input()\n",
    "ans = permutations(string)\n",
    "for s in ans:\n",
    "    print(s)"
   ]
  },
  {
   "cell_type": "code",
   "execution_count": null,
   "id": "89da356f",
   "metadata": {},
   "outputs": [],
   "source": [
    "def permutations(string):\n",
    "    if len(string)==0:\n",
    "        br=[]\n",
    "        br.append(\" \")\n",
    "        return br\n",
    "    rr=permutations(string[1:])\n",
    "    mr=[]\n",
    "    for ele in rr:\n",
    "        for i in range(0,len(ele)):\n",
    "            mr.append(ele[0:i]+string[0]+ele[i:])       \n",
    "    return mr        \n",
    "\n",
    "\n",
    "string = input()\n",
    "ans = permutations(string)\n",
    "ans.sort(key=lambda x:x[0:2]) \n",
    "for s in ans:\n",
    "    print(s)\n"
   ]
  },
  {
   "cell_type": "code",
   "execution_count": null,
   "id": "c73b35f4",
   "metadata": {},
   "outputs": [],
   "source": []
  }
 ],
 "metadata": {
  "kernelspec": {
   "display_name": "Python 3 (ipykernel)",
   "language": "python",
   "name": "python3"
  },
  "language_info": {
   "codemirror_mode": {
    "name": "ipython",
    "version": 3
   },
   "file_extension": ".py",
   "mimetype": "text/x-python",
   "name": "python",
   "nbconvert_exporter": "python",
   "pygments_lexer": "ipython3",
   "version": "3.9.7"
  }
 },
 "nbformat": 4,
 "nbformat_minor": 5
}
