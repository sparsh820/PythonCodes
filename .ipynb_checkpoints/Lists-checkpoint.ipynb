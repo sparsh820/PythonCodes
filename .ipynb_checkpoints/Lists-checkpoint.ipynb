{
 "cells": [
  {
   "cell_type": "markdown",
   "id": "601fbc49",
   "metadata": {},
   "source": [
    "### Create a list"
   ]
  },
  {
   "cell_type": "code",
   "execution_count": 1,
   "id": "655bd33a",
   "metadata": {},
   "outputs": [],
   "source": [
    "li=[]"
   ]
  },
  {
   "cell_type": "code",
   "execution_count": 2,
   "id": "619f9a2c",
   "metadata": {},
   "outputs": [
    {
     "data": {
      "text/plain": [
       "list"
      ]
     },
     "execution_count": 2,
     "metadata": {},
     "output_type": "execute_result"
    }
   ],
   "source": [
    "type(li)"
   ]
  },
  {
   "cell_type": "code",
   "execution_count": 1,
   "id": "c513839d",
   "metadata": {},
   "outputs": [
    {
     "data": {
      "text/plain": [
       "[1, 2, 3]"
      ]
     },
     "execution_count": 1,
     "metadata": {},
     "output_type": "execute_result"
    }
   ],
   "source": [
    "li=[1,2,3]\n",
    "li"
   ]
  },
  {
   "cell_type": "code",
   "execution_count": 6,
   "id": "8f058a2e",
   "metadata": {},
   "outputs": [
    {
     "data": {
      "text/plain": [
       "[1, 2, 'parikh', 3.4]"
      ]
     },
     "execution_count": 6,
     "metadata": {},
     "output_type": "execute_result"
    }
   ],
   "source": [
    "#heterogenous list\n",
    "li=[1,2,\"parikh\",3.4] \n",
    "li"
   ]
  },
  {
   "cell_type": "code",
   "execution_count": 7,
   "id": "b41b8764",
   "metadata": {},
   "outputs": [
    {
     "data": {
      "text/plain": [
       "[1, 2, 'parikh', 'Rohan']"
      ]
     },
     "execution_count": 7,
     "metadata": {},
     "output_type": "execute_result"
    }
   ],
   "source": [
    "li[3]=\"Rohan\"\n",
    "li"
   ]
  },
  {
   "cell_type": "markdown",
   "id": "237e1f1f",
   "metadata": {},
   "source": [
    "### Slicing of a List"
   ]
  },
  {
   "cell_type": "code",
   "execution_count": 8,
   "id": "7902e4a7",
   "metadata": {},
   "outputs": [
    {
     "data": {
      "text/plain": [
       "[2, 'parikh']"
      ]
     },
     "execution_count": 8,
     "metadata": {},
     "output_type": "execute_result"
    }
   ],
   "source": [
    "# range [1,3)\n",
    "li[1:3]"
   ]
  },
  {
   "cell_type": "code",
   "execution_count": 9,
   "id": "71d8e25b",
   "metadata": {},
   "outputs": [
    {
     "data": {
      "text/plain": [
       "[2, 'parikh', 'Rohan']"
      ]
     },
     "execution_count": 9,
     "metadata": {},
     "output_type": "execute_result"
    }
   ],
   "source": [
    "#from first index all values\n",
    "li[1:]"
   ]
  },
  {
   "cell_type": "markdown",
   "id": "ffc04151",
   "metadata": {},
   "source": [
    "### Append element to the last"
   ]
  },
  {
   "cell_type": "code",
   "execution_count": 11,
   "id": "fa285f43",
   "metadata": {},
   "outputs": [
    {
     "data": {
      "text/plain": [
       "[1, 2, 'parikh', 'Rohan', 'Ankush', 'Ankush']"
      ]
     },
     "execution_count": 11,
     "metadata": {},
     "output_type": "execute_result"
    }
   ],
   "source": [
    "#add element to the last\n",
    "li.append(\"Ankush\")\n",
    "li"
   ]
  },
  {
   "cell_type": "code",
   "execution_count": 13,
   "id": "704bbf23",
   "metadata": {},
   "outputs": [
    {
     "data": {
      "text/plain": [
       "[1, 2, 10, 'parikh', 'Rohan', 'Ankush', 'Ankush']"
      ]
     },
     "execution_count": 13,
     "metadata": {},
     "output_type": "execute_result"
    }
   ],
   "source": [
    "#insert at specific position\n",
    "li.insert(2,10)\n",
    "li\n"
   ]
  },
  {
   "cell_type": "code",
   "execution_count": 15,
   "id": "7b701025",
   "metadata": {},
   "outputs": [
    {
     "data": {
      "text/plain": [
       "[1, 2, 10, 'parikh', 'Rohan', 'Ankush', 'Ankush', 'karan', 'karan']"
      ]
     },
     "execution_count": 15,
     "metadata": {},
     "output_type": "execute_result"
    }
   ],
   "source": [
    "li.insert(10,\"karan\")\n",
    "li"
   ]
  },
  {
   "cell_type": "code",
   "execution_count": 16,
   "id": "0935b021",
   "metadata": {},
   "outputs": [
    {
     "data": {
      "text/plain": [
       "[1,\n",
       " 2,\n",
       " 10,\n",
       " 'parikh',\n",
       " 'Rohan',\n",
       " 'Ankush',\n",
       " 'Ankush',\n",
       " 'karan',\n",
       " 'karan',\n",
       " [9, 10, 11]]"
      ]
     },
     "execution_count": 16,
     "metadata": {},
     "output_type": "execute_result"
    }
   ],
   "source": [
    "li.append([9,10,11])\n",
    "li"
   ]
  },
  {
   "cell_type": "code",
   "execution_count": 19,
   "id": "d705affe",
   "metadata": {},
   "outputs": [
    {
     "data": {
      "text/plain": [
       "[1,\n",
       " 2,\n",
       " 10,\n",
       " 'parikh',\n",
       " 'Rohan',\n",
       " 'Ankush',\n",
       " 'Ankush',\n",
       " 'karan',\n",
       " 'karan',\n",
       " [9, 10, 11],\n",
       " 9,\n",
       " 10,\n",
       " 11,\n",
       " 9,\n",
       " 10,\n",
       " 11,\n",
       " 9,\n",
       " 10,\n",
       " 11]"
      ]
     },
     "execution_count": 19,
     "metadata": {},
     "output_type": "execute_result"
    }
   ],
   "source": [
    "li.extend([9,10,11])\n",
    "li"
   ]
  },
  {
   "cell_type": "markdown",
   "id": "4759781b",
   "metadata": {},
   "source": [
    "### Removing elements from the list"
   ]
  },
  {
   "cell_type": "code",
   "execution_count": 20,
   "id": "48284686",
   "metadata": {},
   "outputs": [
    {
     "data": {
      "text/plain": [
       "[1,\n",
       " 10,\n",
       " 'parikh',\n",
       " 'Rohan',\n",
       " 'Ankush',\n",
       " 'Ankush',\n",
       " 'karan',\n",
       " 'karan',\n",
       " [9, 10, 11],\n",
       " 9,\n",
       " 10,\n",
       " 11,\n",
       " 9,\n",
       " 10,\n",
       " 11,\n",
       " 9,\n",
       " 10,\n",
       " 11]"
      ]
     },
     "execution_count": 20,
     "metadata": {},
     "output_type": "execute_result"
    }
   ],
   "source": [
    "li.remove(2)\n",
    "li"
   ]
  },
  {
   "cell_type": "code",
   "execution_count": 21,
   "id": "a91ac8f4",
   "metadata": {},
   "outputs": [
    {
     "data": {
      "text/plain": [
       "[1,\n",
       " 10,\n",
       " 'parikh',\n",
       " 'Rohan',\n",
       " 'Ankush',\n",
       " 'Ankush',\n",
       " 'karan',\n",
       " 'karan',\n",
       " [9, 10, 11],\n",
       " 9,\n",
       " 10,\n",
       " 11,\n",
       " 9,\n",
       " 10,\n",
       " 11,\n",
       " 9,\n",
       " 10,\n",
       " 11,\n",
       " 5]"
      ]
     },
     "execution_count": 21,
     "metadata": {},
     "output_type": "execute_result"
    }
   ],
   "source": [
    "li.append(5)\n",
    "li"
   ]
  },
  {
   "cell_type": "code",
   "execution_count": 2,
   "id": "c541efae",
   "metadata": {},
   "outputs": [
    {
     "data": {
      "text/plain": [
       "[1, 2, 5, 3]"
      ]
     },
     "execution_count": 2,
     "metadata": {},
     "output_type": "execute_result"
    }
   ],
   "source": [
    "li.insert(2,5)\n",
    "li"
   ]
  },
  {
   "cell_type": "code",
   "execution_count": 25,
   "id": "0b4c5d31",
   "metadata": {},
   "outputs": [
    {
     "data": {
      "text/plain": [
       "[1,\n",
       " 10,\n",
       " 'parikh',\n",
       " 'Rohan',\n",
       " 'Ankush',\n",
       " 'Ankush',\n",
       " 'karan',\n",
       " 'karan',\n",
       " [9, 10, 11],\n",
       " 9,\n",
       " 10,\n",
       " 11,\n",
       " 9,\n",
       " 10,\n",
       " 11,\n",
       " 9,\n",
       " 10,\n",
       " 11,\n",
       " 5]"
      ]
     },
     "execution_count": 25,
     "metadata": {},
     "output_type": "execute_result"
    }
   ],
   "source": [
    "li.remove(5)\n",
    "li"
   ]
  },
  {
   "cell_type": "code",
   "execution_count": 27,
   "id": "fa201d6b",
   "metadata": {},
   "outputs": [
    {
     "data": {
      "text/plain": [
       "11"
      ]
     },
     "execution_count": 27,
     "metadata": {},
     "output_type": "execute_result"
    }
   ],
   "source": [
    "li.pop()"
   ]
  },
  {
   "cell_type": "code",
   "execution_count": 28,
   "id": "0e9599e1",
   "metadata": {},
   "outputs": [
    {
     "data": {
      "text/plain": [
       "10"
      ]
     },
     "execution_count": 28,
     "metadata": {},
     "output_type": "execute_result"
    }
   ],
   "source": [
    "li.pop()"
   ]
  },
  {
   "cell_type": "code",
   "execution_count": 29,
   "id": "a9cdb75a",
   "metadata": {},
   "outputs": [
    {
     "data": {
      "text/plain": [
       "9"
      ]
     },
     "execution_count": 29,
     "metadata": {},
     "output_type": "execute_result"
    }
   ],
   "source": [
    "li.pop()"
   ]
  },
  {
   "cell_type": "code",
   "execution_count": 30,
   "id": "eeb0c6fb",
   "metadata": {},
   "outputs": [
    {
     "data": {
      "text/plain": [
       "[1,\n",
       " 10,\n",
       " 'parikh',\n",
       " 'Rohan',\n",
       " 'Ankush',\n",
       " 'Ankush',\n",
       " 'karan',\n",
       " 'karan',\n",
       " [9, 10, 11],\n",
       " 9,\n",
       " 10,\n",
       " 11,\n",
       " 9,\n",
       " 10,\n",
       " 11]"
      ]
     },
     "execution_count": 30,
     "metadata": {},
     "output_type": "execute_result"
    }
   ],
   "source": [
    "li"
   ]
  },
  {
   "cell_type": "code",
   "execution_count": 31,
   "id": "34063ee0",
   "metadata": {},
   "outputs": [
    {
     "data": {
      "text/plain": [
       "'parikh'"
      ]
     },
     "execution_count": 31,
     "metadata": {},
     "output_type": "execute_result"
    }
   ],
   "source": [
    "li.pop(2)"
   ]
  },
  {
   "cell_type": "code",
   "execution_count": 32,
   "id": "256fe586",
   "metadata": {},
   "outputs": [
    {
     "data": {
      "text/plain": [
       "14"
      ]
     },
     "execution_count": 32,
     "metadata": {},
     "output_type": "execute_result"
    }
   ],
   "source": [
    "len(li)"
   ]
  },
  {
   "cell_type": "code",
   "execution_count": 5,
   "id": "a58c9589",
   "metadata": {},
   "outputs": [
    {
     "name": "stdout",
     "output_type": "stream",
     "text": [
      "[5, 2, 8]\n"
     ]
    }
   ],
   "source": [
    "li = [5,2,6,8]\n",
    "li.pop(2)\n",
    "print(li)"
   ]
  },
  {
   "cell_type": "code",
   "execution_count": 35,
   "id": "148ca0a9",
   "metadata": {},
   "outputs": [],
   "source": [
    "X=[1,2,\"Parikh\",9,10,11,\"Ankush\"]"
   ]
  },
  {
   "cell_type": "code",
   "execution_count": 36,
   "id": "d0d661e0",
   "metadata": {},
   "outputs": [
    {
     "name": "stdout",
     "output_type": "stream",
     "text": [
      "1\n",
      "2\n",
      "Parikh\n",
      "9\n",
      "10\n",
      "11\n",
      "Ankush\n"
     ]
    }
   ],
   "source": [
    "for i in range(len(X)):\n",
    "    print(X[i])"
   ]
  },
  {
   "cell_type": "code",
   "execution_count": 37,
   "id": "7beb5821",
   "metadata": {},
   "outputs": [
    {
     "name": "stdout",
     "output_type": "stream",
     "text": [
      "Parikh\n",
      "9\n",
      "10\n",
      "11\n",
      "Ankush\n"
     ]
    }
   ],
   "source": [
    "for i in range (2,len(X)):\n",
    "    print(X[i])"
   ]
  },
  {
   "cell_type": "code",
   "execution_count": 39,
   "id": "2b124a37",
   "metadata": {},
   "outputs": [
    {
     "name": "stdout",
     "output_type": "stream",
     "text": [
      "1\n",
      "2\n",
      "Parikh\n",
      "9\n",
      "10\n",
      "11\n",
      "Ankush\n"
     ]
    }
   ],
   "source": [
    "#EFL\n",
    "for ele in X:\n",
    "    print(ele)"
   ]
  },
  {
   "cell_type": "code",
   "execution_count": 40,
   "id": "55291107",
   "metadata": {},
   "outputs": [
    {
     "name": "stdout",
     "output_type": "stream",
     "text": [
      "Parikh\n",
      "9\n",
      "10\n",
      "11\n",
      "Ankush\n"
     ]
    }
   ],
   "source": [
    "#slicing\n",
    "for ele in X[2:]:\n",
    "    print(ele)"
   ]
  },
  {
   "cell_type": "code",
   "execution_count": 41,
   "id": "6e4939ad",
   "metadata": {},
   "outputs": [
    {
     "name": "stdout",
     "output_type": "stream",
     "text": [
      "Parikh\n",
      "9\n"
     ]
    }
   ],
   "source": [
    "\n",
    "for ele in X[2:4]:\n",
    "    print(ele)"
   ]
  },
  {
   "cell_type": "markdown",
   "id": "47e4bf03",
   "metadata": {},
   "source": [
    "### Negative Indexing and Sequencing"
   ]
  },
  {
   "cell_type": "code",
   "execution_count": 42,
   "id": "1644ad74",
   "metadata": {},
   "outputs": [],
   "source": [
    "Y=[1,2,3,4,5]"
   ]
  },
  {
   "cell_type": "code",
   "execution_count": 43,
   "id": "7ab501a0",
   "metadata": {},
   "outputs": [
    {
     "data": {
      "text/plain": [
       "1"
      ]
     },
     "execution_count": 43,
     "metadata": {},
     "output_type": "execute_result"
    }
   ],
   "source": [
    "Y[0]"
   ]
  },
  {
   "cell_type": "code",
   "execution_count": 44,
   "id": "1c71f0c4",
   "metadata": {},
   "outputs": [
    {
     "data": {
      "text/plain": [
       "5"
      ]
     },
     "execution_count": 44,
     "metadata": {},
     "output_type": "execute_result"
    }
   ],
   "source": [
    "#last element\n",
    "Y[-1]"
   ]
  },
  {
   "cell_type": "code",
   "execution_count": 45,
   "id": "14d38853",
   "metadata": {},
   "outputs": [
    {
     "data": {
      "text/plain": [
       "4"
      ]
     },
     "execution_count": 45,
     "metadata": {},
     "output_type": "execute_result"
    }
   ],
   "source": [
    "Y[-2]"
   ]
  },
  {
   "cell_type": "code",
   "execution_count": 48,
   "id": "32b4abce",
   "metadata": {},
   "outputs": [
    {
     "data": {
      "text/plain": [
       "[2, 3, 4, 5]"
      ]
     },
     "execution_count": 48,
     "metadata": {},
     "output_type": "execute_result"
    }
   ],
   "source": [
    "#similar to range(start,stop,step) ie Y[startidx,stopidx,step]\n",
    "Y[1:5:1]"
   ]
  },
  {
   "cell_type": "code",
   "execution_count": 49,
   "id": "ccdd9071",
   "metadata": {},
   "outputs": [
    {
     "data": {
      "text/plain": [
       "[2, 3]"
      ]
     },
     "execution_count": 49,
     "metadata": {},
     "output_type": "execute_result"
    }
   ],
   "source": [
    "Y[1:3:1]"
   ]
  },
  {
   "cell_type": "code",
   "execution_count": 50,
   "id": "c32e01bd",
   "metadata": {},
   "outputs": [
    {
     "data": {
      "text/plain": [
       "[2, 4]"
      ]
     },
     "execution_count": 50,
     "metadata": {},
     "output_type": "execute_result"
    }
   ],
   "source": [
    "Y[1:5:2]"
   ]
  },
  {
   "cell_type": "code",
   "execution_count": 51,
   "id": "dda33430",
   "metadata": {},
   "outputs": [
    {
     "data": {
      "text/plain": [
       "[2, 4]"
      ]
     },
     "execution_count": 51,
     "metadata": {},
     "output_type": "execute_result"
    }
   ],
   "source": [
    "#by default end is length of list and step is 1\n",
    "Y[1::2] "
   ]
  },
  {
   "cell_type": "code",
   "execution_count": 52,
   "id": "740598a2",
   "metadata": {},
   "outputs": [
    {
     "data": {
      "text/plain": [
       "[1, 2]"
      ]
     },
     "execution_count": 52,
     "metadata": {},
     "output_type": "execute_result"
    }
   ],
   "source": [
    "#by default start is 0\n",
    "Y[:2]"
   ]
  },
  {
   "cell_type": "code",
   "execution_count": 53,
   "id": "1a0642d5",
   "metadata": {},
   "outputs": [
    {
     "data": {
      "text/plain": [
       "[5]"
      ]
     },
     "execution_count": 53,
     "metadata": {},
     "output_type": "execute_result"
    }
   ],
   "source": [
    "Y[-1:]"
   ]
  },
  {
   "cell_type": "code",
   "execution_count": 54,
   "id": "28ad8879",
   "metadata": {},
   "outputs": [
    {
     "data": {
      "text/plain": [
       "[3, 4]"
      ]
     },
     "execution_count": 54,
     "metadata": {},
     "output_type": "execute_result"
    }
   ],
   "source": [
    "Y[-3:-1]"
   ]
  },
  {
   "cell_type": "markdown",
   "id": "b426d4e8",
   "metadata": {},
   "source": [
    "### Input in List(Line seperated)"
   ]
  },
  {
   "cell_type": "code",
   "execution_count": 55,
   "id": "c20afaf8",
   "metadata": {},
   "outputs": [
    {
     "name": "stdout",
     "output_type": "stream",
     "text": [
      "5\n",
      "1\n",
      "2\n",
      "3\n",
      "4\n",
      "5\n"
     ]
    }
   ],
   "source": [
    "##IN A LOOP\n",
    "Z=[]\n",
    "n=int(input())\n",
    "for i in range(n):\n",
    "    curr=int(input())\n",
    "    Z.append(curr)\n",
    "    "
   ]
  },
  {
   "cell_type": "code",
   "execution_count": 56,
   "id": "2ae4c244",
   "metadata": {},
   "outputs": [
    {
     "data": {
      "text/plain": [
       "[1, 2, 3, 4, 5]"
      ]
     },
     "execution_count": 56,
     "metadata": {},
     "output_type": "execute_result"
    }
   ],
   "source": [
    "Z"
   ]
  },
  {
   "cell_type": "code",
   "execution_count": 57,
   "id": "cf7f48ef",
   "metadata": {},
   "outputs": [
    {
     "name": "stdout",
     "output_type": "stream",
     "text": [
      "5\n",
      "1\n",
      "2\n",
      "3\n",
      "4\n",
      "5\n",
      "['1', '2', '3', '4', '5']\n"
     ]
    }
   ],
   "source": [
    "n = int(input())\n",
    "li = []\n",
    "for i in range(n):\n",
    "    li.append(input())\n",
    "print(li)"
   ]
  },
  {
   "cell_type": "markdown",
   "id": "4151a05f",
   "metadata": {},
   "source": [
    "### Space Seperated Input"
   ]
  },
  {
   "cell_type": "code",
   "execution_count": 58,
   "id": "334414af",
   "metadata": {},
   "outputs": [
    {
     "name": "stdout",
     "output_type": "stream",
     "text": [
      "1 2 3 4 5\n"
     ]
    }
   ],
   "source": [
    "#IN A STRING\n",
    "str=input()"
   ]
  },
  {
   "cell_type": "code",
   "execution_count": 59,
   "id": "3e018da0",
   "metadata": {},
   "outputs": [
    {
     "data": {
      "text/plain": [
       "'1 2 3 4 5'"
      ]
     },
     "execution_count": 59,
     "metadata": {},
     "output_type": "execute_result"
    }
   ],
   "source": [
    "str"
   ]
  },
  {
   "cell_type": "code",
   "execution_count": 63,
   "id": "2a1d1b9f",
   "metadata": {},
   "outputs": [],
   "source": [
    "str_split=str.split(' ')"
   ]
  },
  {
   "cell_type": "code",
   "execution_count": 64,
   "id": "cefe8407",
   "metadata": {},
   "outputs": [
    {
     "data": {
      "text/plain": [
       "['1', '2', '3', '4', '5']"
      ]
     },
     "execution_count": 64,
     "metadata": {},
     "output_type": "execute_result"
    }
   ],
   "source": [
    "str_split"
   ]
  },
  {
   "cell_type": "code",
   "execution_count": 65,
   "id": "7b41619e",
   "metadata": {},
   "outputs": [
    {
     "name": "stdout",
     "output_type": "stream",
     "text": [
      "6 7 8 9 10\n"
     ]
    }
   ],
   "source": [
    "str=input()"
   ]
  },
  {
   "cell_type": "code",
   "execution_count": 66,
   "id": "a25957aa",
   "metadata": {},
   "outputs": [
    {
     "data": {
      "text/plain": [
       "['6', '7', '8', '9', '10']"
      ]
     },
     "execution_count": 66,
     "metadata": {},
     "output_type": "execute_result"
    }
   ],
   "source": [
    "#Automatically split on basis of spaces\n",
    "str_split=str.split()\n",
    "str_split"
   ]
  },
  {
   "cell_type": "code",
   "execution_count": 67,
   "id": "2cb72c91",
   "metadata": {},
   "outputs": [
    {
     "name": "stdout",
     "output_type": "stream",
     "text": [
      "1,2,3,4,5\n"
     ]
    }
   ],
   "source": [
    "str=input()"
   ]
  },
  {
   "cell_type": "code",
   "execution_count": 68,
   "id": "684970cc",
   "metadata": {},
   "outputs": [
    {
     "data": {
      "text/plain": [
       "['1', '2', '3', '4', '5']"
      ]
     },
     "execution_count": 68,
     "metadata": {},
     "output_type": "execute_result"
    }
   ],
   "source": [
    "str_split=str.split(\",\")\n",
    "str_split"
   ]
  },
  {
   "cell_type": "code",
   "execution_count": 69,
   "id": "7270516a",
   "metadata": {},
   "outputs": [
    {
     "data": {
      "text/plain": [
       "[1, 2, 3, 4, 5]"
      ]
     },
     "execution_count": 69,
     "metadata": {},
     "output_type": "execute_result"
    }
   ],
   "source": [
    "#one-way for integer list\n",
    "li=[]\n",
    "for ele in str_split:\n",
    "    li.append(int(ele))\n",
    "li    \n",
    "    \n",
    "    "
   ]
  },
  {
   "cell_type": "code",
   "execution_count": 73,
   "id": "d5012125",
   "metadata": {},
   "outputs": [
    {
     "name": "stdout",
     "output_type": "stream",
     "text": [
      "1 2 3 4 5\n"
     ]
    }
   ],
   "source": [
    "#second way\n",
    "#split string on basis of space and parse each character\n",
    "li=[int(x) for x in input().split()]"
   ]
  },
  {
   "cell_type": "code",
   "execution_count": 74,
   "id": "f36e73bf",
   "metadata": {},
   "outputs": [
    {
     "data": {
      "text/plain": [
       "[1, 2, 3, 4, 5]"
      ]
     },
     "execution_count": 74,
     "metadata": {},
     "output_type": "execute_result"
    }
   ],
   "source": [
    "li"
   ]
  },
  {
   "cell_type": "code",
   "execution_count": 72,
   "id": "6b20f379",
   "metadata": {},
   "outputs": [
    {
     "name": "stdout",
     "output_type": "stream",
     "text": [
      "1\n",
      "2\n",
      "3\n",
      "4\n",
      "5\n"
     ]
    }
   ],
   "source": [
    "for ele in li:\n",
    "    print(ele)"
   ]
  },
  {
   "cell_type": "code",
   "execution_count": 76,
   "id": "b95ad5af",
   "metadata": {},
   "outputs": [
    {
     "name": "stdout",
     "output_type": "stream",
     "text": [
      "1 3 6 8 9\n",
      "['1', '3', '6', '8', '9']\n"
     ]
    }
   ],
   "source": [
    "li = [x for x in input().split()]\n",
    "print(li)"
   ]
  },
  {
   "cell_type": "code",
   "execution_count": 77,
   "id": "0b69cd94",
   "metadata": {},
   "outputs": [
    {
     "name": "stdout",
     "output_type": "stream",
     "text": [
      "5\n",
      "14 -3 20 7 1 29 -19 3 27 -11 24 2 20 -10 -14 -18 5 18 -25 22 19 4 -18 8 4 14 4 -18 -24 -12 -29 -5 5 -26 28 -7 16 -12 -12 27 11 9 29 -26 24 -11 -16 24 -5 4 -5 -5 -1 13 30 -2 8 8 -25 12 -22 16 9 14 -4 4 -25 3 29 -14 30 -27 22 -28 15 8 20 4 20 29 -8 8 -14 9 -14 -5 7 -19 -27 -15 5 30 -6 -15 2 3 -9 3 -12 15 -4 2 -5 -10 7 8 3 -6 -20 -1 -20 23 12 18 -24 15 -18 -6 -6 9 -4 -9 -26 24 -1 -23 1 -22 27 -1 -15 -23 -13 3 8 -12 20 27 13 -21 28 -7 16 -7 13 -29 -18 -19 -24 -28 -4 -20 20 18 2 1 -1 23 -1 -11 11 -25 -27 9 4 -24 16 -21 13 -20 23 0 -24 9 -24 26 5 -4 -11 7 -29 -9 -5 18 17 -4 21 -28 22 27 -10 10 -14 30 -1 15 -11 16 -12 11 3 7 -4 -20 9 -19 -24 1 3 15 -5 -26 -24 -18 2 26 23 -16 27 7 4 7 -11 17 -1 21 0 22 -27 19 12 3 20 -1 -7 6 11 -26 -17 5 -19 13 17 -15 3 19 15 -29 -9 9 -23 9 -14 -4 6 30 -22 -12 18 10 -16 -12 -13 3 3 25 -13 14 -19 -7 1 -15 -24 -25 -9 -14 26 -4 -13 10 -28 -12 12 -18 -28 9 30 -19 -9 5 26 -19 -4 -3 -10 -4 13 -19 -1 -19 -13 1 -23 24 16 -1 -13 1 14 -9 -12 30 6 16 30 13 -20 -26 -25 21 -29 -21 -6 -4 -17 -18 -5 17 -18 -17 14 -3 12 -2 19 20 11 24 16 18 -25 -23 26 -26 23 16 -7 28 -14 -26 -6 4 4 8 -25 -24 17 -27 -28 -22 18 -7 23 8 0 3 -25 -15 14 -18 -23 14 19 -29 -1 17 13 3 10 -13 6 22 -23 2 26 -27 -25 7 -3 -16 -3 0 2 -1 23 -20 -28 -13 -18 3 14 22 -22 -8 15 16 28 25 12 1 16 28 10 -25 14 -3 23 -17 -1 -3 8 28 18 29 -17 29 -26 27 -21 4 10 19 -2 -17 4 -21 -19 1 16 -7 2 -24 5 -25 -29 1 -21 10 -5 -4 13 1 29 -21 -2 13 -17 1 12 7 11 -25 21 -2 8 4 -27 30 13 -26 8 20 -9 20 -21 -10 -6 -21 28 0 3 -2 23 -24 18 -25 10 -28 7 11 11 -14 -22 28 27 -8 -10 24 -20 15 -13 -10 27 -5 -5 21 30 -12 -23 -1 30 22 -8 13 4 15 12 14 -12 27 -5 30 5 -24 9 14 -21 28 7 9 11 16 -9 -24 -19 22 -21 -6 18 23 -1 -26 -20 -21 -21 9 12 6 -4 27 -25 15 -20 -17 25 9 -12 -6 -28 21 -3 16 -15 22 4 26 9 18 -20 20 -12 -25 22 -15 -7 -12 -29 2 17 25 -20 -25 25 28 13 16 9 -26 -5 24 -15 -3 14 -27 -23 -6 -6 -1 -4 -18 21 6 -8 21 4 -16 29 -15 2 -9 -7 18 17 24 -5 3 -9 1 27 11 -5 17 \n",
      "155\n"
     ]
    }
   ],
   "source": [
    "n=int(input())\n",
    "li=[int(x) for x in input().split()]\n",
    "sum=0\n",
    "for ele in li:\n",
    "    sum=sum+ele\n",
    "print(sum)  "
   ]
  },
  {
   "cell_type": "markdown",
   "id": "e035c767",
   "metadata": {},
   "source": [
    "### Lists are mutable and variables change references ie immutable"
   ]
  },
  {
   "cell_type": "code",
   "execution_count": 6,
   "id": "9e251e0e",
   "metadata": {},
   "outputs": [
    {
     "name": "stdout",
     "output_type": "stream",
     "text": [
      "[1, 4, 3, 4, 5]\n"
     ]
    }
   ],
   "source": [
    "def change(li):\n",
    "    li[1] = li[1] + 2\n",
    "    li = [3,3,3,4,5]\n",
    "li = [1,2,3,4,5]\n",
    "change(li)\n",
    "print(li)"
   ]
  },
  {
   "cell_type": "code",
   "execution_count": 79,
   "id": "5a81c113",
   "metadata": {},
   "outputs": [],
   "source": [
    "def reverse(li):\n",
    "    length=len(li)\n",
    "    for i in range(length//2):\n",
    "        #swap\n",
    "        li[i],li[length-i-1]=li[length-i-1],li[i]"
   ]
  },
  {
   "cell_type": "code",
   "execution_count": 80,
   "id": "d52779c2",
   "metadata": {},
   "outputs": [
    {
     "name": "stdout",
     "output_type": "stream",
     "text": [
      "[6, 5, 4, 3, 2, 1]\n"
     ]
    }
   ],
   "source": [
    "li=[1,2,3,4,5,6]\n",
    "reverse(li)\n",
    "print(li)"
   ]
  },
  {
   "cell_type": "code",
   "execution_count": 83,
   "id": "c526d872",
   "metadata": {},
   "outputs": [],
   "source": [
    "#negative index\n",
    "def reverse2(li):\n",
    "    length=len(li)\n",
    "    for i in range(length//2):\n",
    "        #swap\n",
    "        li[i],li[-i-1]=li[-i-1],li[i]"
   ]
  },
  {
   "cell_type": "code",
   "execution_count": 84,
   "id": "717bf27c",
   "metadata": {},
   "outputs": [
    {
     "name": "stdout",
     "output_type": "stream",
     "text": [
      "[6, 5, 4, 3, 2, 1]\n"
     ]
    }
   ],
   "source": [
    "li=[1,2,3,4,5,6]\n",
    "reverse2(li)\n",
    "print(li)"
   ]
  },
  {
   "cell_type": "code",
   "execution_count": 85,
   "id": "748a09c0",
   "metadata": {},
   "outputs": [
    {
     "data": {
      "text/plain": [
       "[3, 4]"
      ]
     },
     "execution_count": 85,
     "metadata": {},
     "output_type": "execute_result"
    }
   ],
   "source": [
    "li[3:1:-1]"
   ]
  },
  {
   "cell_type": "code",
   "execution_count": 86,
   "id": "350af0f4",
   "metadata": {},
   "outputs": [
    {
     "data": {
      "text/plain": [
       "[1, 2, 3, 4]"
      ]
     },
     "execution_count": 86,
     "metadata": {},
     "output_type": "execute_result"
    }
   ],
   "source": [
    "#by default start is length-1\n",
    "li[:1:-1]"
   ]
  },
  {
   "cell_type": "code",
   "execution_count": 87,
   "id": "7b2371c0",
   "metadata": {},
   "outputs": [
    {
     "data": {
      "text/plain": [
       "[3, 4, 5, 6]"
      ]
     },
     "execution_count": 87,
     "metadata": {},
     "output_type": "execute_result"
    }
   ],
   "source": [
    "li[3::-1]"
   ]
  },
  {
   "cell_type": "code",
   "execution_count": 88,
   "id": "7f54d656",
   "metadata": {},
   "outputs": [
    {
     "data": {
      "text/plain": [
       "[1, 2, 3, 4, 5, 6]"
      ]
     },
     "execution_count": 88,
     "metadata": {},
     "output_type": "execute_result"
    }
   ],
   "source": [
    "li[::-1] #reverse lit in one line"
   ]
  },
  {
   "cell_type": "code",
   "execution_count": 1,
   "id": "2c94988e",
   "metadata": {},
   "outputs": [
    {
     "name": "stdout",
     "output_type": "stream",
     "text": [
      "5\n",
      "2\n",
      "2 "
     ]
    }
   ],
   "source": [
    "def find_leaders(arr):\n",
    "    n=len(arr)\n",
    "    ans=[]\n",
    "    for i in range(0,n-1,1):\n",
    "        flag=True\n",
    "        for j in range(i+1,n,1):\n",
    "            if arr[j]>arr[i]:\n",
    "                flag=False\n",
    "                break\n",
    "        if flag==True:\n",
    "            ans.append(arr[i])\n",
    "    ans.append(arr[n-1])\n",
    "    for i in range(len(ans)):\n",
    "        print(ans[i],end=' ')\n",
    "                \n",
    "n=int(input())\n",
    "li=[int(x) for x in input().split()]\n",
    "find_leaders(li)"
   ]
  },
  {
   "cell_type": "code",
   "execution_count": null,
   "id": "1b4e19b6",
   "metadata": {},
   "outputs": [],
   "source": []
  }
 ],
 "metadata": {
  "kernelspec": {
   "display_name": "Python 3 (ipykernel)",
   "language": "python",
   "name": "python3"
  },
  "language_info": {
   "codemirror_mode": {
    "name": "ipython",
    "version": 3
   },
   "file_extension": ".py",
   "mimetype": "text/x-python",
   "name": "python",
   "nbconvert_exporter": "python",
   "pygments_lexer": "ipython3",
   "version": "3.9.7"
  }
 },
 "nbformat": 4,
 "nbformat_minor": 5
}
