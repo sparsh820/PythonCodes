{
 "cells": [
  {
   "cell_type": "code",
   "execution_count": 1,
   "id": "3b09c015",
   "metadata": {},
   "outputs": [],
   "source": [
    "class PriorityQueueNode:\n",
    "    def __init__(self,value,priority):\n",
    "        self.value=value\n",
    "        self.priority=priority\n",
    "        \n",
    "        "
   ]
  },
  {
   "cell_type": "code",
   "execution_count": null,
   "id": "b057ea86",
   "metadata": {},
   "outputs": [],
   "source": [
    "class PriorityQueue:\n",
    "    def __init__(self):\n",
    "        self.pq=[]\n",
    "    def getSize(self):\n",
    "        return len(self.pq)\n",
    "    def isEmpty(self):\n",
    "        return self.getSize()==0\n",
    "    def getmin(self):\n",
    "        if self.isEmpty() is True:\n",
    "            return None\n",
    "        return self.pq[0].value\n",
    "    def insert(self,value,priority):\n",
    "        pqNode=PriorityQueueNode(value,priority)\n",
    "        self.\n",
    "    def removeMin(self):\n",
    "        pass\n",
    "        "
   ]
  }
 ],
 "metadata": {
  "kernelspec": {
   "display_name": "Python 3 (ipykernel)",
   "language": "python",
   "name": "python3"
  },
  "language_info": {
   "codemirror_mode": {
    "name": "ipython",
    "version": 3
   },
   "file_extension": ".py",
   "mimetype": "text/x-python",
   "name": "python",
   "nbconvert_exporter": "python",
   "pygments_lexer": "ipython3",
   "version": "3.9.7"
  }
 },
 "nbformat": 4,
 "nbformat_minor": 5
}
