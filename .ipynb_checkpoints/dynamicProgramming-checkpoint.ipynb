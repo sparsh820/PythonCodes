{
 "cells": [
  {
   "cell_type": "code",
   "execution_count": 3,
   "id": "37bf25a0",
   "metadata": {},
   "outputs": [
    {
     "name": "stdout",
     "output_type": "stream",
     "text": [
      "34\n"
     ]
    }
   ],
   "source": [
    "def fib(n):\n",
    "    if n==1 or n==0:\n",
    "        return n\n",
    "    return fib(n-1)+fib(n-2)\n",
    "print(fib(9))"
   ]
  },
  {
   "cell_type": "code",
   "execution_count": 5,
   "id": "eaa53eee",
   "metadata": {},
   "outputs": [
    {
     "name": "stdout",
     "output_type": "stream",
     "text": [
      "34\n"
     ]
    }
   ],
   "source": [
    "#memoisation\n",
    "def fibTD(n,dp):\n",
    "    if n==1 or n==0:\n",
    "        return n\n",
    "    if dp[n-1]==-1:\n",
    "        ans1=fibTD(n-1,dp)\n",
    "        dp[n-1]=ans1\n",
    "    else:\n",
    "        ans1=dp[n-1]\n",
    "    if dp[n-2]==-1:\n",
    "        ans2=fibTD(n-2,dp)\n",
    "        dp[n-2]=ans2\n",
    "    else:\n",
    "        ans2=dp[n-2]\n",
    "    return ans1+ans2\n",
    "        \n",
    "\n",
    "n=9\n",
    "dp=[-1 for i in range(n+1)]\n",
    "print(fibTD(n,dp))"
   ]
  },
  {
   "cell_type": "code",
   "execution_count": null,
   "id": "8e852d81",
   "metadata": {},
   "outputs": [],
   "source": [
    "def fibI(n):\n",
    "    dp=[0 for i in range(n+1)]\n",
    "    dp[0]=0\n",
    "    dp[1]=1\n",
    "    i=2\n",
    "    while i<=n:\n",
    "        dp[i]=dp[i-1]+dp[i-2]\n",
    "    return dp[n]    "
   ]
  },
  {
   "cell_type": "code",
   "execution_count": null,
   "id": "233cc6eb",
   "metadata": {},
   "outputs": [],
   "source": [
    "print(fibI(5))"
   ]
  },
  {
   "cell_type": "code",
   "execution_count": null,
   "id": "eb19d463",
   "metadata": {},
   "outputs": [],
   "source": []
  }
 ],
 "metadata": {
  "kernelspec": {
   "display_name": "Python 3 (ipykernel)",
   "language": "python",
   "name": "python3"
  },
  "language_info": {
   "codemirror_mode": {
    "name": "ipython",
    "version": 3
   },
   "file_extension": ".py",
   "mimetype": "text/x-python",
   "name": "python",
   "nbconvert_exporter": "python",
   "pygments_lexer": "ipython3",
   "version": "3.9.7"
  }
 },
 "nbformat": 4,
 "nbformat_minor": 5
}
