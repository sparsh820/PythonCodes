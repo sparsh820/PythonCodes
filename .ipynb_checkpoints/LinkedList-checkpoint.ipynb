{
 "cells": [
  {
   "cell_type": "code",
   "execution_count": 15,
   "id": "860c3eb9",
   "metadata": {},
   "outputs": [],
   "source": [
    "class Node:\n",
    "    def __init__(self,data):\n",
    "        self.data=data\n",
    "        self.next=None    \n",
    "def takeinput():\n",
    "    inputList=[int(ele) for ele in input().split()]\n",
    "    head=None\n",
    "    tail=None\n",
    "    for val in inputList:\n",
    "        if val==-1:\n",
    "            break\n",
    "        node=Node(val)\n",
    "        if head is None:\n",
    "            head=node\n",
    "            tail=node\n",
    "        else:\n",
    "            tail.next=node\n",
    "            tail=node\n",
    "    return head\n",
    "\n",
    "def printLL(head):\n",
    "    curr=head\n",
    "    while curr is not None:\n",
    "        print(str(curr.data)+\"->\",end=' ')\n",
    "        curr=curr.next\n",
    "    print(\"None\")\n",
    "    return\n"
   ]
  },
  {
   "cell_type": "code",
   "execution_count": 22,
   "id": "1c7e67b7",
   "metadata": {},
   "outputs": [],
   "source": [
    "def evenAfterOdd(head) :\n",
    "    OddHead=None\n",
    "    OddTail=None\n",
    "    EvenHead=None\n",
    "    EvenTail=None\n",
    "    while head is not None:\n",
    "        if head.data%2==0 and EvenHead is None:\n",
    "            EvenHead=head\n",
    "            EvenTail=head\n",
    "        elif head.data%2==0:\n",
    "            EvenTail.next=head\n",
    "            EvenTail=EvenTail.next    \n",
    "        if head.data%2!=0 and OddHead is None:\n",
    "            OddHead=head\n",
    "            OddTail=head\n",
    "        elif head.data%2!=0:\n",
    "            OddTail.next=head\n",
    "            OddTail=OddTail.next\n",
    "        head=head.next\n",
    "    if EvenHead is None:\n",
    "        return OddHead\n",
    "    if OddTail is None:\n",
    "        return EvenHead  \n",
    "    EvenTail.next = None\n",
    "    OddTail.next=EvenHead\n",
    "    return OddHead"
   ]
  },
  {
   "cell_type": "code",
   "execution_count": 8,
   "id": "22d2f8d2",
   "metadata": {},
   "outputs": [
    {
     "name": "stdout",
     "output_type": "stream",
     "text": [
      "1 2 3 4 5 -1\n",
      "1-> 2-> 3-> 4-> 5-> None\n"
     ]
    },
    {
     "data": {
      "text/plain": [
       "5"
      ]
     },
     "execution_count": 8,
     "metadata": {},
     "output_type": "execute_result"
    }
   ],
   "source": [
    "head=takeinput()\n",
    "printLL(head)\n",
    "length(head)"
   ]
  },
  {
   "cell_type": "code",
   "execution_count": 3,
   "id": "e66cfacb",
   "metadata": {},
   "outputs": [
    {
     "name": "stdout",
     "output_type": "stream",
     "text": [
      "13\n",
      "15\n",
      "15\n",
      "<__main__.Node object at 0x000001F83AC20460>\n",
      "<__main__.Node object at 0x000001F83AC18070>\n",
      "<__main__.Node object at 0x000001F83AC18070>\n"
     ]
    }
   ],
   "source": [
    " a=Node(13)\n",
    "b=Node(15)\n",
    "a.next=b\n",
    "print(a.data)\n",
    "print(b.data)\n",
    "print(a.next.data)\n",
    "print(a)\n",
    "print(a.next)\n",
    "print(b)"
   ]
  },
  {
   "cell_type": "code",
   "execution_count": 7,
   "id": "3a8542c6",
   "metadata": {},
   "outputs": [],
   "source": [
    "def length(head) :\n",
    "    curr=head\n",
    "    len=0\n",
    "    while curr is not None:\n",
    "        len=len+1\n",
    "        curr=curr.next\n",
    "    return len    \n"
   ]
  },
  {
   "cell_type": "code",
   "execution_count": 32,
   "id": "a6f0c713",
   "metadata": {},
   "outputs": [],
   "source": [
    "def printIthNode(head, i):\n",
    "    temp=head\n",
    "    k=0\n",
    "    while temp is not None:\n",
    "        if k==i:\n",
    "            print(temp.data)\n",
    "            break\n",
    "        temp=temp.next\n",
    "        k=k+1"
   ]
  },
  {
   "cell_type": "code",
   "execution_count": 33,
   "id": "982c7d0d",
   "metadata": {},
   "outputs": [],
   "source": [
    "def InsertAtI(head,i,data):\n",
    "    if i<0 or i>length(head):\n",
    "        return head\n",
    "    prev=None\n",
    "    curr=head\n",
    "    count=0\n",
    "    while count<i:\n",
    "        prev=curr\n",
    "        curr=curr.next\n",
    "        count=count+1\n",
    "    newnode=Node(data)\n",
    "    if prev is not None:\n",
    "        prev.next=newnode\n",
    "    else:\n",
    "        head=newnode\n",
    "    newnode.next=curr\n",
    "    return head\n",
    "    \n",
    "    "
   ]
  },
  {
   "cell_type": "code",
   "execution_count": 35,
   "id": "3bf8d5af",
   "metadata": {},
   "outputs": [
    {
     "name": "stdout",
     "output_type": "stream",
     "text": [
      "1 2 3 4 5 -1\n",
      "1-> 2-> 3-> 4-> 5-> None\n",
      "6-> 1-> 2-> 3-> 4-> 5-> None\n"
     ]
    }
   ],
   "source": [
    "head=takeinput()\n",
    "printLL(head)\n",
    "head=InsertAtI(head,0,6)\n",
    "printLL(head)"
   ]
  },
  {
   "cell_type": "code",
   "execution_count": 1,
   "id": "29034278",
   "metadata": {},
   "outputs": [],
   "source": [
    "def deleteNode(head, pos) :\n",
    "    len=length(head)\n",
    "    if pos<0 or pos>=len:\n",
    "        return head\n",
    "    if pos==0:\n",
    "        return head.next\n",
    "    elif pos==len:\n",
    "        return head\n",
    "    \n",
    "    prev=None\n",
    "    curr=head\n",
    "    ahead=None\n",
    "    count=0\n",
    "    while count<pos:\n",
    "        prev=curr\n",
    "        curr=curr.next\n",
    "        count=count+1\n",
    "    \n",
    "    if curr.next is not None:\n",
    "        ahead=curr.next\n",
    "        \n",
    "    prev.next=ahead\n",
    "    return head"
   ]
  },
  {
   "cell_type": "code",
   "execution_count": 2,
   "id": "164b7742",
   "metadata": {},
   "outputs": [],
   "source": [
    "def lengthRecursive(head,length):\n",
    "    if head is None:\n",
    "        return 0\n",
    "    ans=lengthRecursive(head.next,length)\n",
    "    return ans+1"
   ]
  },
  {
   "cell_type": "code",
   "execution_count": 3,
   "id": "55c3e11a",
   "metadata": {},
   "outputs": [],
   "source": [
    "def InsertAtIR(head,i,data):\n",
    "    if i==0:\n",
    "        node=Node(data)\n",
    "        node.next=head\n",
    "        return node\n",
    "    smallhead=InsertAtIR(head.next,i-1,data)\n",
    "    head.next=smallhead\n",
    "    return head"
   ]
  },
  {
   "cell_type": "code",
   "execution_count": 10,
   "id": "d157c791",
   "metadata": {},
   "outputs": [
    {
     "name": "stdout",
     "output_type": "stream",
     "text": [
      "1 2 3 4 5 -1\n",
      "1-> 2-> 3-> 4-> 5-> None\n",
      "1-> 2-> 6-> 3-> 4-> 5-> None\n"
     ]
    }
   ],
   "source": [
    "head=takeinput()\n",
    "printLL(head)\n",
    "head=InsertAtIR(head,2,6)\n",
    "printLL(head)"
   ]
  },
  {
   "cell_type": "code",
   "execution_count": 11,
   "id": "ddfc0f8b",
   "metadata": {},
   "outputs": [],
   "source": [
    "def deleteNodeRec(head, pos) :\n",
    "    # len=length(head)\n",
    "    if head is None:\n",
    "        return head\n",
    "    if pos<0:\n",
    "        return head\n",
    "    elif pos==0:\n",
    "        return head.next\n",
    "    ahead=deleteNodeRec(head.next,pos-1)\n",
    "    head.next=ahead\n",
    "    return head"
   ]
  },
  {
   "cell_type": "code",
   "execution_count": 12,
   "id": "27e3c0b3",
   "metadata": {},
   "outputs": [],
   "source": [
    "def getTail(head):\n",
    "    while head.next is not None:\n",
    "        head=head.next\n",
    "    return head\n",
    "def length(head) :\n",
    "    curr=head\n",
    "    len=0\n",
    "    while curr is not None:\n",
    "        len=len+1\n",
    "        curr=curr.next\n",
    "    return len    \n",
    "\n",
    "        \n",
    "        \n",
    "def appendLastNToFirst(head, n) :\n",
    "    len=length(head)\n",
    "    if n==0:\n",
    "        return head\n",
    "    elif n>len:\n",
    "        return None\n",
    "    tail=getTail(head)\n",
    "    pos=len-n\n",
    "    count=0\n",
    "    curr=head\n",
    "    prev=None\n",
    "    while curr is not None:\n",
    "        if count==pos:\n",
    "            break\n",
    "        prev=curr    \n",
    "        curr=curr.next\n",
    "        count=count+1\n",
    "    tail.next=head\n",
    "    prev.next=None\n",
    "    head=curr\n",
    "    return head\n",
    "        "
   ]
  },
  {
   "cell_type": "code",
   "execution_count": 13,
   "id": "d65799b4",
   "metadata": {},
   "outputs": [],
   "source": [
    "def length(head) :\n",
    "    curr=head\n",
    "    len=0\n",
    "    while curr is not None:\n",
    "        len=len+1\n",
    "        curr=curr.next\n",
    "    return len    \n",
    "\n",
    "def removeDuplicates(head) :\n",
    "    len=length(head)\n",
    "    if len==0:\n",
    "        return head\n",
    "    prev=head\n",
    "    newhead=prev\n",
    "    curr=head.next\n",
    "    while curr is not None:\n",
    "        if curr.data==prev.data:\n",
    "            pass\n",
    "        else:\n",
    "            prev.next=curr\n",
    "            prev=curr\n",
    "        curr=curr.next\n",
    "    prev.next=None    \n",
    "    return newhead    "
   ]
  },
  {
   "cell_type": "code",
   "execution_count": 14,
   "id": "83017701",
   "metadata": {},
   "outputs": [],
   "source": [
    "def printReverse(head) :\n",
    "    if head is None:\n",
    "        return\n",
    "    printReverse(head.next)\n",
    "    print(head.data,end=' ')"
   ]
  },
  {
   "cell_type": "code",
   "execution_count": 15,
   "id": "ba539721",
   "metadata": {},
   "outputs": [],
   "source": [
    "def isPalindrome(head) :\n",
    "    li=[]\n",
    "    while head is not None:\n",
    "        li.append(head.data)\n",
    "        head=head.next\n",
    "    n=len(li)\n",
    "    if n==0 or n==1:\n",
    "        return True\n",
    "    else:\n",
    "        for i in range(n//2):\n",
    "            if li[i]==li[n-i-1]:\n",
    "                pass\n",
    "            else:\n",
    "                return False\n",
    "        return True   "
   ]
  },
  {
   "cell_type": "code",
   "execution_count": 1,
   "id": "2aa8ca86",
   "metadata": {},
   "outputs": [],
   "source": [
    "def reverseLinkedListRec(head,prev) :\n",
    "    if head is None:\n",
    "        return prev\n",
    "    smallhead=reverseLinkedListRec(head.next,head)\n",
    "    head.next=prev\n",
    "    return smallhead\n"
   ]
  },
  {
   "cell_type": "code",
   "execution_count": 6,
   "id": "cb1c9019",
   "metadata": {},
   "outputs": [],
   "source": [
    "def reverse(head):\n",
    "    if head is None or head.next is None:\n",
    "        return head\n",
    "    smallhead=reverse(head.next)\n",
    "    cur=smallhead\n",
    "    while cur.next is not None:\n",
    "        cur=cur.next\n",
    "    cur.next=head\n",
    "    head.next=None\n",
    "    return smallhead\n",
    "        \n",
    "        "
   ]
  },
  {
   "cell_type": "code",
   "execution_count": 8,
   "id": "b03f044d",
   "metadata": {},
   "outputs": [
    {
     "name": "stdout",
     "output_type": "stream",
     "text": [
      "1 2 3 4 5 -1\n",
      "1-> 2-> 3-> 4-> 5-> None\n",
      "5-> 4-> 3-> 2-> 1-> None\n"
     ]
    }
   ],
   "source": [
    "head=takeinput()\n",
    "printLL(head)\n",
    "head=reverse(head)\n",
    "printLL(head)"
   ]
  },
  {
   "cell_type": "code",
   "execution_count": 9,
   "id": "972da1ec",
   "metadata": {},
   "outputs": [],
   "source": [
    "def reverse(head):\n",
    "    if head is None:\n",
    "        return None\n",
    "    prev=None\n",
    "    curr=head\n",
    "    ahead=head.next\n",
    "    while ahead is not None:\n",
    "        curr.next=prev\n",
    "        prev=curr\n",
    "        curr=ahead\n",
    "        ahead=curr.next\n",
    "    curr.next=prev    \n",
    "    head=curr    \n",
    "    return head   "
   ]
  },
  {
   "cell_type": "code",
   "execution_count": 10,
   "id": "1f135717",
   "metadata": {},
   "outputs": [],
   "source": [
    "def midPoint(head) :\n",
    "    if head is None:\n",
    "        return None\n",
    "    slow=head\n",
    "    fast=head\n",
    "    while fast.next is not None and fast.next.next is not None:\n",
    "        fast=fast.next.next\n",
    "        slow=slow.next\n",
    "    return slow "
   ]
  },
  {
   "cell_type": "code",
   "execution_count": 20,
   "id": "0aa9db0a",
   "metadata": {},
   "outputs": [],
   "source": [
    "def findNodeRec(head, n,idx) :\n",
    "    if head==None:\n",
    "        return -1\n",
    "    if head.data==n:\n",
    "        return idx\n",
    "    i=findNodeRec(head.next,n,idx+1)\n",
    "    return i"
   ]
  },
  {
   "cell_type": "code",
   "execution_count": 18,
   "id": "16cb7bc2",
   "metadata": {},
   "outputs": [],
   "source": [
    "def mergeTwoSortedLinkedLists(head1, head2):\n",
    "    dummyhead=Node(-2)\n",
    "    temphead=dummyhead\n",
    "    while head1 is not None and head2 is not None:\n",
    "        if head1.data>=head2.data:\n",
    "            dummyhead.next=head2\n",
    "            head2=head2.next\n",
    "        else:\n",
    "            dummyhead.next=head1\n",
    "            head1=head1.next\n",
    "        dummyhead=dummyhead.next\n",
    "    while head2 is not None:\n",
    "        dummyhead.next=head2\n",
    "        head2=head2.next\n",
    "        dummyhead=dummyhead.next\n",
    "    while head1 is not None:\n",
    "        dummyhead.next=head1\n",
    "        head1=head1.next\n",
    "        dummyhead=dummyhead.next        \n",
    "    return temphead.next"
   ]
  },
  {
   "cell_type": "code",
   "execution_count": 19,
   "id": "95cc8661",
   "metadata": {},
   "outputs": [],
   "source": [
    "  def mergeSort(head) :\n",
    "    if head is None or head.next is None:\n",
    "        return head\n",
    "    mid=midPoint(head)\n",
    "    midp1=mid.next\n",
    "    mid.next=None\n",
    "    head1=mergeSort(head)\n",
    "    head2=mergeSort(midp1)\n",
    "    temphead=merge(head1,head2)\n",
    "    return temphead"
   ]
  },
  {
   "cell_type": "code",
   "execution_count": 1,
   "id": "cf8b7fa0",
   "metadata": {},
   "outputs": [],
   "source": [
    "def kReverse(head, k) :\n",
    "    \n",
    "    if k==0:\n",
    "        return head\n",
    "    \n",
    "    if head is None:\n",
    "        return None\n",
    "    \n",
    "    count=0\n",
    "    next=None\n",
    "    prev=None\n",
    "    cur=head\n",
    "    while count<k and cur is not None:\n",
    "        next=cur.next\n",
    "        cur.next=prev\n",
    "        prev=cur\n",
    "        cur=next\n",
    "        count=count+1\n",
    "        \n",
    "    if next is not None:\n",
    "        head.next=kReverse(next,k)\n",
    "        \n",
    "    return prev    "
   ]
  },
  {
   "cell_type": "code",
   "execution_count": null,
   "id": "890dd835",
   "metadata": {},
   "outputs": [],
   "source": []
  }
 ],
 "metadata": {
  "kernelspec": {
   "display_name": "Python 3 (ipykernel)",
   "language": "python",
   "name": "python3"
  },
  "language_info": {
   "codemirror_mode": {
    "name": "ipython",
    "version": 3
   },
   "file_extension": ".py",
   "mimetype": "text/x-python",
   "name": "python",
   "nbconvert_exporter": "python",
   "pygments_lexer": "ipython3",
   "version": "3.9.7"
  }
 },
 "nbformat": 4,
 "nbformat_minor": 5
}
