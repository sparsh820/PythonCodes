{
 "cells": [
  {
   "cell_type": "code",
   "execution_count": 28,
   "id": "491dba80",
   "metadata": {},
   "outputs": [],
   "source": [
    "class Vehicle:\n",
    "    def __init__(self,name,isUsed,typeOfVehicle,Owner,fuel,isImported):\n",
    "        self.name=name\n",
    "        self.isUsed=isUsed\n",
    "        self.typeOfVehicle=typeOfVehicle\n",
    "        self.Owner=Owner\n",
    "        self.fuel=fuel\n",
    "        self.isImported=isImported\n",
    "    def __str__(self):\n",
    "        return self.name+\" \"+str(self.isUsed)+\" \"+self.typeOfVehicle+\" \"+self.Owner+\" \"+self.fuel\n",
    "    def fuelType(self):\n",
    "        return self.name+\" \"+\"runs on fuel called\"+\" \"+self.fuel\n",
    "    def isImportedvehicle(self):\n",
    "        if self.isUsed==True and self.isImported==True:\n",
    "            return self.name+\" \"+\"is Used and is Imported\"\n",
    "        else:\n",
    "            return self.name+\" \"+\"is new and Made in India\""
   ]
  },
  {
   "cell_type": "code",
   "execution_count": 29,
   "id": "fceaf961",
   "metadata": {},
   "outputs": [
    {
     "name": "stdout",
     "output_type": "stream",
     "text": [
      "Honda runs on fuel called Diesel\n",
      "Ducati runs on fuel called Petrol\n",
      "Honda is new and Made in India\n",
      "Ducati is Used and is Imported\n"
     ]
    }
   ],
   "source": [
    "c=Vehicle(\"Honda\",False,\"Car\",\"Saurabh\", \"Diesel\",False)\n",
    "b=Vehicle(\"Ducati\",True,\"Bike\",\"Saurabh\", \"Petrol\",True)\n",
    "print(c.fuelType())\n",
    "print(b.fuelType())\n",
    "print(c.isImportedvehicle())\n",
    "print(b.isImportedvehicle())"
   ]
  },
  {
   "cell_type": "code",
   "execution_count": null,
   "id": "8525333c",
   "metadata": {},
   "outputs": [],
   "source": []
  }
 ],
 "metadata": {
  "kernelspec": {
   "display_name": "Python 3 (ipykernel)",
   "language": "python",
   "name": "python3"
  },
  "language_info": {
   "codemirror_mode": {
    "name": "ipython",
    "version": 3
   },
   "file_extension": ".py",
   "mimetype": "text/x-python",
   "name": "python",
   "nbconvert_exporter": "python",
   "pygments_lexer": "ipython3",
   "version": "3.9.7"
  }
 },
 "nbformat": 4,
 "nbformat_minor": 5
}
