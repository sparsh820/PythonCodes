{
 "cells": [
  {
   "cell_type": "code",
   "execution_count": 1,
   "id": "9bbade52",
   "metadata": {},
   "outputs": [],
   "source": [
    "def fact(n):\n",
    "    n_fact=1\n",
    "    for i in range(1,n+1):\n",
    "        n_fact=n_fact*i\n",
    "    return n_fact"
   ]
  },
  {
   "cell_type": "code",
   "execution_count": 2,
   "id": "a036f0d5",
   "metadata": {},
   "outputs": [
    {
     "data": {
      "text/plain": [
       "6"
      ]
     },
     "execution_count": 2,
     "metadata": {},
     "output_type": "execute_result"
    }
   ],
   "source": [
    "fact(3)"
   ]
  },
  {
   "cell_type": "code",
   "execution_count": 10,
   "id": "c8f0f3c6",
   "metadata": {},
   "outputs": [
    {
     "name": "stdout",
     "output_type": "stream",
     "text": [
      "4\n",
      "2\n",
      "6\n"
     ]
    }
   ],
   "source": [
    "n=int(input())\n",
    "r=int(input())\n",
    "n_fact=fact(n)\n",
    "r_fact=fact(r)\n",
    "n_r_fact=fact(n-r)\n",
    "ans=n_fact//(r_fact*n_r_fact)\n",
    "print(ans)"
   ]
  },
  {
   "cell_type": "code",
   "execution_count": 1,
   "id": "45b17a94",
   "metadata": {},
   "outputs": [
    {
     "name": "stdout",
     "output_type": "stream",
     "text": [
      "4\n",
      "2\n",
      "6\n"
     ]
    }
   ],
   "source": [
    "n=int(input())\n",
    "r=int(input())\n",
    "\n",
    "#redundant code\n",
    "# n_fact=1\n",
    "# for i in range(1,n+1):\n",
    "#     n_fact=n_fact*i\n",
    "\n",
    "# r_fact=1\n",
    "# for i in range(1,r+1):\n",
    "#     r_fact=r_fact*i    \n",
    "    \n",
    "# n_r_fact=1\n",
    "# for i in range(1,n-r+1):\n",
    "#     n_r_fact=n_r_fact*i \n",
    "    \n",
    "ans=n_fact//(r_fact*n_r_fact)\n",
    "print(ans)"
   ]
  },
  {
   "cell_type": "code",
   "execution_count": 11,
   "id": "b7136b68",
   "metadata": {},
   "outputs": [],
   "source": [
    "def isPrime(n):\n",
    "    for i in range(2,n):\n",
    "        if n%i==0:\n",
    "            break\n",
    "    else:\n",
    "        return True\n",
    "    \n",
    "    return False"
   ]
  },
  {
   "cell_type": "code",
   "execution_count": 14,
   "id": "896f5b6c",
   "metadata": {},
   "outputs": [
    {
     "name": "stdout",
     "output_type": "stream",
     "text": [
      "True\n"
     ]
    }
   ],
   "source": [
    "print(isPrime(7))"
   ]
  },
  {
   "cell_type": "code",
   "execution_count": 15,
   "id": "fd68df6d",
   "metadata": {},
   "outputs": [],
   "source": [
    "def primeFrom2toN(n):\n",
    "    for k in range(2,n+1):\n",
    "        if(isPrime(k)):\n",
    "            print(k)\n",
    "    "
   ]
  },
  {
   "cell_type": "code",
   "execution_count": 16,
   "id": "c7852b35",
   "metadata": {},
   "outputs": [
    {
     "name": "stdout",
     "output_type": "stream",
     "text": [
      "2\n",
      "3\n",
      "5\n",
      "7\n",
      "11\n",
      "13\n"
     ]
    }
   ],
   "source": [
    "primeFrom2toN(15)"
   ]
  },
  {
   "cell_type": "code",
   "execution_count": 19,
   "id": "7f52eebc",
   "metadata": {},
   "outputs": [
    {
     "name": "stdout",
     "output_type": "stream",
     "text": [
      "15\n",
      "5\n"
     ]
    }
   ],
   "source": [
    "def func(a):\n",
    "    a = a + 10\n",
    "    return a\n",
    "a = 5\n",
    "print(func(a))\n",
    "print(a)"
   ]
  },
  {
   "cell_type": "code",
   "execution_count": 20,
   "id": "5ebf3240",
   "metadata": {},
   "outputs": [
    {
     "name": "stdout",
     "output_type": "stream",
     "text": [
      "11\n"
     ]
    }
   ],
   "source": [
    "def function(a,b,c=1,d=5):\n",
    "    return a+b+c+d\n",
    "value = function(1,2,d=7)\n",
    "print(value)"
   ]
  },
  {
   "cell_type": "code",
   "execution_count": 3,
   "id": "7e487891",
   "metadata": {},
   "outputs": [],
   "source": [
    "\n",
    "\n",
    "def binarySearch(arr, n, x) :\n",
    "    low=0\n",
    "    high=n-1\n",
    "    while low<=high:\n",
    "        mid=(low+high)//2\n",
    "        # print(arr[mid])\n",
    "        if arr[mid]==x:\n",
    "            return mid\n",
    "        elif arr[mid]<x:\n",
    "            low=mid+1\n",
    "        else:\n",
    "            high=mid-1\n",
    "    return -1     "
   ]
  },
  {
   "cell_type": "code",
   "execution_count": 6,
   "id": "7af5de23",
   "metadata": {},
   "outputs": [
    {
     "name": "stdout",
     "output_type": "stream",
     "text": [
      "1 2 3 4 5\n",
      "2\n"
     ]
    }
   ],
   "source": [
    "li=[int(x) for x in input().split()]\n",
    "# print(len(li))\n",
    "print(binarySearch(li,len(li),3))"
   ]
  },
  {
   "cell_type": "code",
   "execution_count": 11,
   "id": "cda78bf4",
   "metadata": {},
   "outputs": [],
   "source": [
    "def binarySearchStart(arr, n, x) :\n",
    "    low=0\n",
    "    high=n-1\n",
    "    while low<=high:\n",
    "        mid=(low+high)//2\n",
    "        # print(arr[mid])\n",
    "        if arr[mid]==x:\n",
    "            while arr[mid-1]==x:\n",
    "                mid=mid-1\n",
    "            return mid\n",
    "        elif arr[mid]<x:\n",
    "            low=mid+1\n",
    "        else:\n",
    "            high=mid-1\n",
    "    return -1  "
   ]
  },
  {
   "cell_type": "code",
   "execution_count": 13,
   "id": "28fe4501",
   "metadata": {},
   "outputs": [
    {
     "name": "stdout",
     "output_type": "stream",
     "text": [
      "1\n"
     ]
    }
   ],
   "source": [
    " X=[1, 2, 2, 3, 3, 3, 4, 8, 9, 19, 19, 19]\n",
    "# print(len(li))\n",
    "print(binarySearchStart(X,len(X),2))"
   ]
  },
  {
   "cell_type": "code",
   "execution_count": 14,
   "id": "9bc51a3d",
   "metadata": {},
   "outputs": [],
   "source": [
    "def binarySearchEnd(arr, n, x) :\n",
    "    low=0\n",
    "    high=n-1\n",
    "    while low<=high:\n",
    "        mid=(low+high)//2\n",
    "        # print(arr[mid])\n",
    "        if arr[mid]==x:\n",
    "            while arr[mid+1]==x:\n",
    "                mid=mid+1\n",
    "            return mid\n",
    "        elif arr[mid]<x:\n",
    "            low=mid+1\n",
    "        else:\n",
    "            high=mid-1\n",
    "    return -1  "
   ]
  },
  {
   "cell_type": "code",
   "execution_count": 16,
   "id": "08e76e87",
   "metadata": {},
   "outputs": [
    {
     "name": "stdout",
     "output_type": "stream",
     "text": [
      "5\n",
      "2\n"
     ]
    }
   ],
   "source": [
    " Y=[1, 2, 2, 3, 3, 3, 4, 8, 9, 19, 19, 19]\n",
    "# print(len(li))\n",
    "print(binarySearchEnd(Y,len(Y),3))\n",
    "print(binarySearchEnd(Y,len(Y),2))"
   ]
  },
  {
   "cell_type": "code",
   "execution_count": 54,
   "id": "a7df50d1",
   "metadata": {},
   "outputs": [],
   "source": [
    "def SelectionSort(arr,n):\n",
    "    for i in range(0,n-1,1):\n",
    "        for j in range(i+1,n,1):\n",
    "            if arr[i]>arr[j]:\n",
    "                arr[i],arr[j]=arr[j],arr[i]\n",
    "    print(arr)        \n",
    "                \n",
    "             \n",
    "            \n",
    "        "
   ]
  },
  {
   "cell_type": "code",
   "execution_count": 55,
   "id": "e5fd5920",
   "metadata": {},
   "outputs": [
    {
     "name": "stdout",
     "output_type": "stream",
     "text": [
      "[1, 2, 4, 5, 6]\n"
     ]
    }
   ],
   "source": [
    "li=[4,1,2,6,5]\n",
    "SelectionSort(li,len(li))"
   ]
  },
  {
   "cell_type": "code",
   "execution_count": 78,
   "id": "39fc644e",
   "metadata": {},
   "outputs": [],
   "source": [
    "def BubbleSort(arr,n):\n",
    "    for i in range(0,n-1,1):\n",
    "        for j in range(0,n-i-1,1):\n",
    "            if arr[j]>arr[j+1]:\n",
    "                print(\"prev\",arr,end=' ')\n",
    "                arr[j],arr[j+1]=arr[j+1],arr[j]\n",
    "                print(\"curr\",arr)\n",
    "        print()        \n",
    "    print(arr)            \n",
    "        "
   ]
  },
  {
   "cell_type": "code",
   "execution_count": 79,
   "id": "8d1ffccd",
   "metadata": {},
   "outputs": [
    {
     "name": "stdout",
     "output_type": "stream",
     "text": [
      "prev [4, 1, 2, 6, 5] curr [1, 4, 2, 6, 5]\n",
      "prev [1, 4, 2, 6, 5] curr [1, 2, 4, 6, 5]\n",
      "prev [1, 2, 4, 6, 5] curr [1, 2, 4, 5, 6]\n",
      "\n",
      "\n",
      "\n",
      "\n",
      "[1, 2, 4, 5, 6]\n"
     ]
    }
   ],
   "source": [
    "li=[4,1,2,6,5]\n",
    "BubbleSort(li,len(li))"
   ]
  },
  {
   "cell_type": "code",
   "execution_count": 83,
   "id": "3e98de5f",
   "metadata": {},
   "outputs": [],
   "source": [
    "def InsertionSort(arr,n):\n",
    "    for i in range(1,n,1):\n",
    "        key=arr[i]\n",
    "        j=i-1\n",
    "        while j>=0 and arr[j]>key:\n",
    "            arr[j+1]=arr[j]\n",
    "            j=j-1\n",
    "        arr[j+1]=key    \n",
    "    print(arr) "
   ]
  },
  {
   "cell_type": "code",
   "execution_count": 84,
   "id": "344d0f2b",
   "metadata": {},
   "outputs": [
    {
     "name": "stdout",
     "output_type": "stream",
     "text": [
      "[1, 2, 4, 5, 6]\n"
     ]
    }
   ],
   "source": [
    "li=[4,1,2,6,5]\n",
    "InsertionSort(li,len(li))"
   ]
  },
  {
   "cell_type": "code",
   "execution_count": 32,
   "id": "94dfcbd1",
   "metadata": {},
   "outputs": [],
   "source": [
    "def merge(arr1,n,arr2,m):\n",
    "    i=0\n",
    "    j=0\n",
    "    li=[]\n",
    "    while i<n and j<m:\n",
    "        if i<n and arr1[i]>arr2[j]:\n",
    "            li.append(arr2[j])\n",
    "            j=j+1\n",
    "        else:\n",
    "            li.append(arr1[i])\n",
    "            i=i+1        \n",
    "    if i==n and j!=m:\n",
    "        while j<m:\n",
    "            li.append(arr2[j])\n",
    "            j=j+1\n",
    "    if j==m and i!=n:\n",
    "        while i<n:\n",
    "            li.append(arr1[i])\n",
    "            i=i+1\n",
    "    return li"
   ]
  },
  {
   "cell_type": "code",
   "execution_count": 33,
   "id": "16fe1789",
   "metadata": {},
   "outputs": [
    {
     "data": {
      "text/plain": [
       "[1, 2, 3, 4, 4, 6, 7, 11, 13]"
      ]
     },
     "execution_count": 33,
     "metadata": {},
     "output_type": "execute_result"
    }
   ],
   "source": [
    "X=[1,3,4,7,11]\n",
    "Y=[2,4,6,13]\n",
    "merge(X,len(X),Y,len(Y))"
   ]
  },
  {
   "cell_type": "code",
   "execution_count": 34,
   "id": "5c7f6afb",
   "metadata": {},
   "outputs": [],
   "source": [
    "def pushZerosAtEnd(arr, n) :\n",
    "    li=[]\n",
    "    count=0\n",
    "    for i in range(0,n,1):\n",
    "        if arr[i]!=0:\n",
    "            li.append(arr[i])\n",
    "        else:\n",
    "            count=count+1\n",
    "            \n",
    "    while count!=0:\n",
    "        li.append(0)\n",
    "        count=count-1\n",
    "    \n",
    "    return li"
   ]
  },
  {
   "cell_type": "code",
   "execution_count": 36,
   "id": "5abcdc36",
   "metadata": {},
   "outputs": [
    {
     "data": {
      "text/plain": [
       "[5, 7, 4, 8, 1, 3, 7, 2, 0, 0, 0]"
      ]
     },
     "execution_count": 36,
     "metadata": {},
     "output_type": "execute_result"
    }
   ],
   "source": [
    "X=[5,0,7,4,8,1,3,0,7,2,0]\n",
    "pushZerosAtEnd(X,len(X))"
   ]
  },
  {
   "cell_type": "code",
   "execution_count": 52,
   "id": "9a03418d",
   "metadata": {},
   "outputs": [],
   "source": [
    "def rotate(arr, n, d):\n",
    "    rot_right=n-d\n",
    "    li=[]\n",
    "    for i in range(n):\n",
    "        li.append(0)\n",
    "    \n",
    "    for i in range(n):\n",
    "        idx=(i+rot_right)%n\n",
    "        li[idx]=arr[i]\n",
    "    \n",
    "    print(li)\n",
    "    for i in range(n):\n",
    "        arr[i]=li[i]\n",
    "    print(arr)    \n",
    "         \n",
    "        "
   ]
  },
  {
   "cell_type": "code",
   "execution_count": 53,
   "id": "e3c2c6e2",
   "metadata": {},
   "outputs": [
    {
     "name": "stdout",
     "output_type": "stream",
     "text": [
      "[3, 4, 1, 2]\n",
      "[3, 4, 1, 2]\n"
     ]
    }
   ],
   "source": [
    "X=[1,2,3,4]\n",
    "rotate(X,len(X),2)"
   ]
  },
  {
   "cell_type": "code",
   "execution_count": null,
   "id": "7444a8ad",
   "metadata": {},
   "outputs": [],
   "source": [
    "# printSecondLargest function\n",
    "def printSecondLargest(arr,n):\n",
    "    flag = True\n",
    "    for i in range(1,n):\n",
    "        if arr[i] != arr[0]:\n",
    "            flag = False\n",
    "            break\n",
    "    if flag:\n",
    "        return -2147483648\n",
    "    max = arr[0]\n",
    "    secmax = 0\n",
    "    for i in range(1,n):\n",
    "        if arr[i] > max:\n",
    "            secmax = max\n",
    "            max = arr[i]\n",
    "        elif arr[i] == max:\n",
    "            continue\n",
    "        else:\n",
    "            if arr[i] > secmax:\n",
    "                secmax = arr[i]\n",
    "    return secmax"
   ]
  },
  {
   "cell_type": "code",
   "execution_count": 61,
   "id": "a427c535",
   "metadata": {},
   "outputs": [],
   "source": [
    "def sort012(arr, n) :\n",
    "    c_zero=0\n",
    "    c_ones=0\n",
    "    c_twos=0\n",
    "    for i in range(n):\n",
    "        if arr[i]==0:\n",
    "            c_zero=c_zero+1\n",
    "        elif arr[i]==1:\n",
    "            c_ones=c_ones+1\n",
    "        else:\n",
    "            c_twos=c_twos+1\n",
    "    \n",
    "    j=0\n",
    "    while c_zero!=0:\n",
    "        arr[j]=0\n",
    "        c_zero=c_zero-1\n",
    "        j=j+1\n",
    "        \n",
    "    while c_ones!=0:\n",
    "        arr[j]=1\n",
    "        c_ones=c_ones-1\n",
    "        j=j+1\n",
    "        \n",
    "    while c_twos!=0:\n",
    "        arr[j]=2\n",
    "        c_twos=c_twos-1\n",
    "        j=j+1\n",
    "    print(arr)    \n",
    "    return arr    "
   ]
  },
  {
   "cell_type": "code",
   "execution_count": 63,
   "id": "4fbac05e",
   "metadata": {},
   "outputs": [
    {
     "name": "stdout",
     "output_type": "stream",
     "text": [
      "[0, 0, 1, 1, 1, 1, 2, 2, 2, 2, 2]\n"
     ]
    },
    {
     "data": {
      "text/plain": [
       "[0, 0, 1, 1, 1, 1, 2, 2, 2, 2, 2]"
      ]
     },
     "execution_count": 63,
     "metadata": {},
     "output_type": "execute_result"
    }
   ],
   "source": [
    "sort012([2,2,1,1,2,1,0,0,1,2,2],11)"
   ]
  },
  {
   "cell_type": "code",
   "execution_count": null,
   "id": "1c2b0283",
   "metadata": {},
   "outputs": [],
   "source": [
    "from sys import stdin\n",
    "\n",
    "def sumOfTwoArrays(arr1, n, arr2, m, output) :\n",
    "    \n",
    "    i=n-1\n",
    "    j=m-1\n",
    "    carry=0\n",
    "    \n",
    "    k=max(n,m)\n",
    "    \n",
    "    while i>=0 and j>=0:\n",
    "        SUM= arr1[i]+arr2[j]+carry\n",
    "        output[k] = SUM%10\n",
    "        carry=SUM//10\n",
    "        \n",
    "        i -= 1\n",
    "        j -= 1\n",
    "        k -= 1\n",
    "        \n",
    "    while i>=0:\n",
    "        SUM= arr1[i]+carry\n",
    "        output[k] = SUM%10\n",
    "        carry=SUM//10\n",
    "        \n",
    "        i -= 1\n",
    "        k -= 1\n",
    "        \n",
    "    while j>=0:\n",
    "        SUM= arr1[j]+carry\n",
    "        output[k] = SUM%10\n",
    "        carry=SUM//10\n",
    "        \n",
    "        j -= 1\n",
    "        k -= 1\n",
    "        \n",
    "    output[0]=carry\n",
    "        "
   ]
  }
 ],
 "metadata": {
  "kernelspec": {
   "display_name": "Python 3 (ipykernel)",
   "language": "python",
   "name": "python3"
  },
  "language_info": {
   "codemirror_mode": {
    "name": "ipython",
    "version": 3
   },
   "file_extension": ".py",
   "mimetype": "text/x-python",
   "name": "python",
   "nbconvert_exporter": "python",
   "pygments_lexer": "ipython3",
   "version": "3.9.7"
  }
 },
 "nbformat": 4,
 "nbformat_minor": 5
}
