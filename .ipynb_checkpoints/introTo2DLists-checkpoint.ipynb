{
 "cells": [
  {
   "cell_type": "code",
   "execution_count": 1,
   "id": "0336cf80",
   "metadata": {},
   "outputs": [
    {
     "data": {
      "text/plain": [
       "[[1, 2, 3, 4], [5, 6, 7, 8], [9, 10, 11, 12], [13, 14, 15, 16]]"
      ]
     },
     "execution_count": 1,
     "metadata": {},
     "output_type": "execute_result"
    }
   ],
   "source": [
    "li=[[1,2,3,4],[5,6,7,8],[9,10,11,12],[13,14,15,16]]\n",
    "li"
   ]
  },
  {
   "cell_type": "code",
   "execution_count": 2,
   "id": "60e1e080",
   "metadata": {},
   "outputs": [
    {
     "data": {
      "text/plain": [
       "4"
      ]
     },
     "execution_count": 2,
     "metadata": {},
     "output_type": "execute_result"
    }
   ],
   "source": [
    "li[0][3]"
   ]
  },
  {
   "cell_type": "code",
   "execution_count": 3,
   "id": "76484d21",
   "metadata": {},
   "outputs": [
    {
     "data": {
      "text/plain": [
       "15"
      ]
     },
     "execution_count": 3,
     "metadata": {},
     "output_type": "execute_result"
    }
   ],
   "source": [
    "li[3][2]"
   ]
  },
  {
   "cell_type": "code",
   "execution_count": 4,
   "id": "4ffe8974",
   "metadata": {},
   "outputs": [],
   "source": [
    "li[0][0]=73"
   ]
  },
  {
   "cell_type": "code",
   "execution_count": 5,
   "id": "cdaf00c7",
   "metadata": {},
   "outputs": [
    {
     "data": {
      "text/plain": [
       "[[73, 2, 3, 4], [5, 6, 7, 8], [9, 10, 11, 12], [13, 14, 15, 16]]"
      ]
     },
     "execution_count": 5,
     "metadata": {},
     "output_type": "execute_result"
    }
   ],
   "source": [
    "li"
   ]
  },
  {
   "cell_type": "code",
   "execution_count": null,
   "id": "e1cdf80f",
   "metadata": {},
   "outputs": [],
   "source": [
    "#2D list is list of list"
   ]
  },
  {
   "cell_type": "code",
   "execution_count": 6,
   "id": "a1c8213b",
   "metadata": {},
   "outputs": [],
   "source": [
    "#Jagged list is list of list but they dont have same columns\n",
    "li=[[1,2,3,4],[5,6,7],[8,9],[10,11,12]]"
   ]
  },
  {
   "cell_type": "code",
   "execution_count": 7,
   "id": "385c3795",
   "metadata": {},
   "outputs": [
    {
     "data": {
      "text/plain": [
       "[1, 2, 3, 4]"
      ]
     },
     "execution_count": 7,
     "metadata": {},
     "output_type": "execute_result"
    }
   ],
   "source": [
    "li[0]"
   ]
  },
  {
   "cell_type": "code",
   "execution_count": 8,
   "id": "0da4811a",
   "metadata": {},
   "outputs": [
    {
     "data": {
      "text/plain": [
       "[5, 6, 7]"
      ]
     },
     "execution_count": 8,
     "metadata": {},
     "output_type": "execute_result"
    }
   ],
   "source": [
    "li[1]"
   ]
  },
  {
   "cell_type": "code",
   "execution_count": 9,
   "id": "58bdd541",
   "metadata": {},
   "outputs": [
    {
     "data": {
      "text/plain": [
       "[8, 9]"
      ]
     },
     "execution_count": 9,
     "metadata": {},
     "output_type": "execute_result"
    }
   ],
   "source": [
    "li[2]"
   ]
  },
  {
   "cell_type": "code",
   "execution_count": 10,
   "id": "3626b15b",
   "metadata": {},
   "outputs": [
    {
     "data": {
      "text/plain": [
       "[10, 11, 12]"
      ]
     },
     "execution_count": 10,
     "metadata": {},
     "output_type": "execute_result"
    }
   ],
   "source": [
    "li[3]"
   ]
  },
  {
   "cell_type": "markdown",
   "id": "8199b0fb",
   "metadata": {},
   "source": [
    "List Comprehension"
   ]
  },
  {
   "cell_type": "code",
   "execution_count": 12,
   "id": "063d2abb",
   "metadata": {},
   "outputs": [
    {
     "data": {
      "text/plain": [
       "[1, 4, 9, 16]"
      ]
     },
     "execution_count": 12,
     "metadata": {},
     "output_type": "execute_result"
    }
   ],
   "source": [
    "li=[1,2,3,4]\n",
    "li_new=[]\n",
    "for ele in li:\n",
    "    li_new.append(ele**2)\n",
    "li_new"
   ]
  },
  {
   "cell_type": "code",
   "execution_count": 14,
   "id": "dee89b83",
   "metadata": {},
   "outputs": [
    {
     "data": {
      "text/plain": [
       "[1, 4, 9, 16]"
      ]
     },
     "execution_count": 14,
     "metadata": {},
     "output_type": "execute_result"
    }
   ],
   "source": [
    "#list comprehension\n",
    "li_new_c=[ele**2 for ele in li]\n",
    "li_new_c"
   ]
  },
  {
   "cell_type": "code",
   "execution_count": 15,
   "id": "4fabec56",
   "metadata": {},
   "outputs": [
    {
     "data": {
      "text/plain": [
       "[4, 16]"
      ]
     },
     "execution_count": 15,
     "metadata": {},
     "output_type": "execute_result"
    }
   ],
   "source": [
    "#syntax for list comprehension [o/p,for expression,condition]\n",
    "li_even_square=[ele**2 for ele in li if ele%2==0]\n",
    "li_even_square"
   ]
  },
  {
   "cell_type": "code",
   "execution_count": 16,
   "id": "fa09ad4d",
   "metadata": {},
   "outputs": [
    {
     "data": {
      "text/plain": [
       "[6]"
      ]
     },
     "execution_count": 16,
     "metadata": {},
     "output_type": "execute_result"
    }
   ],
   "source": [
    "li=[1,2,3,4,5,6,7,8,9]\n",
    "li_new=[ele for ele in li if ele%2==0 if ele%3==0]\n",
    "li_new"
   ]
  },
  {
   "cell_type": "code",
   "execution_count": 17,
   "id": "f4541bf0",
   "metadata": {},
   "outputs": [
    {
     "data": {
      "text/plain": [
       "[2, 4]"
      ]
     },
     "execution_count": 17,
     "metadata": {},
     "output_type": "execute_result"
    }
   ],
   "source": [
    "X=[1,2,3,4,5]\n",
    "Y=[2,4,6,7]\n",
    "Z=[ele for ele in X for ele1 in Y if ele==ele1]\n",
    "Z"
   ]
  },
  {
   "cell_type": "code",
   "execution_count": 21,
   "id": "abc8bb16",
   "metadata": {},
   "outputs": [
    {
     "data": {
      "text/plain": [
       "[1, 4, 3, 16, 5]"
      ]
     },
     "execution_count": 21,
     "metadata": {},
     "output_type": "execute_result"
    }
   ],
   "source": [
    "li=[1,2,3,4,5]\n",
    "li_new=[ele**2 if ele%2==0 else ele for ele in li]\n",
    "li_new"
   ]
  },
  {
   "cell_type": "code",
   "execution_count": 22,
   "id": "a3638562",
   "metadata": {},
   "outputs": [
    {
     "data": {
      "text/plain": [
       "['P', 'a', 'r', 'i', 'k', 'h']"
      ]
     },
     "execution_count": 22,
     "metadata": {},
     "output_type": "execute_result"
    }
   ],
   "source": [
    "s=\"Parikh\"\n",
    "li=[ele for ele in s]\n",
    "li"
   ]
  },
  {
   "cell_type": "code",
   "execution_count": 23,
   "id": "0bbfb994",
   "metadata": {},
   "outputs": [
    {
     "data": {
      "text/plain": [
       "[['P', 'a', 'r', 'i', 'k', 'h'],\n",
       " ['R', 'o', 'h', 'a', 'n'],\n",
       " ['A', 'n', 'k', 'u', 's', 'h']]"
      ]
     },
     "execution_count": 23,
     "metadata": {},
     "output_type": "execute_result"
    }
   ],
   "source": [
    "li=[\"Parikh\",\"Rohan\",\"Ankush\"]\n",
    "li_2D=[[letter for letter in ele] for ele in li]\n",
    "li_2D"
   ]
  },
  {
   "cell_type": "code",
   "execution_count": 24,
   "id": "f9c20717",
   "metadata": {},
   "outputs": [
    {
     "name": "stdout",
     "output_type": "stream",
     "text": [
      "[0, 9, 36, 81]\n"
     ]
    }
   ],
   "source": [
    "li = [ele**2 for ele in range(10) if ele%3 ==0]\n",
    "print(li)"
   ]
  },
  {
   "cell_type": "code",
   "execution_count": 25,
   "id": "e8f0e49b",
   "metadata": {},
   "outputs": [
    {
     "name": "stdout",
     "output_type": "stream",
     "text": [
      "[[0, 0, 0, 0], [0, 1, 2, 3], [0, 2, 4, 6]]\n"
     ]
    }
   ],
   "source": [
    "li = [[ i*j for j in range(4)] for i in range(3)]\n",
    "print(li)"
   ]
  },
  {
   "cell_type": "code",
   "execution_count": 2,
   "id": "e20452c4",
   "metadata": {},
   "outputs": [
    {
     "name": "stdout",
     "output_type": "stream",
     "text": [
      "3 4 \n",
      "3 4\n",
      "1 2 3 4\n",
      "5 6 7 8\n",
      "9 10 11 12\n"
     ]
    }
   ],
   "source": [
    "#method 1\n",
    "#input in list\n",
    "#can take jagged list\n",
    "str=input().split()\n",
    "n,m=int(str[0]),int(str[1])\n",
    "print(n,m)\n",
    "li=[[int(j) for j in input().split()] for i in range(n)]"
   ]
  },
  {
   "cell_type": "code",
   "execution_count": 3,
   "id": "2956fd01",
   "metadata": {},
   "outputs": [
    {
     "data": {
      "text/plain": [
       "[[1, 2, 3, 4], [5, 6, 7, 8], [9, 10, 11, 12]]"
      ]
     },
     "execution_count": 3,
     "metadata": {},
     "output_type": "execute_result"
    }
   ],
   "source": [
    "li"
   ]
  },
  {
   "cell_type": "code",
   "execution_count": 10,
   "id": "3286bc00",
   "metadata": {},
   "outputs": [
    {
     "name": "stdout",
     "output_type": "stream",
     "text": [
      "3 4\n",
      "1 2 3 4 5 6 7 8 9 10 11 12\n"
     ]
    },
    {
     "data": {
      "text/plain": [
       "[[1, 2, 3, 4], [5, 6, 7, 8], [9, 10, 11, 12]]"
      ]
     },
     "execution_count": 10,
     "metadata": {},
     "output_type": "execute_result"
    }
   ],
   "source": [
    "#method 2\n",
    "#input in one -D array\n",
    "#idx (i,j)=m*i+j m is no of columns in 2 d array\n",
    "str=input().split()\n",
    "n,m=int(str[0]),int(str[1])\n",
    "b=input().split()\n",
    "li=[[int(b[m*i+j]) for j in range(m)] for i in range(n)]\n",
    "li"
   ]
  },
  {
   "cell_type": "code",
   "execution_count": 11,
   "id": "a920f89b",
   "metadata": {},
   "outputs": [
    {
     "name": "stdout",
     "output_type": "stream",
     "text": [
      "1 2 3 4 \n",
      "5 6 7 8 \n",
      "9 10 11 12 \n"
     ]
    }
   ],
   "source": [
    "#iterating over 2D array \n",
    "for i in range(n):\n",
    "    for j in range(m):\n",
    "        print(li[i][j],end=' ')\n",
    "    print()    "
   ]
  },
  {
   "cell_type": "code",
   "execution_count": 22,
   "id": "8685066a",
   "metadata": {},
   "outputs": [
    {
     "name": "stdout",
     "output_type": "stream",
     "text": [
      "1 2 3 4 \n",
      "5 6 \n",
      "9 10 11 \n"
     ]
    }
   ],
   "source": [
    "for sublist in li:\n",
    "    for ele in sublist:\n",
    "        print(ele,end=' ')\n",
    "    print()    "
   ]
  },
  {
   "cell_type": "code",
   "execution_count": 13,
   "id": "526b5eb5",
   "metadata": {},
   "outputs": [
    {
     "data": {
      "text/plain": [
       "'aabbabcabd'"
      ]
     },
     "execution_count": 13,
     "metadata": {},
     "output_type": "execute_result"
    }
   ],
   "source": [
    "'ab'.join(\"abcd\") #a joined with ab then b joined with ab then \n",
    "#c joined with ab then d left as it is aab | bab | cab |d "
   ]
  },
  {
   "cell_type": "code",
   "execution_count": 14,
   "id": "ba334890",
   "metadata": {},
   "outputs": [
    {
     "data": {
      "text/plain": [
       "'1ab2ab3'"
      ]
     },
     "execution_count": 14,
     "metadata": {},
     "output_type": "execute_result"
    }
   ],
   "source": [
    "'ab'.join(['1','2','3'])"
   ]
  },
  {
   "cell_type": "code",
   "execution_count": 24,
   "id": "e39e4fd0",
   "metadata": {},
   "outputs": [
    {
     "name": "stdout",
     "output_type": "stream",
     "text": [
      "1 2 3 4\n",
      "5 6\n",
      "9 10 11\n"
     ]
    }
   ],
   "source": [
    "li=[['1','2','3','4'],['5','6'],['9','10','11']]\n",
    "for row in li:\n",
    "    output=' '.join(row)\n",
    "    print(output)\n",
    "    "
   ]
  },
  {
   "cell_type": "code",
   "execution_count": null,
   "id": "5d1bd38b",
   "metadata": {},
   "outputs": [],
   "source": []
  }
 ],
 "metadata": {
  "kernelspec": {
   "display_name": "Python 3 (ipykernel)",
   "language": "python",
   "name": "python3"
  },
  "language_info": {
   "codemirror_mode": {
    "name": "ipython",
    "version": 3
   },
   "file_extension": ".py",
   "mimetype": "text/x-python",
   "name": "python",
   "nbconvert_exporter": "python",
   "pygments_lexer": "ipython3",
   "version": "3.9.7"
  }
 },
 "nbformat": 4,
 "nbformat_minor": 5
}
