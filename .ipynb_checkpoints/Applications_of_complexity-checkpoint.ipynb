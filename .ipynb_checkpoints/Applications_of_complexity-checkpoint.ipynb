{
 "cells": [
  {
   "cell_type": "code",
   "execution_count": 2,
   "id": "7eb7e497",
   "metadata": {},
   "outputs": [
    {
     "name": "stdout",
     "output_type": "stream",
     "text": [
      "2 5\n",
      "32\n"
     ]
    }
   ],
   "source": [
    "def power(x, n):\n",
    "    if n==0:\n",
    "        return 1\n",
    "    if n==1:\n",
    "        return x\n",
    "    res=power(x,n//2)\n",
    "    if n%2==0:\n",
    "        return res*res\n",
    "    else:\n",
    "        return res*res*x\n",
    "\n",
    "# Main\n",
    "from sys import setrecursionlimit\n",
    "setrecursionlimit(11000)\n",
    "x, n=list(int(i) for i in input().strip().split(' '))\n",
    "print(power(x, n))"
   ]
  },
  {
   "cell_type": "code",
   "execution_count": null,
   "id": "6b3cd9e9",
   "metadata": {},
   "outputs": [],
   "source": [
    "def intersection(arr1,arr2,n,m):\n",
    "    res=[]\n",
    "    if n>=m:\n",
    "        arr2.sort()\n",
    "        for i in range(n):\n",
    "            ele=arr1[i]\n",
    "            low=0\n",
    "            high=m-1\n",
    "            while low<=high:\n",
    "                mid=(low+high)//2\n",
    "                if arr2[mid]==ele:\n",
    "                    res.append(arr2[mid])\n",
    "                elif arr2[mid]>ele:\n",
    "                    high=mid-1\n",
    "                else:\n",
    "                    low=mid+1\n",
    "                    \n",
    "    print(res)                "
   ]
  },
  {
   "cell_type": "code",
   "execution_count": null,
   "id": "c8c1694d",
   "metadata": {},
   "outputs": [],
   "source": [
    "li1 = [int(x) for x in input().split()]\n",
    "li2=[int(y) for y in input().split()]\n",
    "intersection(li1,li2,len(li1),len(li2))"
   ]
  },
  {
   "cell_type": "code",
   "execution_count": null,
   "id": "249795b2",
   "metadata": {},
   "outputs": [],
   "source": []
  }
 ],
 "metadata": {
  "kernelspec": {
   "display_name": "Python 3 (ipykernel)",
   "language": "python",
   "name": "python3"
  },
  "language_info": {
   "codemirror_mode": {
    "name": "ipython",
    "version": 3
   },
   "file_extension": ".py",
   "mimetype": "text/x-python",
   "name": "python",
   "nbconvert_exporter": "python",
   "pygments_lexer": "ipython3",
   "version": "3.9.7"
  }
 },
 "nbformat": 4,
 "nbformat_minor": 5
}
