{
 "cells": [
  {
   "cell_type": "code",
   "execution_count": 2,
   "id": "b8eff4da",
   "metadata": {},
   "outputs": [],
   "source": [
    "def fact(n):\n",
    "    if n==1:\n",
    "        return 1\n",
    "    n=n*fact(n-1)\n",
    "    return n"
   ]
  },
  {
   "cell_type": "code",
   "execution_count": 4,
   "id": "a6e13d76",
   "metadata": {},
   "outputs": [
    {
     "name": "stdout",
     "output_type": "stream",
     "text": [
      "6\n",
      "24\n"
     ]
    }
   ],
   "source": [
    "print(fact(3))\n",
    "print(fact(4))"
   ]
  },
  {
   "cell_type": "code",
   "execution_count": null,
   "id": "bff47580",
   "metadata": {},
   "outputs": [],
   "source": [
    "#recursion based on pmi ie principal mathematical induction"
   ]
  },
  {
   "cell_type": "code",
   "execution_count": 5,
   "id": "58ec5d7e",
   "metadata": {},
   "outputs": [],
   "source": [
    "def sum_n(n):\n",
    "    if n==0:\n",
    "        return 0\n",
    "    sum=sum_n(n-1)+n\n",
    "    return sum"
   ]
  },
  {
   "cell_type": "code",
   "execution_count": 6,
   "id": "2dbdda71",
   "metadata": {},
   "outputs": [
    {
     "data": {
      "text/plain": [
       "15"
      ]
     },
     "execution_count": 6,
     "metadata": {},
     "output_type": "execute_result"
    }
   ],
   "source": [
    "sum_n(5)"
   ]
  },
  {
   "cell_type": "code",
   "execution_count": 7,
   "id": "50d52334",
   "metadata": {},
   "outputs": [
    {
     "name": "stdout",
     "output_type": "stream",
     "text": [
      "3 4\n",
      "81\n"
     ]
    }
   ],
   "source": [
    "def cal_power(x,n):\n",
    "    if n==0:\n",
    "        return 1\n",
    "    product=x*cal_power(x,n-1)\n",
    "    return product\n",
    "\n",
    "a,b=input().split()\n",
    "a=int(a)\n",
    "b=int(b)\n",
    "print(cal_power(a,b))"
   ]
  },
  {
   "cell_type": "code",
   "execution_count": 18,
   "id": "64ed14ae",
   "metadata": {},
   "outputs": [],
   "source": [
    "def fib(n):\n",
    "    if n==1 or n==2:\n",
    "        return 1\n",
    "    fib_n_1=fib(n-1)\n",
    "    fib_n_2=fib(n-2)\n",
    "    output=fib_n_1+fib_n_2\n",
    "    return output"
   ]
  },
  {
   "cell_type": "code",
   "execution_count": 19,
   "id": "70b4597d",
   "metadata": {},
   "outputs": [
    {
     "data": {
      "text/plain": [
       "1"
      ]
     },
     "execution_count": 19,
     "metadata": {},
     "output_type": "execute_result"
    }
   ],
   "source": [
    "fib(2)"
   ]
  },
  {
   "cell_type": "code",
   "execution_count": 20,
   "id": "a9cb781a",
   "metadata": {},
   "outputs": [
    {
     "data": {
      "text/plain": [
       "2"
      ]
     },
     "execution_count": 20,
     "metadata": {},
     "output_type": "execute_result"
    }
   ],
   "source": [
    "fib(3)"
   ]
  },
  {
   "cell_type": "code",
   "execution_count": 21,
   "id": "9ef8cad3",
   "metadata": {},
   "outputs": [
    {
     "data": {
      "text/plain": [
       "3"
      ]
     },
     "execution_count": 21,
     "metadata": {},
     "output_type": "execute_result"
    }
   ],
   "source": [
    "fib(4)"
   ]
  },
  {
   "cell_type": "code",
   "execution_count": null,
   "id": "674670bb",
   "metadata": {},
   "outputs": [],
   "source": [
    "fact(5000)"
   ]
  },
  {
   "cell_type": "code",
   "execution_count": 1,
   "id": "8ba02cca",
   "metadata": {},
   "outputs": [],
   "source": [
    "import sys\n",
    "sys.setrecursionlimit(6000)"
   ]
  },
  {
   "cell_type": "code",
   "execution_count": 1,
   "id": "f22fb4ad",
   "metadata": {},
   "outputs": [],
   "source": [
    "def isSorted(a):\n",
    "    l=len(a)\n",
    "    if l==1 or l==0:\n",
    "        return True\n",
    "    if a[0]>a[1]:\n",
    "        return False\n",
    "    smallerList=a[1:]\n",
    "    isSmallerListSorted=isSorted(smallerList)\n",
    "    if isSmallerListSorted:\n",
    "        return True\n",
    "    else:\n",
    "        return False\n",
    "    "
   ]
  },
  {
   "cell_type": "code",
   "execution_count": 3,
   "id": "a01e02e1",
   "metadata": {},
   "outputs": [
    {
     "name": "stdout",
     "output_type": "stream",
     "text": [
      "True\n",
      "False\n"
     ]
    }
   ],
   "source": [
    "X=[1,2,3,4,5,6,7,8,9,10]\n",
    "Y=[1,2,5,3,6]\n",
    "print(isSorted(X))\n",
    "print(isSorted(Y))"
   ]
  },
  {
   "cell_type": "code",
   "execution_count": 4,
   "id": "da7baf35",
   "metadata": {},
   "outputs": [
    {
     "name": "stdout",
     "output_type": "stream",
     "text": [
      "5\n",
      "1 2 3 4 5\n",
      "15\n"
     ]
    }
   ],
   "source": [
    "def sumArray(arr):\n",
    "    l=len(arr)\n",
    "    if l==1:\n",
    "        return arr[l-1]\n",
    "    small_arr=arr[1:]\n",
    "    sum=0\n",
    "    sum=sum+sumArray(small_arr)+arr[0]\n",
    "    return sum\n",
    "    \n",
    "\n",
    "# Main\n",
    "from sys import setrecursionlimit\n",
    "setrecursionlimit(11000)\n",
    "n=int(input())\n",
    "arr=list(int(i) for i in input().strip().split(' '))\n",
    "print(sumArray(arr))"
   ]
  },
  {
   "cell_type": "code",
   "execution_count": 5,
   "id": "94365d98",
   "metadata": {},
   "outputs": [],
   "source": [
    "def checkNumber(arr, x):\n",
    "    if len(arr)==1 and arr[0]!=x:\n",
    "        return False\n",
    "    if arr[0]==x:\n",
    "        return True\n",
    "    return checkNumber(arr[1:],x)"
   ]
  },
  {
   "cell_type": "code",
   "execution_count": 8,
   "id": "d11566f5",
   "metadata": {},
   "outputs": [],
   "source": [
    "def isSorted2(arr,si):\n",
    "    l=len(arr)\n",
    "    if si==l-1:\n",
    "        return True\n",
    "    if arr[si]>arr[si+1]:\n",
    "        return False\n",
    "    else:\n",
    "        return isSorted2(arr,si+1)"
   ]
  },
  {
   "cell_type": "code",
   "execution_count": 11,
   "id": "c7993685",
   "metadata": {},
   "outputs": [
    {
     "name": "stdout",
     "output_type": "stream",
     "text": [
      "False\n"
     ]
    }
   ],
   "source": [
    "X=[1,2,3,4,50,6]\n",
    "print(isSorted2(X,0))"
   ]
  },
  {
   "cell_type": "code",
   "execution_count": 1,
   "id": "a30ce852",
   "metadata": {},
   "outputs": [
    {
     "name": "stdout",
     "output_type": "stream",
     "text": [
      "5\n",
      "1 2 3 4 5\n",
      "5\n",
      "4\n"
     ]
    }
   ],
   "source": [
    "def find_last_index(li,x,si):\n",
    "    if si==len(li):\n",
    "        return -1\n",
    "    idx=0\n",
    "    idx=find_last_index(li,x,si+1)\n",
    "    if li[si]==x and si>idx:\n",
    "        idx=si\n",
    "    return idx    \n",
    "\n",
    "\n",
    "n=int(input())\n",
    "li=[int(x) for x in input().split()]\n",
    "x=int(input())\n",
    "print(find_last_index(li,x,0))"
   ]
  },
  {
   "cell_type": "code",
   "execution_count": 1,
   "id": "521636bc",
   "metadata": {},
   "outputs": [],
   "source": [
    "def Replace_Char(s,a,b):\n",
    "    if len(s)==0:\n",
    "        return s\n",
    "    smalloutput=Replace_Char(s[1:],a,b)\n",
    "    if s[0]==a:\n",
    "        return b+smalloutput\n",
    "    else:\n",
    "        return s[0]+smalloutput"
   ]
  },
  {
   "cell_type": "code",
   "execution_count": 5,
   "id": "4410e305",
   "metadata": {},
   "outputs": [
    {
     "data": {
      "text/plain": [
       "'xdxx'"
      ]
     },
     "execution_count": 5,
     "metadata": {},
     "output_type": "execute_result"
    }
   ],
   "source": [
    "Replace_Char(\"cdxc\",'c','x')"
   ]
  },
  {
   "cell_type": "code",
   "execution_count": 6,
   "id": "f86640a5",
   "metadata": {},
   "outputs": [
    {
     "name": "stdout",
     "output_type": "stream",
     "text": [
      "pxxp\n",
      "pp\n"
     ]
    }
   ],
   "source": [
    "def removeX(string): \n",
    "    if len(string)==0:\n",
    "        return string\n",
    "    output=removeX(string[1:])\n",
    "    if string[0]=='x':\n",
    "        return output\n",
    "    else:\n",
    "        return string[0]+output\n",
    "\n",
    "# Main\n",
    "string = input()\n",
    "print(removeX(string))"
   ]
  },
  {
   "cell_type": "code",
   "execution_count": 1,
   "id": "4be94b0b",
   "metadata": {},
   "outputs": [
    {
     "name": "stdout",
     "output_type": "stream",
     "text": [
      "xxxxyyyyyyxxxxvvzzzz\n",
      "xyxvz\n"
     ]
    }
   ],
   "source": [
    "# Problem ID 91, removeConsecutiveDuplicates\n",
    "def removeConsecutiveDuplicates(string):\n",
    "    if len(string)==0 or len(string)==1:\n",
    "        return string  \n",
    "    while len(string)>1 and string[0]==string[1]:\n",
    "        string=string[1:]\n",
    "    output=removeConsecutiveDuplicates(string[1:])\n",
    "    return string[0]+output\n",
    "        \n",
    "        \n",
    "    \n",
    "\n",
    "# Main\n",
    "string = input().strip()\n",
    "print(removeConsecutiveDuplicates(string))"
   ]
  },
  {
   "cell_type": "code",
   "execution_count": 2,
   "id": "760d5c1e",
   "metadata": {},
   "outputs": [
    {
     "name": "stdout",
     "output_type": "stream",
     "text": [
      "5\n",
      "1 4 5 7\n",
      "1 4 5 7\n"
     ]
    }
   ],
   "source": [
    "def mergeSort(arr, start, end):\n",
    "    if len(arr) > 1:\n",
    "        mid = (start+end)//2\n",
    "        left = arr[:mid]\n",
    "        right = arr[mid:]\n",
    "        mergeSort(left,0,len(left))\n",
    "        mergeSort(right,0,len(right))\n",
    "        i = j = k =0\n",
    "        while i < len(left) and j < len(right):\n",
    "            if left[i] < right[j]:\n",
    "                arr[k] = left[i]\n",
    "                i += 1\n",
    "            else:\n",
    "                arr[k] = right[j]\n",
    "                j += 1\n",
    "            k += 1\n",
    "        while i < len(left):\n",
    "            arr[k] = left[i]\n",
    "            i += 1\n",
    "            k += 1\n",
    "        while j < len(right):\n",
    "            arr[k] = right[j]\n",
    "            j += 1\n",
    "            k += 1\n",
    "\n",
    "# Main\n",
    "n=int(input())\n",
    "arr=list(int(i) for i in input().strip().split(' '))\n",
    "mergeSort(arr, 0, n)\n",
    "print(*arr)"
   ]
  },
  {
   "cell_type": "code",
   "execution_count": 4,
   "id": "8486408e",
   "metadata": {},
   "outputs": [],
   "source": [
    "def merge(arr,list1,list2):\n",
    "    i=0\n",
    "    j=0\n",
    "    k=0\n",
    "    while i<len(list1) and j<len(list2):\n",
    "        if list1[i]>list2[j]:\n",
    "            arr[k]=list2[j]\n",
    "            j=j+1\n",
    "        else:\n",
    "            arr[k]=list1[i]\n",
    "            i=i+1\n",
    "        k=k+1\n",
    "    \n",
    "    while i<len(list1):\n",
    "        arr[k]=list1[i]\n",
    "        i=i+1\n",
    "        k=k+1\n",
    "    \n",
    "    while j<len(list2):\n",
    "        arr[k]=list2[j]\n",
    "        j=j+1\n",
    "        k=k+1"
   ]
  },
  {
   "cell_type": "code",
   "execution_count": 3,
   "id": "4fcb2809",
   "metadata": {},
   "outputs": [],
   "source": [
    "def mergeSort2(arr):\n",
    "    if len(arr)==0 or len(arr)==1:\n",
    "        return\n",
    "    mid=len(arr)//2\n",
    "    list1=arr[:mid]\n",
    "    list2=arr[mid:]\n",
    "    mergeSort2(list1)\n",
    "    mergeSort2(list2)\n",
    "    merge(arr,list1,list2)"
   ]
  },
  {
   "cell_type": "code",
   "execution_count": 5,
   "id": "14d7c6a5",
   "metadata": {},
   "outputs": [
    {
     "data": {
      "text/plain": [
       "[1, 2, 3, 4, 6, 8]"
      ]
     },
     "execution_count": 5,
     "metadata": {},
     "output_type": "execute_result"
    }
   ],
   "source": [
    "X=[6,4,3,2,8,1]\n",
    "mergeSort2(X)\n",
    "X"
   ]
  },
  {
   "cell_type": "code",
   "execution_count": 9,
   "id": "bedc2d91",
   "metadata": {},
   "outputs": [],
   "source": [
    "def Partition(arr,si,ei):\n",
    "    pivot=arr[si]\n",
    "    c=0\n",
    "    for i in range(si,ei+1):\n",
    "        if arr[i]<pivot:\n",
    "            c=c+1\n",
    "    arr[si+c],arr[si]=arr[si],arr[si+c]\n",
    "    pivot_index=si+c\n",
    "    i=si\n",
    "    j=ei\n",
    "    while i<j:\n",
    "        if arr[i]<pivot:\n",
    "            i=i+1\n",
    "        elif arr[j]>=pivot:\n",
    "            j=j-1\n",
    "        else:\n",
    "            arr[i],arr[j]=arr[j],arr[i]\n",
    "            i=i+1\n",
    "            j=j-1\n",
    "    return pivot_index\n",
    "    \n",
    "    \n",
    "            \n",
    "            "
   ]
  },
  {
   "cell_type": "code",
   "execution_count": 10,
   "id": "1b6daaed",
   "metadata": {},
   "outputs": [],
   "source": [
    "def QuickSort(arr,si,ei):\n",
    "    if si>=ei:\n",
    "        return \n",
    "    pivot_index=Partition(arr,si,ei)\n",
    "    QuickSort(arr,si,pivot_index-1)\n",
    "    QuickSort(arr,pivot_index+1,ei)"
   ]
  },
  {
   "cell_type": "code",
   "execution_count": 11,
   "id": "7456d79b",
   "metadata": {},
   "outputs": [
    {
     "data": {
      "text/plain": [
       "[1, 2, 3, 4, 6, 8]"
      ]
     },
     "execution_count": 11,
     "metadata": {},
     "output_type": "execute_result"
    }
   ],
   "source": [
    "X=[6,4,3,2,8,1]\n",
    "QuickSort(X,0,len(X)-1)\n",
    "X"
   ]
  },
  {
   "cell_type": "code",
   "execution_count": 1,
   "id": "c81f4b53",
   "metadata": {},
   "outputs": [
    {
     "name": "stdout",
     "output_type": "stream",
     "text": [
      "4\n",
      "a b\n",
      "a c\n",
      "b c\n",
      "a b\n",
      "c a\n",
      "c b\n",
      "a b\n",
      "a c\n",
      "b c\n",
      "b a\n",
      "c a\n",
      "b c\n",
      "a b\n",
      "a c\n",
      "b c\n"
     ]
    }
   ],
   "source": [
    "def towerofhanoi(n, source, aux, dest):\n",
    "    if n==0:\n",
    "        return\n",
    "    towerofhanoi(n-1,source,dest,aux)\n",
    "    print(source,dest)\n",
    "    towerofhanoi(n-1,aux,source,dest)\n",
    "\n",
    "n=int(input())\n",
    "towerofhanoi(n, 'a', 'b', 'c')"
   ]
  },
  {
   "cell_type": "code",
   "execution_count": 3,
   "id": "c8323f1d",
   "metadata": {},
   "outputs": [],
   "source": [
    "def tower_of_hanoi_2(n,a,b,c):\n",
    "    if n==1:\n",
    "        print(\"move 1st disk from\",a,\"to\",c)\n",
    "        return\n",
    "    tower_of_hanoi_2(n-1,a,c,b)\n",
    "    print(\"move \",n,\"disk from\",a,\"to\",c)\n",
    "    tower_of_hanoi_2(n-1,b,a,c)\n",
    "    \n",
    "        "
   ]
  },
  {
   "cell_type": "code",
   "execution_count": 4,
   "id": "c2bbad03",
   "metadata": {},
   "outputs": [
    {
     "name": "stdout",
     "output_type": "stream",
     "text": [
      "2\n",
      "move 1st disk from a to b\n",
      "move  2 disk from a to c\n",
      "move 1st disk from b to c\n"
     ]
    }
   ],
   "source": [
    "n=int(input())\n",
    "tower_of_hanoi_2(n, 'a', 'b', 'c')"
   ]
  },
  {
   "cell_type": "code",
   "execution_count": 12,
   "id": "67314ae1",
   "metadata": {},
   "outputs": [
    {
     "data": {
      "text/plain": [
       "13.95"
      ]
     },
     "execution_count": 12,
     "metadata": {},
     "output_type": "execute_result"
    }
   ],
   "source": [
    "x = 13.949999999999999999\n",
    "h = round(x, 2)\n",
    "h"
   ]
  },
  {
   "cell_type": "code",
   "execution_count": 13,
   "id": "1d4c6bb4",
   "metadata": {},
   "outputs": [
    {
     "name": "stdout",
     "output_type": "stream",
     "text": [
      "3\n",
      "1.87500\n"
     ]
    }
   ],
   "source": [
    "## Read input as specified in the question.\n",
    "## Print output as specified in the question.\n",
    "def GeometricSum(k):\n",
    "    if k==0:\n",
    "        return 1\n",
    "    product=1\n",
    "    sum=0\n",
    "    for i in range(0,k,1):\n",
    "        product=product*2\n",
    "    term=1/product\n",
    "    sum=sum+term+GeometricSum(k-1)\n",
    "    return sum\n",
    "\n",
    "\n",
    "n=int(input())\n",
    "val=GeometricSum(n)\n",
    "print('%.5f' % val)"
   ]
  },
  {
   "cell_type": "code",
   "execution_count": 15,
   "id": "b2b904ba",
   "metadata": {},
   "outputs": [
    {
     "name": "stdout",
     "output_type": "stream",
     "text": [
      "racecar\n",
      "true\n"
     ]
    }
   ],
   "source": [
    "def palindrome(S,si,ei,mid):\n",
    "    if si==mid:\n",
    "        return True\n",
    "    ans=False\n",
    "    if S[si]==S[ei]:\n",
    "        ans=palindrome(S,si+1,ei-1,mid)\n",
    "    else:\n",
    "        return False\n",
    "    return ans\n",
    "\n",
    "\n",
    "s=input()\n",
    "mid=len(s)//2\n",
    "ei=len(s)-1\n",
    "ans=palindrome(s,0,ei,mid)\n",
    "if ans==True:\n",
    "    print('true')\n",
    "else:\n",
    "    print('false')"
   ]
  },
  {
   "cell_type": "code",
   "execution_count": 14,
   "id": "651ca61a",
   "metadata": {},
   "outputs": [
    {
     "name": "stdout",
     "output_type": "stream",
     "text": [
      "12345\n",
      "15\n"
     ]
    }
   ],
   "source": [
    "def Sumofdigits(n):\n",
    "    if n==0:\n",
    "        return 0\n",
    "    rem=0\n",
    "    sum=0\n",
    "    rem=n%10\n",
    "    n=n//10\n",
    "    sum=Sumofdigits(n)+rem\n",
    "    return sum\n",
    "\n",
    "\n",
    "n=int(input())\n",
    "print(Sumofdigits(n))"
   ]
  },
  {
   "cell_type": "code",
   "execution_count": 16,
   "id": "8ff2723a",
   "metadata": {},
   "outputs": [
    {
     "name": "stdout",
     "output_type": "stream",
     "text": [
      "3\n",
      "5\n",
      "15\n"
     ]
    }
   ],
   "source": [
    "def Multiplication(M,N):\n",
    "    if N==0:\n",
    "        return 0\n",
    "    sum=0\n",
    "    sum=sum+Multiplication(M,N-1)+M\n",
    "    return sum\n",
    "\n",
    "\n",
    "from sys import setrecursionlimit\n",
    "setrecursionlimit(10**6)\n",
    "m=int(input())\n",
    "n=int(input())\n",
    "print(Multiplication(m,n))"
   ]
  },
  {
   "cell_type": "code",
   "execution_count": 17,
   "id": "e7dac341",
   "metadata": {},
   "outputs": [
    {
     "name": "stdout",
     "output_type": "stream",
     "text": [
      "30850\n",
      "2\n"
     ]
    }
   ],
   "source": [
    "def CountZeroes(n):\n",
    "    if n==0:\n",
    "        return 0\n",
    "    rem=n%10\n",
    "    n=n//10\n",
    "    x=CountZeroes(n)\n",
    "    if rem==0:\n",
    "        return x+1\n",
    "    else:\n",
    "        return x\n",
    "    \n",
    "    \n",
    "n=int(input())\n",
    "ans=1\n",
    "if n==0:\n",
    "    print(ans)\n",
    "else:\n",
    "    print(CountZeroes(n))"
   ]
  },
  {
   "cell_type": "code",
   "execution_count": 18,
   "id": "4220f5f2",
   "metadata": {},
   "outputs": [
    {
     "data": {
      "text/plain": [
       "'a'"
      ]
     },
     "execution_count": 18,
     "metadata": {},
     "output_type": "execute_result"
    }
   ],
   "source": [
    "s=\"abc\"\n",
    "s[0]"
   ]
  },
  {
   "cell_type": "code",
   "execution_count": 19,
   "id": "8cf8d12e",
   "metadata": {},
   "outputs": [
    {
     "data": {
      "text/plain": [
       "100"
      ]
     },
     "execution_count": 19,
     "metadata": {},
     "output_type": "execute_result"
    }
   ],
   "source": [
    "10**2"
   ]
  },
  {
   "cell_type": "code",
   "execution_count": 20,
   "id": "17e31239",
   "metadata": {},
   "outputs": [
    {
     "data": {
      "text/plain": [
       "1000"
      ]
     },
     "execution_count": 20,
     "metadata": {},
     "output_type": "execute_result"
    }
   ],
   "source": [
    "10**len(s)"
   ]
  },
  {
   "cell_type": "code",
   "execution_count": 21,
   "id": "e4a951cb",
   "metadata": {},
   "outputs": [
    {
     "name": "stdout",
     "output_type": "stream",
     "text": [
      "34521\n",
      "34521\n"
     ]
    }
   ],
   "source": [
    "def StringToInteger(s):\n",
    "    if len(s)==1:\n",
    "        return int(s[0])\n",
    "    c=s[0]\n",
    "    rem=int(c)\n",
    "    s=s[1:]\n",
    "    ans=0\n",
    "    ans=rem*(10**len(s))+StringToInteger(s)\n",
    "    return ans\n",
    "\n",
    "\n",
    "s=input()\n",
    "while s[0]==0:\n",
    "    s=s[1:]\n",
    "print(StringToInteger(s)) "
   ]
  },
  {
   "cell_type": "code",
   "execution_count": 22,
   "id": "e67e5136",
   "metadata": {},
   "outputs": [
    {
     "name": "stdout",
     "output_type": "stream",
     "text": [
      "helllo\n",
      "hel*l*lo\n"
     ]
    }
   ],
   "source": [
    "def PairStar(S,si,ei,ans):  \n",
    "    if si==ei:\n",
    "        return ans+s[si]\n",
    "    if S[si]==S[si+1]:\n",
    "        ans=ans+S[si]+'*'\n",
    "        finalans=PairStar(S,si+1,ei,ans)\n",
    "    else:\n",
    "        ans=ans+S[si]\n",
    "        finalans=PairStar(S,si+1,ei,ans)\n",
    "    return finalans    \n",
    "        \n",
    "        \n",
    "s=input()\n",
    "print(PairStar(s,0,len(s)-1,\"\"))"
   ]
  },
  {
   "cell_type": "code",
   "execution_count": 23,
   "id": "aa292b37",
   "metadata": {},
   "outputs": [
    {
     "name": "stdout",
     "output_type": "stream",
     "text": [
      "abba\n",
      "true\n"
     ]
    }
   ],
   "source": [
    "def check_AB(s):\n",
    "    if len(s) == 0 :\n",
    "        return True\n",
    "    if s[0] == 'a' :\n",
    "        if len(s[1:])>1 and s[1:3] == 'bb':\n",
    "            return check_AB(s[3:])\n",
    "        else:\n",
    "            return check_AB(s[1:])\n",
    "    else:\n",
    "        return False\n",
    "s = input()\n",
    "check_AB(s)\n",
    "if check_AB(s) :\n",
    "    print(\"true\")\n",
    "else:\n",
    "    print(\"false\")"
   ]
  },
  {
   "cell_type": "code",
   "execution_count": 25,
   "id": "b7296d24",
   "metadata": {},
   "outputs": [
    {
     "name": "stdout",
     "output_type": "stream",
     "text": [
      "4\n",
      "7\n"
     ]
    }
   ],
   "source": [
    "def staircase(n):\n",
    "    if n==0:\n",
    "        return 1\n",
    "    if n<0:\n",
    "        return 0\n",
    "    ans=0\n",
    "    for i in range(1,4):\n",
    "        ans=ans+staircase(n-i)\n",
    "    return ans\n",
    "\n",
    "n=int(input())\n",
    "print(staircase(n))"
   ]
  },
  {
   "cell_type": "code",
   "execution_count": null,
   "id": "6b0cbef3",
   "metadata": {},
   "outputs": [],
   "source": []
  }
 ],
 "metadata": {
  "kernelspec": {
   "display_name": "Python 3 (ipykernel)",
   "language": "python",
   "name": "python3"
  },
  "language_info": {
   "codemirror_mode": {
    "name": "ipython",
    "version": 3
   },
   "file_extension": ".py",
   "mimetype": "text/x-python",
   "name": "python",
   "nbconvert_exporter": "python",
   "pygments_lexer": "ipython3",
   "version": "3.9.7"
  }
 },
 "nbformat": 4,
 "nbformat_minor": 5
}
