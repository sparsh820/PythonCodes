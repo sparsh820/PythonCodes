{
 "cells": [
  {
   "cell_type": "code",
   "execution_count": 2,
   "id": "0565be20",
   "metadata": {},
   "outputs": [
    {
     "name": "stdout",
     "output_type": "stream",
     "text": [
      "a\n",
      "b\n",
      "c\n",
      "d\n"
     ]
    }
   ],
   "source": [
    "s=\"abcd\"\n",
    "for c in s:\n",
    "    print(c)"
   ]
  },
  {
   "cell_type": "code",
   "execution_count": 1,
   "id": "6d47efa0",
   "metadata": {},
   "outputs": [
    {
     "name": "stdout",
     "output_type": "stream",
     "text": [
      "4\n",
      "1\n",
      "2\n",
      "3\n",
      "4\n"
     ]
    }
   ],
   "source": [
    "#print number from one to n\n",
    "#range is being given all the values range(start,stop,stride or step) range is [start,stop-1]\n",
    "n=int(input())\n",
    "for i in range(1,n+1,1):\n",
    "    print(i)"
   ]
  },
  {
   "cell_type": "code",
   "execution_count": 2,
   "id": "c7ba2f62",
   "metadata": {},
   "outputs": [
    {
     "name": "stdout",
     "output_type": "stream",
     "text": [
      "4\n",
      "0\n",
      "1\n",
      "2\n",
      "3\n",
      "4\n"
     ]
    }
   ],
   "source": [
    "#only one value to range and start is 0 by default and stride is 1\n",
    "n=int(input())\n",
    "for i in range(n+1):\n",
    "    print(i)"
   ]
  },
  {
   "cell_type": "code",
   "execution_count": 6,
   "id": "2e062c2e",
   "metadata": {},
   "outputs": [
    {
     "name": "stdout",
     "output_type": "stream",
     "text": [
      "4\n",
      "1\n",
      "2\n",
      "3\n",
      "4\n"
     ]
    }
   ],
   "source": [
    "#only two value to range  stride is 1 by default\n",
    "n=int(input())\n",
    "for i in range(1,n+1):\n",
    "    print(i)"
   ]
  },
  {
   "cell_type": "code",
   "execution_count": 7,
   "id": "012db0c0",
   "metadata": {},
   "outputs": [
    {
     "name": "stdout",
     "output_type": "stream",
     "text": [
      "4\n",
      "4\n",
      "3\n",
      "2\n",
      "1\n"
     ]
    }
   ],
   "source": [
    "#print decreasing\n",
    "n=int(input())\n",
    "for i in range(n,0,-1):\n",
    "    print(i)"
   ]
  },
  {
   "cell_type": "code",
   "execution_count": 8,
   "id": "1aaa3da7",
   "metadata": {},
   "outputs": [
    {
     "name": "stdout",
     "output_type": "stream",
     "text": [
      "1 3 "
     ]
    }
   ],
   "source": [
    "for i in range(1,5,2):\n",
    "    print(i,end=' ')"
   ]
  },
  {
   "cell_type": "code",
   "execution_count": 3,
   "id": "9165043b",
   "metadata": {},
   "outputs": [
    {
     "name": "stdout",
     "output_type": "stream",
     "text": [
      "1\n",
      "5\n",
      "3\n"
     ]
    }
   ],
   "source": [
    "#print multiples of 3 in given range\n",
    "#brute force requires lot of work\n",
    "a=int(input())\n",
    "b=int(input())\n",
    "\n",
    "for i in range(a,b+1,1):\n",
    "    if i%3==0:\n",
    "        print(i)"
   ]
  },
  {
   "cell_type": "code",
   "execution_count": 10,
   "id": "7aad7c71",
   "metadata": {},
   "outputs": [
    {
     "name": "stdout",
     "output_type": "stream",
     "text": [
      "1\n",
      "100\n",
      "3\n",
      "6\n",
      "9\n",
      "12\n",
      "15\n",
      "18\n",
      "21\n",
      "24\n",
      "27\n",
      "30\n",
      "33\n",
      "36\n",
      "39\n",
      "42\n",
      "45\n",
      "48\n",
      "51\n",
      "54\n",
      "57\n",
      "60\n",
      "63\n",
      "66\n",
      "69\n",
      "72\n",
      "75\n",
      "78\n",
      "81\n",
      "84\n",
      "87\n",
      "90\n",
      "93\n",
      "96\n",
      "99\n"
     ]
    }
   ],
   "source": [
    "#print multiples of 3 in given range\n",
    "a=int(input())\n",
    "b=int(input())\n",
    "\n",
    "#modification of start\n",
    "if a%3==0:\n",
    "    s=a \n",
    "elif a%3==1:\n",
    "    s=a+2\n",
    "else:\n",
    "    s=a+1\n",
    "\n",
    "for i in range(s,b+1,3):\n",
    "    if i%3==0:\n",
    "        print(i)"
   ]
  },
  {
   "cell_type": "code",
   "execution_count": 12,
   "id": "c8a5ba2c",
   "metadata": {},
   "outputs": [
    {
     "name": "stdout",
     "output_type": "stream",
     "text": [
      "8\n",
      "Not Prime\n"
     ]
    }
   ],
   "source": [
    "#isPrime using for loop\n",
    "n=int(input())\n",
    "flag=False\n",
    "for i in range(2,n,1):\n",
    "    if n%i==0:\n",
    "        flag=True\n",
    "    \n",
    "if flag==True:\n",
    "    print(\"Not Prime\")\n",
    "else:\n",
    "    print(\"Prime\")"
   ]
  },
  {
   "cell_type": "code",
   "execution_count": 14,
   "id": "e54d6d04",
   "metadata": {},
   "outputs": [
    {
     "name": "stdout",
     "output_type": "stream",
     "text": [
      "10\n",
      "2\n",
      "3\n",
      "5\n",
      "7\n"
     ]
    }
   ],
   "source": [
    "#prime in given range \n",
    "n=int(input())\n",
    "k=2\n",
    "while k<=n:\n",
    "    flag=False\n",
    "    for i in range(2,k,1):\n",
    "        if k%i==0:\n",
    "            flag=True\n",
    "            break\n",
    "    if flag==False:\n",
    "        print(k)\n",
    "    k=k+1    "
   ]
  },
  {
   "cell_type": "code",
   "execution_count": 16,
   "id": "b85ca36f",
   "metadata": {},
   "outputs": [
    {
     "name": "stdout",
     "output_type": "stream",
     "text": [
      "1\n",
      "2\n",
      "3\n",
      "4\n",
      "5\n",
      "6\n",
      "7\n",
      "8\n",
      "9\n",
      "10\n",
      "This is the finale\n"
     ]
    }
   ],
   "source": [
    "i=1\n",
    "while i<=10:\n",
    "    print(i)\n",
    "    i=i+1\n",
    "else:\n",
    "    print(\"This is the finale\")"
   ]
  },
  {
   "cell_type": "code",
   "execution_count": 17,
   "id": "43a89201",
   "metadata": {},
   "outputs": [
    {
     "name": "stdout",
     "output_type": "stream",
     "text": [
      "13\n",
      "Not Prime\n"
     ]
    }
   ],
   "source": [
    "#isPrime using for loop\n",
    "n=int(input())\n",
    "flag=False\n",
    "for i in range(2,n,1):\n",
    "    if n%i==0:\n",
    "        break\n",
    "else:\n",
    "    print(\"Not Prime\")"
   ]
  },
  {
   "cell_type": "code",
   "execution_count": 18,
   "id": "285f1179",
   "metadata": {},
   "outputs": [
    {
     "name": "stdout",
     "output_type": "stream",
     "text": [
      "1 2 3 4 “Else is also printed”\n"
     ]
    }
   ],
   "source": [
    "i=1\n",
    "while i<5:\n",
    "    if i == 6:\n",
    "        break\n",
    "    print(i,end=\" \")\n",
    "    i = i + 1\n",
    "else:\n",
    "    print(\"“Else is also printed”\")"
   ]
  },
  {
   "cell_type": "code",
   "execution_count": 20,
   "id": "dedf471e",
   "metadata": {},
   "outputs": [
    {
     "name": "stdout",
     "output_type": "stream",
     "text": [
      "12"
     ]
    }
   ],
   "source": [
    "i=1\n",
    "while i<5:\n",
    "    if i == 3:\n",
    "        break\n",
    "    print(i,end=\"\")\n",
    "    i = i + 1\n",
    "else:\n",
    "    print(\"Else is also printed\")"
   ]
  },
  {
   "cell_type": "code",
   "execution_count": 21,
   "id": "d3996762",
   "metadata": {},
   "outputs": [
    {
     "name": "stdout",
     "output_type": "stream",
     "text": [
      "100\n",
      "2\n",
      "4\n",
      "6\n",
      "8\n",
      "10\n",
      "12\n",
      "16\n",
      "18\n",
      "20\n",
      "22\n",
      "24\n",
      "26\n",
      "30\n",
      "32\n",
      "34\n",
      "36\n",
      "38\n",
      "40\n",
      "44\n",
      "46\n",
      "48\n",
      "50\n",
      "52\n",
      "54\n",
      "58\n",
      "60\n",
      "62\n",
      "64\n",
      "66\n",
      "68\n",
      "72\n",
      "74\n",
      "76\n",
      "78\n",
      "80\n",
      "82\n",
      "86\n",
      "88\n",
      "90\n",
      "92\n",
      "94\n",
      "96\n",
      "100\n"
     ]
    }
   ],
   "source": [
    "n=int(input())\n",
    "for i in range(2,n+1,2):\n",
    "    if i%7==0:\n",
    "        continue\n",
    "    print(i)    "
   ]
  },
  {
   "cell_type": "code",
   "execution_count": 4,
   "id": "2adb6083",
   "metadata": {},
   "outputs": [
    {
     "name": "stdout",
     "output_type": "stream",
     "text": [
      "12451245"
     ]
    }
   ],
   "source": [
    "i=1\n",
    "while i<3:\n",
    "    j=0\n",
    "    while j<5:\n",
    "        j = j +1\n",
    "        if j==3:\n",
    "            continue\n",
    "        print(j,end=\"\")\n",
    "    i = i +1"
   ]
  },
  {
   "cell_type": "markdown",
   "id": "fafc755c",
   "metadata": {},
   "source": [
    "1111\n",
    "000\n",
    "11\n",
    "0"
   ]
  },
  {
   "cell_type": "code",
   "execution_count": 26,
   "id": "b5a9d33f",
   "metadata": {},
   "outputs": [
    {
     "name": "stdout",
     "output_type": "stream",
     "text": [
      "4\n",
      "1 1 1 1 \n",
      "0 0 0 \n",
      "1 1 \n",
      "0 \n"
     ]
    }
   ],
   "source": [
    "n=int(input())\n",
    "row=1\n",
    "nst=n;\n",
    "while row<=n:\n",
    "    for cst in range(1,nst+1,1):\n",
    "        if row%2!=0:\n",
    "            print(1,end=' ')\n",
    "        else:\n",
    "            print(0,end=' ')\n",
    "    print()\n",
    "    nst=nst-1\n",
    "    row=row+1\n",
    "    "
   ]
  },
  {
   "cell_type": "markdown",
   "id": "bcbf9631",
   "metadata": {},
   "source": [
    "123456\n",
    "  23456\n",
    "    3456\n",
    "      456\n",
    "        56\n",
    "          6\n",
    "        56\n",
    "      456\n",
    "    3456\n",
    "  23456\n",
    "123456"
   ]
  },
  {
   "cell_type": "code",
   "execution_count": 31,
   "id": "b96ca559",
   "metadata": {},
   "outputs": [
    {
     "name": "stdout",
     "output_type": "stream",
     "text": [
      "6\n",
      "123456\n",
      "  23456\n",
      "    3456\n",
      "      456\n",
      "        56\n",
      "          6\n",
      "        56\n",
      "      456\n",
      "    3456\n",
      "  23456\n",
      "123456\n"
     ]
    }
   ],
   "source": [
    "n=int(input())\n",
    "nsp=0\n",
    "nst=n\n",
    "row=1\n",
    "start=1\n",
    "while row<=2*n-1:\n",
    "    for csp in range(0,nsp,1):\n",
    "        print('  ',end='')\n",
    "    for cst in range(start,n+1,1):\n",
    "        print(cst,end='')\n",
    "    print()\n",
    "    if row<=(2*n-1)//2:\n",
    "        start=start+1\n",
    "        nsp=nsp+1\n",
    "        nst=nst-1\n",
    "    else:\n",
    "        start=start-1\n",
    "        nsp=nsp-1\n",
    "        nst=nst+1\n",
    "    row=row+1"
   ]
  },
  {
   "cell_type": "code",
   "execution_count": 55,
   "id": "c5ac730a",
   "metadata": {},
   "outputs": [
    {
     "name": "stdout",
     "output_type": "stream",
     "text": [
      "4\n",
      "3\n",
      "1 2 3 4 \n",
      "9 10 11 12 \n",
      "13 14 15 16 \n",
      "5 6 7 8 \n"
     ]
    }
   ],
   "source": [
    "n=int(input())\n",
    "if n%2!=0:\n",
    "    x=int((n+1)/2+1)\n",
    "else:\n",
    "    x=int((n)/2+1)\n",
    "print(x)    \n",
    "mult=0\n",
    "row=1\n",
    "nst=n\n",
    "while row<=n:\n",
    "    for cst in range(1,n+1):\n",
    "        print(mult*n+cst,end=' ')\n",
    "    print()    \n",
    "    if row<x:\n",
    "        if row+1==x:\n",
    "            mult=3\n",
    "        else:\n",
    "            mult=mult+2\n",
    "    else:\n",
    "        mult=mult-2\n",
    "    row=row+1    "
   ]
  },
  {
   "cell_type": "code",
   "execution_count": 60,
   "id": "a5dba21a",
   "metadata": {},
   "outputs": [
    {
     "name": "stdout",
     "output_type": "stream",
     "text": [
      "5\n",
      "1 2 3 4 5 \n",
      "11 12 13 14 15 \n",
      "21 22 23 24 25 \n",
      "16 17 18 19 20 \n",
      "6 7 8 9 10 \n"
     ]
    }
   ],
   "source": [
    "import math\n",
    "n=int(input())\n",
    "for i in range(math.ceil(n/2)):\n",
    "    for j in range(1, n+1):\n",
    "        #multiplier 2*i where i is row\n",
    "        print(n*2*i + j, end=' ');\n",
    "    print()\n",
    "    \n",
    "for i in range(n//2, 0, -1):\n",
    "    for j in range(1, n+1):\n",
    "        #multiplier 2*i-1\n",
    "        print(n*(2*i-1)+j, end=' ')\n",
    "    print()"
   ]
  },
  {
   "cell_type": "code",
   "execution_count": 63,
   "id": "065e444d",
   "metadata": {},
   "outputs": [
    {
     "name": "stdout",
     "output_type": "stream",
     "text": [
      "4\n",
      "4 4 4 4 4 \n",
      "4 3 3 3 2 \n",
      "4 3 2 1 2 \n",
      "4 3 3 3 2 \n",
      "4 4 4 4 4 \n",
      "5 5 5 5 5 5 \n",
      "6 6 6 6 6 6 6 6 \n"
     ]
    }
   ],
   "source": [
    "n=int(input())\n",
    "start=1\n",
    "end=2*n-1\n",
    "nst=2*n-1\n",
    "row=1\n",
    "k=n\n",
    "while row<=2*n-1:\n",
    "    t=n\n",
    "    for cst in range(1,start+1):\n",
    "        print(t,end=' ')\n",
    "        t=t-1\n",
    "    for cst in range(start+1,end-1):\n",
    "        print(k,end=' ')\n",
    "    for cst in range(end,nst):\n",
    "        print(t,end=' ')\n",
    "        t=t+1\n",
    "    print()\n",
    "    if row<=n//2:\n",
    "        k=k-1\n",
    "        start=start+1\n",
    "        end=end-1\n",
    "    else:\n",
    "        k=k+1\n",
    "        start=start-1\n",
    "        end=end+1\n",
    "    row=row+1    "
   ]
  },
  {
   "cell_type": "code",
   "execution_count": 70,
   "id": "04442d86",
   "metadata": {},
   "outputs": [
    {
     "name": "stdout",
     "output_type": "stream",
     "text": [
      "4\n",
      "4444444\n",
      "4333334\n",
      "4322234\n",
      "4321234\n",
      "4322234\n",
      "4333334\n",
      "4444444\n"
     ]
    }
   ],
   "source": [
    "n=int(input())\n",
    "for i in range(n,0,-1):\n",
    "    for j in range(n,i,-1):\n",
    "        print(j,end=\"\")\n",
    "    for j in range(1,2*i,1): \n",
    "        print(i,end=\"\")\n",
    "    for j in range(i+1,n+1,1):\n",
    "        print(j,end=\"\")\n",
    "    print()\n",
    "for i in range(1,n,1):\n",
    "    for j in range(n,i,-1):\n",
    "        print(j,end=\"\")\n",
    "    for j in range(1,2*i,1):\n",
    "        print(i+1,end=\"\")\n",
    "    for j in range(i+1,n+1,1):\n",
    "        print(j,end=\"\")\n",
    "    print()    "
   ]
  },
  {
   "cell_type": "code",
   "execution_count": 2,
   "id": "6ccc3c4f",
   "metadata": {},
   "outputs": [
    {
     "name": "stdout",
     "output_type": "stream",
     "text": [
      "1\n",
      "33\n"
     ]
    }
   ],
   "source": [
    "for i in range(1,34,32):\n",
    "    print(i)"
   ]
  },
  {
   "cell_type": "code",
   "execution_count": 21,
   "id": "e8c18180",
   "metadata": {},
   "outputs": [],
   "source": [
    "def printTable(start,end,step):\n",
    "    for f in range(start,end+2,step):\n",
    "        c=(f-32)*5//9\n",
    "        print(f,end=\"\\t\")\n",
    "        print(c)"
   ]
  },
  {
   "cell_type": "code",
   "execution_count": 22,
   "id": "dc071ef0",
   "metadata": {},
   "outputs": [
    {
     "name": "stdout",
     "output_type": "stream",
     "text": [
      "36\t2\n",
      "114\t45\n",
      "192\t88\n",
      "270\t132\n",
      "348\t175\n",
      "426\t218\n",
      "504\t262\n",
      "582\t305\n"
     ]
    }
   ],
   "source": [
    "printTable(36,618,78)"
   ]
  },
  {
   "cell_type": "code",
   "execution_count": 35,
   "id": "b4cbebfa",
   "metadata": {},
   "outputs": [],
   "source": [
    "def getCompressedString(input) :\n",
    "    i=0\n",
    "    s=\"\"\n",
    "    while i<len(input):\n",
    "        count=1\n",
    "        j=i+1\n",
    "        while j<len(input) and input[i]==input[j]:\n",
    "            count=count+1\n",
    "            j=j+1\n",
    "        if count>1:\n",
    "            s=s+input[i]+str(count)\n",
    "        else:\n",
    "            s=s+input[i]   \n",
    "        i=i+count\n",
    "    \n",
    "    return s"
   ]
  },
  {
   "cell_type": "code",
   "execution_count": 36,
   "id": "8b9e9073",
   "metadata": {},
   "outputs": [
    {
     "data": {
      "text/plain": [
       "'a3b2c2dsa'"
      ]
     },
     "execution_count": 36,
     "metadata": {},
     "output_type": "execute_result"
    }
   ],
   "source": [
    "getCompressedString(\"aaabbccdsa\")"
   ]
  },
  {
   "cell_type": "code",
   "execution_count": null,
   "id": "ddada015",
   "metadata": {},
   "outputs": [],
   "source": [
    "\n",
    "# Find the sum of all the even-valued\n",
    "# terms in the Fibonacci sequence which\n",
    "# do not exceed given limit.\n",
    " \n",
    "# Returns sum of even Fibonacci numbers which\n",
    "# are less than or equal to given limit.\n",
    "def evenFibSum(limit) :\n",
    "    if (limit < 2) :\n",
    "        return 0\n",
    " \n",
    "    # Initialize first two even Fibonacci numbers\n",
    "    # and their sum\n",
    "    ef1 = 0\n",
    "    ef2 = 2\n",
    "    sm= ef1 + ef2\n",
    "     \n",
    "    # calculating sum of even Fibonacci value\n",
    "    while (ef2 <= limit) :\n",
    " \n",
    "        # get next even value of Fibonacci\n",
    "        # sequence\n",
    "        ef3 = 4 * ef2 + ef1\n",
    " \n",
    "        # If we go beyond limit, we break loop\n",
    "        if (ef3 > limit) :\n",
    "            break\n",
    " \n",
    "        # Move to next even number and update\n",
    "        # sum\n",
    "        ef1 = ef2\n",
    "        ef2 = ef3\n",
    "        sm = sm + ef2\n",
    "     \n",
    "    return sm\n",
    " \n",
    "# Driver code\n",
    "limit = int(input())\n",
    "print(evenFibSum(limit))\n"
   ]
  }
 ],
 "metadata": {
  "kernelspec": {
   "display_name": "Python 3 (ipykernel)",
   "language": "python",
   "name": "python3"
  },
  "language_info": {
   "codemirror_mode": {
    "name": "ipython",
    "version": 3
   },
   "file_extension": ".py",
   "mimetype": "text/x-python",
   "name": "python",
   "nbconvert_exporter": "python",
   "pygments_lexer": "ipython3",
   "version": "3.9.7"
  }
 },
 "nbformat": 4,
 "nbformat_minor": 5
}
