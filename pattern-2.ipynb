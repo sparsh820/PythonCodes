{
 "cells": [
  {
   "cell_type": "code",
   "execution_count": 3,
   "id": "2d0da510",
   "metadata": {},
   "outputs": [
    {
     "name": "stdout",
     "output_type": "stream",
     "text": [
      "4\n",
      "****\n",
      "***\n",
      "**\n",
      "*\n"
     ]
    }
   ],
   "source": [
    "n=int(input())\n",
    "row=1\n",
    "nst=n\n",
    "while row<=n:\n",
    "    cst=1\n",
    "    while cst<=nst:\n",
    "        print('*',end='')\n",
    "        cst=cst+1\n",
    "    print()\n",
    "    nst=nst-1\n",
    "    row=row+1\n"
   ]
  },
  {
   "cell_type": "code",
   "execution_count": 4,
   "id": "bb36b8b4",
   "metadata": {},
   "outputs": [
    {
     "name": "stdout",
     "output_type": "stream",
     "text": [
      "4\n",
      "4444\n",
      "333\n",
      "22\n",
      "1\n"
     ]
    }
   ],
   "source": [
    "n=int(input())\n",
    "row=1\n",
    "nst=n\n",
    "k=n\n",
    "while row<=n:\n",
    "    cst=1\n",
    "    while cst<=nst:\n",
    "        print(k,end='')\n",
    "        cst=cst+1\n",
    "    print()\n",
    "    nst=nst-1\n",
    "    k=k-1\n",
    "    row=row+1\n"
   ]
  },
  {
   "cell_type": "code",
   "execution_count": 12,
   "id": "7848c4de",
   "metadata": {},
   "outputs": [
    {
     "name": "stdout",
     "output_type": "stream",
     "text": [
      "3\n",
      "  *\n",
      " **\n",
      "***\n"
     ]
    }
   ],
   "source": [
    "n=int(input())\n",
    "row=1\n",
    "nsp=n-1\n",
    "nst=1\n",
    "while row<=n:\n",
    "    csp=1\n",
    "    while csp<=nsp:\n",
    "        print(' ',end='')\n",
    "        csp=csp+1\n",
    "    cst=1\n",
    "    while cst<=nst:\n",
    "        print('*',end='')\n",
    "        cst=cst+1\n",
    "    print()\n",
    "    nsp=nsp-1\n",
    "    nst=nst+1\n",
    "    row=row+1\n"
   ]
  },
  {
   "cell_type": "code",
   "execution_count": 15,
   "id": "6cbcc86d",
   "metadata": {},
   "outputs": [
    {
     "name": "stdout",
     "output_type": "stream",
     "text": [
      "4\n",
      "      1\n",
      "    12\n",
      "  123\n",
      "1234\n"
     ]
    }
   ],
   "source": [
    "n=int(input())\n",
    "row=1\n",
    "nsp=n-1\n",
    "nst=1\n",
    "while row<=n:\n",
    "    csp=1\n",
    "    while csp<=nsp:\n",
    "        print('  ',end='')\n",
    "        csp=csp+1\n",
    "    cst=1\n",
    "    while cst<=nst:\n",
    "        print(cst,end='')\n",
    "        cst=cst+1\n",
    "    print()\n",
    "    nsp=nsp-1\n",
    "    nst=nst+1\n",
    "    row=row+1\n"
   ]
  },
  {
   "cell_type": "code",
   "execution_count": 31,
   "id": "706bf380",
   "metadata": {
    "scrolled": true
   },
   "outputs": [
    {
     "name": "stdout",
     "output_type": "stream",
     "text": [
      "4\n",
      "      1\n",
      "    121\n",
      "  12321\n",
      "1234321\n"
     ]
    }
   ],
   "source": [
    "n=int(input())\n",
    "row=1\n",
    "nsp=n-1\n",
    "nst=1\n",
    "nstd=0 #decreasing pattern total stars\n",
    "k=0\n",
    "while row<=n:\n",
    "    csp=1\n",
    "    while csp<=nsp:\n",
    "        print('  ',end='')\n",
    "        csp=csp+1\n",
    "    cst=1\n",
    "    while cst<=nst:\n",
    "        print(cst,end='')\n",
    "        cst=cst+1\n",
    "    cstd=1 #current star decreasing\n",
    "    m=k\n",
    "    while cstd<=nstd:\n",
    "        print(m,end='')\n",
    "        cstd=cstd+1\n",
    "        m=m-1\n",
    "    print()\n",
    "    k=k+1\n",
    "    nstd=nstd+1\n",
    "    nsp=nsp-1\n",
    "    nst=nst+1\n",
    "    row=row+1\n"
   ]
  },
  {
   "cell_type": "code",
   "execution_count": 39,
   "id": "44981efa",
   "metadata": {},
   "outputs": [
    {
     "name": "stdout",
     "output_type": "stream",
     "text": [
      "4\n",
      "      * \n",
      "    * * * \n",
      "  * * * * * \n",
      "* * * * * * * \n"
     ]
    }
   ],
   "source": [
    "n=int(input())\n",
    "nsp=n-1\n",
    "nst=1\n",
    "row=1\n",
    "while row<=n:\n",
    "    csp=1\n",
    "    while csp<=nsp:\n",
    "        print(' ',end=' ')\n",
    "        csp=csp+1\n",
    "    cst=1\n",
    "    while cst<=nst:\n",
    "        print('*',end=' ')\n",
    "        cst=cst+1\n",
    "    print()    \n",
    "    nst=nst+2\n",
    "    nsp=nsp-1\n",
    "    row=row+1\n",
    "        "
   ]
  },
  {
   "cell_type": "code",
   "execution_count": 52,
   "id": "688df6d1",
   "metadata": {},
   "outputs": [
    {
     "name": "stdout",
     "output_type": "stream",
     "text": [
      "4\n",
      "         1 \n",
      "      2 3 2 \n",
      "   3 4 5 4 3 \n",
      "4 5 6 7 6 5 4 \n"
     ]
    }
   ],
   "source": [
    "n=int(input())\n",
    "row=1\n",
    "nst=1\n",
    "start=1\n",
    "nsp=n-1\n",
    "while row<=n:\n",
    "    csp=1\n",
    "    while csp<=nsp:\n",
    "        print(' ',end='  ')\n",
    "        csp=csp+1\n",
    "    cst=1\n",
    "    m=start\n",
    "    while cst<=nst:\n",
    "        print(m,end=' ')\n",
    "        cst=cst+1\n",
    "        m=m+1\n",
    "    m=m-1    \n",
    "    while m>start:\n",
    "        print(m-1,end=' ')\n",
    "        m=m-1\n",
    "    print()\n",
    "    start=start+1\n",
    "    nst=nst+1\n",
    "    nsp=nsp-1\n",
    "    row=row+1"
   ]
  },
  {
   "cell_type": "code",
   "execution_count": 81,
   "id": "9adb8c07",
   "metadata": {},
   "outputs": [
    {
     "name": "stdout",
     "output_type": "stream",
     "text": [
      "9\n",
      "        * \n",
      "      * * * \n",
      "    * * * * * \n",
      "  * * * * * * * \n",
      "* * * * * * * * * \n",
      "  * * * * * * * \n",
      "    * * * * * \n",
      "      * * * \n",
      "        * \n"
     ]
    }
   ],
   "source": [
    "n=int(input())\n",
    "row=1\n",
    "nsp=(n+1)//2-1\n",
    "nst=1\n",
    "while row<=n:\n",
    "    csp=1\n",
    "    while csp<=nsp:\n",
    "        print(' ',end=' ')\n",
    "        csp=csp+1\n",
    "    cst=1\n",
    "    while cst<=nst:\n",
    "        print('*',end=' ')\n",
    "        cst=cst+1\n",
    "    print()\n",
    "    if row<=n//2:\n",
    "        nsp=nsp-1\n",
    "        nst=nst+2\n",
    "    else:\n",
    "        nsp=nsp+1\n",
    "        nst=nst-2\n",
    "    row=row+1\n"
   ]
  },
  {
   "cell_type": "code",
   "execution_count": 83,
   "id": "9ec6dbe1",
   "metadata": {},
   "outputs": [
    {
     "name": "stdout",
     "output_type": "stream",
     "text": [
      "4\n",
      "1                   1 \n",
      "1 2             2 1 \n",
      "1 2 3       3 2 1 \n",
      "1 2 3 4 4 3 2 1 \n"
     ]
    }
   ],
   "source": [
    "n=int(input())\n",
    "row=1\n",
    "nst=1\n",
    "nsp=2*n-2\n",
    "while row<=n:\n",
    "    m=1\n",
    "    cst=1\n",
    "    while cst<=nst:\n",
    "        print(m,end=' ')\n",
    "        cst=cst+1\n",
    "        m=m+1\n",
    "    csp=1    \n",
    "    while csp<=nsp:\n",
    "        print(' ',end='  ')\n",
    "        csp=csp+1\n",
    "    m=m-1\n",
    "    while m>=1:\n",
    "        print(m,end=' ')\n",
    "        m=m-1\n",
    "    print()\n",
    "    nsp=nsp-2\n",
    "    nst=nst+1\n",
    "    row=row+1"
   ]
  },
  {
   "cell_type": "code",
   "execution_count": 89,
   "id": "822289ab",
   "metadata": {},
   "outputs": [
    {
     "name": "stdout",
     "output_type": "stream",
     "text": [
      "4\n",
      "* 000* 000* \n",
      "0* 00* 00* 0\n",
      "00* 0* 0* 00\n",
      "000* * * 000\n"
     ]
    }
   ],
   "source": [
    "n=int(input())\n",
    "nst=2*n+1\n",
    "mid=(nst+1)//2\n",
    "si=1\n",
    "ei=nst\n",
    "row=1\n",
    "while row<=n:\n",
    "    cst=1\n",
    "    while cst<=nst:\n",
    "        if cst==si or cst==mid or cst==ei:\n",
    "            print('*',end=' ')\n",
    "        else:\n",
    "            print(0,end='')\n",
    "        cst=cst+1    \n",
    "    print()        \n",
    "    si=si+1\n",
    "    ei=ei-1\n",
    "    row=row+1"
   ]
  },
  {
   "cell_type": "code",
   "execution_count": 96,
   "id": "781ce808",
   "metadata": {},
   "outputs": [
    {
     "name": "stdout",
     "output_type": "stream",
     "text": [
      "4\n",
      "         1 \n",
      "      2 1 2 \n",
      "   3 2 1 2 3 \n",
      "4 3 2 1 2 3 4 \n"
     ]
    }
   ],
   "source": [
    "n=int(input())\n",
    "row=1\n",
    "nst=1\n",
    "start=1\n",
    "nsp=n-1\n",
    "while row<=n:\n",
    "    csp=1\n",
    "    while csp<=nsp:\n",
    "        print(' ',end='  ')\n",
    "        csp=csp+1\n",
    "    cst=1\n",
    "    m=start\n",
    "    while cst<=nst:\n",
    "        print(m,end=' ')\n",
    "        cst=cst+1\n",
    "        m=m-1\n",
    "    m=m+1    \n",
    "    while m<start:\n",
    "        print(m+1,end=' ')\n",
    "        m=m+1\n",
    "    print()\n",
    "    start=start+1\n",
    "    nst=nst+1\n",
    "    nsp=nsp-1\n",
    "    row=row+1"
   ]
  },
  {
   "cell_type": "code",
   "execution_count": 99,
   "id": "70d98301",
   "metadata": {},
   "outputs": [
    {
     "name": "stdout",
     "output_type": "stream",
     "text": [
      "7\n",
      "* \n",
      "    *   * \n",
      "        *   *   * \n",
      "            *   *   *   * \n",
      "        *   *   * \n",
      "    *   * \n",
      "* \n"
     ]
    }
   ],
   "source": [
    "n=int(input())\n",
    "nst=1\n",
    "nsp=0\n",
    "row=1\n",
    "while row<=n:\n",
    "    csp=1\n",
    "    while csp<=nsp:\n",
    "        print('  ',end='  ')\n",
    "        csp=csp+1\n",
    "    cst=1    \n",
    "    while cst<=nst:\n",
    "        if cst%2==0:\n",
    "            print(' ',end=' ')\n",
    "        else:\n",
    "            print('*',end=' ')\n",
    "        cst=cst+1\n",
    "    print()\n",
    "    if row<=n//2:\n",
    "        nsp=nsp+1\n",
    "        nst=nst+2\n",
    "    else:\n",
    "        nsp=nsp-1\n",
    "        nst=nst-2\n",
    "    row=row+1    "
   ]
  },
  {
   "cell_type": "code",
   "execution_count": null,
   "id": "cdd73e7c",
   "metadata": {},
   "outputs": [],
   "source": []
  }
 ],
 "metadata": {
  "kernelspec": {
   "display_name": "Python 3 (ipykernel)",
   "language": "python",
   "name": "python3"
  },
  "language_info": {
   "codemirror_mode": {
    "name": "ipython",
    "version": 3
   },
   "file_extension": ".py",
   "mimetype": "text/x-python",
   "name": "python",
   "nbconvert_exporter": "python",
   "pygments_lexer": "ipython3",
   "version": "3.9.7"
  }
 },
 "nbformat": 4,
 "nbformat_minor": 5
}
