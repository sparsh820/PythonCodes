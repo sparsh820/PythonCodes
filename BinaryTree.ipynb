{
 "cells": [
  {
   "cell_type": "code",
   "execution_count": 5,
   "id": "e0a0ce12",
   "metadata": {},
   "outputs": [],
   "source": [
    "class BinaryTreeNode:\n",
    "    def __init__(self,data):\n",
    "        self.data=data\n",
    "        self.left=None\n",
    "        self.right=None\n",
    "        \n",
    "        \n",
    "        \n",
    "        \n",
    "        "
   ]
  },
  {
   "cell_type": "code",
   "execution_count": 2,
   "id": "3f680a43",
   "metadata": {},
   "outputs": [],
   "source": [
    "btn1=BinaryTreeNode(1)\n",
    "btn2=BinaryTreeNode(2)\n",
    "btn3=BinaryTreeNode(3)\n",
    "btn4=BinaryTreeNode(4)\n",
    "btn5=BinaryTreeNode(5)\n",
    "btn1.left=btn2\n",
    "btn1.right=btn3\n",
    "btn2.left=btn4\n",
    "btn2.right=btn5\n"
   ]
  },
  {
   "cell_type": "code",
   "execution_count": 8,
   "id": "c677a6ee",
   "metadata": {},
   "outputs": [],
   "source": [
    "def printTree(root):\n",
    "    if root==None:\n",
    "        return\n",
    "    if root.left is not None:\n",
    "        print(str(root.left.data)+\"->\",end=' ')\n",
    "    else:\n",
    "        print('.'+\"->\",end=' ')\n",
    "    print(str(root.data)+\"<-\",end=' ')\n",
    "    if root.right is not None:\n",
    "        print(root.right.data)\n",
    "    else:\n",
    "        print('.')\n",
    "    printTree(root.left)\n",
    "    printTree(root.right)\n",
    "       "
   ]
  },
  {
   "cell_type": "code",
   "execution_count": 54,
   "id": "6d06c5a5",
   "metadata": {},
   "outputs": [
    {
     "name": "stdout",
     "output_type": "stream",
     "text": [
      "2-> 1<- 3\n",
      "4-> 2<- 5\n",
      ".-> 4<- .\n",
      ".-> 5<- .\n",
      ".-> 3<- .\n"
     ]
    }
   ],
   "source": [
    "printTree(btn1)"
   ]
  },
  {
   "cell_type": "code",
   "execution_count": 2,
   "id": "fc723927",
   "metadata": {},
   "outputs": [],
   "source": [
    "def treeinput():\n",
    "    rootdata=int(input())\n",
    "    if rootdata==-1:\n",
    "        return None\n",
    "    root=BinaryTreeNode(rootdata)\n",
    "    leftTree=treeinput()\n",
    "    rightTree=treeinput()\n",
    "    root.left=leftTree\n",
    "    root.right=rightTree\n",
    "    return root"
   ]
  },
  {
   "cell_type": "code",
   "execution_count": 9,
   "id": "4979916b",
   "metadata": {},
   "outputs": [
    {
     "name": "stdout",
     "output_type": "stream",
     "text": [
      "4\n",
      "3\n",
      "-1\n",
      "-1\n",
      "2\n",
      "-1\n",
      "-1\n",
      "3-> 4<- 2\n",
      ".-> 3<- .\n",
      ".-> 2<- .\n"
     ]
    }
   ],
   "source": [
    "root=treeinput()\n",
    "printTree(root)"
   ]
  },
  {
   "cell_type": "code",
   "execution_count": 4,
   "id": "8529ac2e",
   "metadata": {},
   "outputs": [],
   "source": [
    "def NumNodes(root):\n",
    "    if root==None:\n",
    "        return 0\n",
    "    left=NumNodes(root.left)\n",
    "    right=NumNodes(root.right)\n",
    "    return left+right+1"
   ]
  },
  {
   "cell_type": "code",
   "execution_count": 8,
   "id": "2ee3d42f",
   "metadata": {},
   "outputs": [
    {
     "name": "stdout",
     "output_type": "stream",
     "text": [
      "1\n",
      "-1\n",
      "-1\n",
      ".-> 1<- .\n",
      "1\n"
     ]
    }
   ],
   "source": [
    "root=treeinput()\n",
    "printTree(root)\n",
    "print(NumNodes(root))"
   ]
  },
  {
   "cell_type": "code",
   "execution_count": 10,
   "id": "6829e16e",
   "metadata": {},
   "outputs": [],
   "source": [
    "def findMax(root):\n",
    "    if root is None:\n",
    "        return -1\n",
    "    leftmax=findMax(root.left)\n",
    "    rightmax=findMax(root.right)\n",
    "    largest=max(leftmax,rightmax,root.data)\n",
    "    \n"
   ]
  },
  {
   "cell_type": "code",
   "execution_count": 11,
   "id": "ac687a80",
   "metadata": {},
   "outputs": [
    {
     "name": "stdout",
     "output_type": "stream",
     "text": [
      "1\n",
      "2\n",
      "-1\n",
      "-1\n",
      "-1\n",
      "2-> 1<- .\n",
      ".-> 2<- .\n",
      "2\n"
     ]
    }
   ],
   "source": [
    "root=treeinput()\n",
    "printTree(root)\n",
    "print(NumNodes(root))"
   ]
  },
  {
   "cell_type": "code",
   "execution_count": 16,
   "id": "d2ad5a8e",
   "metadata": {},
   "outputs": [],
   "source": [
    "def numLeafNodes(root):\n",
    "    if root == None:\n",
    "        return 0\n",
    "    if root.left == None and root.right == None:\n",
    "        return 1\n",
    "    left=numLeafNodes(root.left)\n",
    "    right=numLeafNodes(root.right)\n",
    "    return left+right"
   ]
  },
  {
   "cell_type": "code",
   "execution_count": 17,
   "id": "1a227f83",
   "metadata": {},
   "outputs": [
    {
     "name": "stdout",
     "output_type": "stream",
     "text": [
      "1\n",
      "2\n",
      "-1\n",
      "-1\n",
      "-1\n",
      "2-> 1<- .\n",
      ".-> 2<- .\n",
      "1\n"
     ]
    }
   ],
   "source": [
    "root=treeinput()\n",
    "printTree(root)\n",
    "print(numLeafNodes(root))"
   ]
  },
  {
   "cell_type": "code",
   "execution_count": 5,
   "id": "f02ef61f",
   "metadata": {},
   "outputs": [],
   "source": [
    "def removeLeafNodes(root):\n",
    "    if root is None:\n",
    "        return None\n",
    "    if root.left is None and root.right is None:\n",
    "        return None\n",
    "    root.left=removeLeafNodes(root.left)\n",
    "    root.right=removeLeafNodes(root.right)\n",
    "    return root"
   ]
  },
  {
   "cell_type": "code",
   "execution_count": 9,
   "id": "1e3fbf79",
   "metadata": {},
   "outputs": [
    {
     "name": "stdout",
     "output_type": "stream",
     "text": [
      "1\n",
      "2\n",
      "-1\n",
      "-1\n",
      "3\n",
      "-1\n",
      "-1\n",
      "Before Removal\n",
      "2-> 1<- 3\n",
      ".-> 2<- .\n",
      ".-> 3<- .\n",
      "After Removal\n",
      ".-> 1<- .\n"
     ]
    }
   ],
   "source": [
    "root=treeinput()\n",
    "print(\"Before Removal\")\n",
    "printTree(root)\n",
    "removeLeafNodes(root)\n",
    "print(\"After Removal\")\n",
    "printTree(root)"
   ]
  },
  {
   "cell_type": "code",
   "execution_count": 10,
   "id": "9b633b63",
   "metadata": {},
   "outputs": [],
   "source": [
    "def mirrorBinaryTree(root) :\n",
    "    if root is None:\n",
    "        return\n",
    "    lt=root.left\n",
    "    rt=root.right\n",
    "    mirrorBinaryTree(root.left)\n",
    "    mirrorBinaryTree(root.right)\n",
    "    root.left=rt\n",
    "    root.right=lt"
   ]
  },
  {
   "cell_type": "code",
   "execution_count": 12,
   "id": "049c03d1",
   "metadata": {},
   "outputs": [],
   "source": [
    "def height(root):\n",
    "    if root==None:\n",
    "        return 0\n",
    "    return max(height(root.left),height(root.right))+1"
   ]
  },
  {
   "cell_type": "code",
   "execution_count": 17,
   "id": "b622b1cf",
   "metadata": {},
   "outputs": [],
   "source": [
    "def isBalanced(root):\n",
    "    if root is None:\n",
    "        return True\n",
    "    lh=height(root.left)\n",
    "    rh=height(root.right)\n",
    "    if lh-rh>1 or rh-lh>1:\n",
    "        return False\n",
    "    isLeftBalanced=isBalanced(root.left)\n",
    "    isRightBalanced=isBalanced(root.right)\n",
    "    if isLeftBalanced and isRightBalanced:\n",
    "        return True\n",
    "    else:\n",
    "        return False\n",
    "    "
   ]
  },
  {
   "cell_type": "code",
   "execution_count": 25,
   "id": "8570f486",
   "metadata": {},
   "outputs": [],
   "source": [
    "def isBalanced2(root):\n",
    "    if root is None:\n",
    "        return 0,True\n",
    "    lh,isLeftBalanced=isBalanced2(root.left)\n",
    "    rh,isRightBalanced=isBalanced2(root.right)\n",
    "    h=max(lh,rh)+1\n",
    "    if lh-rh>1 or rh-lh>1:\n",
    "        return h,False\n",
    "    if isLeftBalanced and isRightBalanced:\n",
    "        return h,True\n",
    "    else:\n",
    "        return h,False"
   ]
  },
  {
   "cell_type": "code",
   "execution_count": 26,
   "id": "8d88d50f",
   "metadata": {},
   "outputs": [
    {
     "name": "stdout",
     "output_type": "stream",
     "text": [
      "1\n",
      "2\n",
      "3\n",
      "-1\n",
      "-1\n",
      "-1\n",
      "-1\n",
      "(3, False)\n"
     ]
    }
   ],
   "source": [
    "root=treeinput()\n",
    "print(isBalanced2(root))"
   ]
  },
  {
   "cell_type": "code",
   "execution_count": 27,
   "id": "9bad838d",
   "metadata": {},
   "outputs": [],
   "source": [
    "def diameterOfBinaryTree(root) :\n",
    "    if root is None:\n",
    "        return 0\n",
    "    ld=diameterOfBinaryTree(root.left)\n",
    "    rd=diameterOfBinaryTree(root.right)\n",
    "    d=height(root.left)+height(root.right)+1\n",
    "    return max(d,max(ld,rd))\n",
    "\n",
    "def diameterOfBinaryTree2(root) :\n",
    "    if root is None:\n",
    "        return 0,0\n",
    "    lh,ld=diameterOfBinaryTree2(root.left)\n",
    "    rh,rd=diameterOfBinaryTree2(root.right)\n",
    "    d=lh+rh+1\n",
    "    return max(lh,rh)+1,max(d,max(ld,rd))"
   ]
  },
  {
   "cell_type": "code",
   "execution_count": 39,
   "id": "9fbae3f1",
   "metadata": {},
   "outputs": [],
   "source": [
    "import queue\n",
    "def takeLevelWiseInput():\n",
    "    q=queue.Queue()\n",
    "    print(\"Enter Root\")\n",
    "    rootdata=int(input())\n",
    "    if rootdata==-1:\n",
    "        return None\n",
    "    root=BinaryTreeNode(rootdata)\n",
    "    q.put(root)\n",
    "    while  q.empty() is False:\n",
    "        cur_node=q.get()\n",
    "        print(\"Enter left child of\",cur_node.data)\n",
    "        leftchilddata=int(input())\n",
    "        if leftchilddata!=-1:\n",
    "            leftNode=BinaryTreeNode(leftchilddata)\n",
    "            cur_node.left=leftNode\n",
    "            q.put(leftNode)\n",
    "        print(\"Enter right child of\",cur_node.data)\n",
    "        rightchilddata=int(input())\n",
    "        if rightchilddata!=-1:\n",
    "            rightNode=BinaryTreeNode(rightchilddata)\n",
    "            cur_node.right=rightNode\n",
    "            q.put(rightNode)\n",
    "    return root        \n",
    "            \n",
    "        \n",
    "    "
   ]
  },
  {
   "cell_type": "code",
   "execution_count": 38,
   "id": "3b83af34",
   "metadata": {},
   "outputs": [],
   "source": [
    "def printLevelWise(root):\n",
    "    q=queue.Queue()\n",
    "    q.put(root)\n",
    "    while q.empty() is False:\n",
    "        rn=q.get() #removed node\n",
    "        print(rn.data,end=':')\n",
    "        if rn.left!=None:\n",
    "            print('L:'+str(rn.left.data),end=',')\n",
    "            q.put(rn.left)\n",
    "        else:\n",
    "            print('L:'+str(-1),end=',')\n",
    "        if rn.right!=None:\n",
    "            print('R:'+str(rn.right.data))\n",
    "            q.put(rn.right)\n",
    "        else:\n",
    "            print('R:'+str(-1))"
   ]
  },
  {
   "cell_type": "code",
   "execution_count": 41,
   "id": "bc14c7df",
   "metadata": {},
   "outputs": [
    {
     "name": "stdout",
     "output_type": "stream",
     "text": [
      "Enter Root\n",
      "1\n",
      "Enter left child of 1\n",
      "2\n",
      "Enter right child of 1\n",
      "3\n",
      "Enter left child of 2\n",
      "-1\n",
      "Enter right child of 2\n",
      "-1\n",
      "Enter left child of 3\n",
      "-1\n",
      "Enter right child of 3\n",
      "-1\n",
      "1:L:2,R:3\n",
      "2:L:-1,R:-1\n",
      "3:L:-1,R:-1\n"
     ]
    }
   ],
   "source": [
    "root=takeLevelWiseInput()\n",
    "printLevelWise(root)"
   ]
  },
  {
   "cell_type": "code",
   "execution_count": 42,
   "id": "d4cfbc85",
   "metadata": {},
   "outputs": [],
   "source": [
    "def buildTree(preOrder, inOrder, n) :\n",
    "    if n==0:\n",
    "        return None\n",
    "    if n==1:\n",
    "        nn=BinaryTreeNode(preOrder[0])\n",
    "        return nn\n",
    "    root=BinaryTreeNode(preOrder[0])\n",
    "    for i in range(0,n):\n",
    "        if inOrder[i]==preOrder[0]:\n",
    "            break\n",
    "    # print(inOrder[0:i])\n",
    "    # print(inOrder[i+1:])\n",
    "    # print(preOrder[1:i+1])\n",
    "    # print(preOrder[i+1:])\n",
    "    root.left=buildTree(preOrder[1:i+1],inOrder[0:i],len(inOrder[0:i]))\n",
    "    root.right=buildTree(preOrder[i+1:],inOrder[i+1:],len(inOrder[i+1:]))\n",
    "    return root"
   ]
  },
  {
   "cell_type": "code",
   "execution_count": 43,
   "id": "d8413635",
   "metadata": {},
   "outputs": [
    {
     "name": "stdout",
     "output_type": "stream",
     "text": [
      "2-> 1<- 3\n",
      "4-> 2<- 5\n",
      ".-> 4<- .\n",
      ".-> 5<- .\n",
      "6-> 3<- 7\n",
      ".-> 6<- .\n",
      ".-> 7<- .\n"
     ]
    }
   ],
   "source": [
    "pre=[1,2,4,5,3,6,7]\n",
    "ino=[4,2,5,1,6,3,7]\n",
    "root=buildTree(pre,ino,len(ino))\n",
    "printTree(root)\n"
   ]
  },
  {
   "cell_type": "code",
   "execution_count": 44,
   "id": "ac808d27",
   "metadata": {},
   "outputs": [],
   "source": [
    "def buildTree(postOrder, inOrder, n) :\n",
    "    if n==0:\n",
    "        return None\n",
    "    if n==1:\n",
    "        nn=BinaryTreeNode(postOrder[0])\n",
    "        return nn\n",
    "    root=BinaryTreeNode(postOrder[-1])\n",
    "    for i in range(0,n):\n",
    "        if inOrder[i]==postOrder[-1]:\n",
    "            break\n",
    "    # print(inOrder[0:i])\n",
    "    # print(inOrder[i+1:n])\n",
    "    # print(postOrder[0:i])\n",
    "    # print(postOrder[i:n-1])\n",
    "    root.left=buildTree(postOrder[0:i],inOrder[0:i],len(inOrder[0:i]))\n",
    "    root.right=buildTree(postOrder[i:n-1],inOrder[i+1:n],len(inOrder[i+1:]))\n",
    "    return root"
   ]
  },
  {
   "cell_type": "code",
   "execution_count": 45,
   "id": "fb380e04",
   "metadata": {},
   "outputs": [],
   "source": [
    "\n",
    "def insertDuplicateNode(root):\n",
    "    if root is None:\n",
    "        return\n",
    "    nn=BinaryTreeNode(root.data)\n",
    "    lt=root.left\n",
    "    insertDuplicateNode(root.left)\n",
    "    insertDuplicateNode(root.right)\n",
    "    root.left=nn\n",
    "    nn.left=lt\n"
   ]
  },
  {
   "cell_type": "code",
   "execution_count": 46,
   "id": "22d18627",
   "metadata": {},
   "outputs": [],
   "source": [
    "#Representation of the Pair Class\n",
    "class Pair :\n",
    "\n",
    "    def __init__(self, minimum, maximum) :\n",
    "        self.minimum = minimum\n",
    "        self.maximum = maximum\n",
    "\n",
    "\n",
    "\n",
    "def getMinAndMax(root) :\n",
    "    if root is None:\n",
    "        np=Pair(999999,-24567)\n",
    "        return np\n",
    "    lp=getMinAndMax(root.left)\n",
    "    rp=getMinAndMax(root.right)\n",
    "    np=Pair(root.data,root.data)\n",
    "    np.maximum=max(np.maximum,max(lp.maximum,rp.maximum))\n",
    "    np.minimum=min(np.minimum,min(lp.minimum,rp.minimum))\n",
    "    return np"
   ]
  },
  {
   "cell_type": "code",
   "execution_count": 47,
   "id": "d198492e",
   "metadata": {},
   "outputs": [],
   "source": [
    "def printLevelWise(root):\n",
    "    q=queue.Queue()\n",
    "    q.put(root)\n",
    "    while q.empty() is False:\n",
    "        size=q.qsize()\n",
    "        while size>0:\n",
    "            rn=q.get()\n",
    "            print(rn.data,end=' ')\n",
    "            if rn.left!=None:\n",
    "                q.put(rn.left)\n",
    "            if rn.right!=None:\n",
    "                q.put(rn.right)\n",
    "            size=size-1\n",
    "        print() "
   ]
  },
  {
   "cell_type": "code",
   "execution_count": 48,
   "id": "940957ce",
   "metadata": {},
   "outputs": [],
   "source": [
    "\n",
    "def rootToLeafPathsSumToKHelper(root, k, path, currSum) :\n",
    "    if root is None :\n",
    "        return\n",
    "\n",
    "    if (root.left is None) and (root.right is None) :\n",
    "        currSum += root.data\n",
    "\n",
    "        if currSum == k :\n",
    "            print(str(path + str(root.data) + \" \").lstrip())\n",
    "\n",
    "        return\n",
    "\n",
    "\n",
    "    rootToLeafPathsSumToKHelper(root.left, k, str(path + str(root.data) + \" \"), (currSum + root.data))\n",
    "    rootToLeafPathsSumToKHelper(root.right, k, str(path + str(root.data) + \" \"), (currSum + root.data))\n",
    "\n",
    "\n",
    "\n",
    "def rootToLeafPathsSumToK(root, k):\n",
    "    rootToLeafPathsSumToKHelper(root, k, \"\", 0)"
   ]
  },
  {
   "cell_type": "code",
   "execution_count": 1,
   "id": "21ff9306",
   "metadata": {},
   "outputs": [],
   "source": [
    "def longestPath(root):\n",
    "    if root is None:\n",
    "        path=[]\n",
    "        return path\n",
    "    leftPath=longestPath(root.left)\n",
    "    rightPath=longestPath(root.right)\n",
    "    if len(leftPath)>=len(rightPath):\n",
    "        leftPath.append(root.data)\n",
    "        return leftPath\n",
    "    else:\n",
    "        rightPath.append(root.data)\n",
    "        return rightPath"
   ]
  },
  {
   "cell_type": "code",
   "execution_count": null,
   "id": "eb52e0c3",
   "metadata": {},
   "outputs": [],
   "source": []
  }
 ],
 "metadata": {
  "kernelspec": {
   "display_name": "Python 3 (ipykernel)",
   "language": "python",
   "name": "python3"
  },
  "language_info": {
   "codemirror_mode": {
    "name": "ipython",
    "version": 3
   },
   "file_extension": ".py",
   "mimetype": "text/x-python",
   "name": "python",
   "nbconvert_exporter": "python",
   "pygments_lexer": "ipython3",
   "version": "3.9.7"
  }
 },
 "nbformat": 4,
 "nbformat_minor": 5
}
