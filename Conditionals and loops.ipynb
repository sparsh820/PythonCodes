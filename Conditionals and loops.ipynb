{
 "cells": [
  {
   "cell_type": "code",
   "execution_count": 3,
   "id": "d1bf5aa5",
   "metadata": {},
   "outputs": [
    {
     "data": {
      "text/plain": [
       "bool"
      ]
     },
     "execution_count": 3,
     "metadata": {},
     "output_type": "execute_result"
    }
   ],
   "source": [
    "a=True\n",
    "b=False\n",
    "\n",
    "c=True\n",
    "type(c)"
   ]
  },
  {
   "cell_type": "markdown",
   "id": "e85e6651",
   "metadata": {},
   "source": [
    "### Relational operators"
   ]
  },
  {
   "cell_type": "code",
   "execution_count": 2,
   "id": "54931941",
   "metadata": {},
   "outputs": [
    {
     "name": "stdout",
     "output_type": "stream",
     "text": [
      "False\n",
      "True\n",
      "False\n",
      "True\n",
      "False\n",
      "True\n"
     ]
    }
   ],
   "source": [
    "a=10\n",
    "b=20\n",
    "print(a>b)\n",
    "print(b>a)\n",
    "print(a>=b)\n",
    "print(b>=a)\n",
    "print(a==b)\n",
    "print(a!=b)"
   ]
  },
  {
   "cell_type": "markdown",
   "id": "8b24b8c2",
   "metadata": {},
   "source": [
    "### Logical operators"
   ]
  },
  {
   "cell_type": "code",
   "execution_count": 7,
   "id": "368f2aef",
   "metadata": {},
   "outputs": [
    {
     "name": "stdout",
     "output_type": "stream",
     "text": [
      "False\n",
      "True\n",
      "True\n"
     ]
    }
   ],
   "source": [
    "c1=a>10\n",
    "c2=b>10\n",
    "r1=c1 and c2\n",
    "r2=c1 or c2\n",
    "r3=not(c1)\n",
    "print(r1)\n",
    "print(r2)\n",
    "print(r3)"
   ]
  },
  {
   "cell_type": "markdown",
   "id": "450813e1",
   "metadata": {},
   "source": [
    "### ifelse"
   ]
  },
  {
   "cell_type": "code",
   "execution_count": 10,
   "id": "c19368cf",
   "metadata": {},
   "outputs": [
    {
     "name": "stdout",
     "output_type": "stream",
     "text": [
      "if block\n",
      "if2\n"
     ]
    }
   ],
   "source": [
    "a=True\n",
    "if a:\n",
    "    print(\"if block\")\n",
    "    print(\"if2\")\n",
    "else :\n",
    "    print(\"else block\")"
   ]
  },
  {
   "cell_type": "code",
   "execution_count": 12,
   "id": "feba0f87",
   "metadata": {},
   "outputs": [
    {
     "name": "stdout",
     "output_type": "stream",
     "text": [
      "45\n",
      "NO\n"
     ]
    }
   ],
   "source": [
    "#check for odd and even number\n",
    "n=int(input())\n",
    "r=n%2\n",
    "is_Even=(r==0)\n",
    "if is_Even:\n",
    "    print(\"YES\")\n",
    "else:\n",
    "    print(\"NO\")"
   ]
  },
  {
   "cell_type": "code",
   "execution_count": 43,
   "id": "f698c0be",
   "metadata": {},
   "outputs": [
    {
     "name": "stdout",
     "output_type": "stream",
     "text": [
      "Hello\n",
      "Hi 1\n"
     ]
    }
   ],
   "source": [
    "x = 5\n",
    "if x < 6:\n",
    "    print(\"Hello\")\n",
    "if x == 5:\n",
    "    print(\"Hi\",1)\n",
    "else:\n",
    "    print(\"Hey\")"
   ]
  },
  {
   "cell_type": "code",
   "execution_count": 14,
   "id": "d5b624be",
   "metadata": {},
   "outputs": [
    {
     "name": "stdout",
     "output_type": "stream",
     "text": [
      "25\n",
      "34\n",
      "YES\n"
     ]
    }
   ],
   "source": [
    "a=int(input())\n",
    "b=int(input())\n",
    "if a>10 and b>10:\n",
    "    print(\"YES\")\n",
    "else:\n",
    "    print(\"NO\")"
   ]
  },
  {
   "cell_type": "markdown",
   "id": "4161f460",
   "metadata": {},
   "source": [
    "### ELIF"
   ]
  },
  {
   "cell_type": "code",
   "execution_count": 15,
   "id": "fdd39310",
   "metadata": {},
   "outputs": [
    {
     "name": "stdout",
     "output_type": "stream",
     "text": [
      "5\n",
      "15\n",
      "3\n",
      "15\n"
     ]
    }
   ],
   "source": [
    "a=int(input())\n",
    "b=int(input())\n",
    "c=int(input())\n",
    "\n",
    "if a>b and a>c:\n",
    "    print(a)\n",
    "elif b>a and b>c:\n",
    "   print(b)\n",
    "else:\n",
    "    print(c)"
   ]
  },
  {
   "cell_type": "markdown",
   "id": "22598b9e",
   "metadata": {},
   "source": [
    "### while"
   ]
  },
  {
   "cell_type": "code",
   "execution_count": 16,
   "id": "b2ccb904",
   "metadata": {},
   "outputs": [
    {
     "name": "stdout",
     "output_type": "stream",
     "text": [
      "5\n",
      "1\n",
      "2\n",
      "3\n",
      "4\n",
      "5\n"
     ]
    }
   ],
   "source": [
    "n=int(input())\n",
    "count=1\n",
    "while count<=n:\n",
    "    print(count)\n",
    "    count=count+1"
   ]
  },
  {
   "cell_type": "code",
   "execution_count": 18,
   "id": "d6a93693",
   "metadata": {},
   "outputs": [
    {
     "name": "stdout",
     "output_type": "stream",
     "text": [
      "3\n",
      "6\n"
     ]
    }
   ],
   "source": [
    "n=int(input())\n",
    "sum=0\n",
    "i=1\n",
    "while i<=n:\n",
    "    sum=sum+i\n",
    "    i=i+1\n",
    "\n",
    "print(sum)"
   ]
  },
  {
   "cell_type": "code",
   "execution_count": 27,
   "id": "3aad3715",
   "metadata": {},
   "outputs": [
    {
     "name": "stdout",
     "output_type": "stream",
     "text": [
      "8\n",
      "Not Prime\n"
     ]
    }
   ],
   "source": [
    "###check prime\n",
    "n=int(input())\n",
    "i=2\n",
    "flag=False\n",
    "while i<n:\n",
    "    if n%i==0:\n",
    "        flag=True\n",
    "    i=i+1\n",
    "if flag:\n",
    "    print(\"Not Prime\")\n",
    "else:\n",
    "    print(\"Prime\")\n",
    "\n",
    "\n",
    "        \n",
    "\n"
   ]
  },
  {
   "cell_type": "code",
   "execution_count": 42,
   "id": "999b4836",
   "metadata": {},
   "outputs": [
    {
     "ename": "IndentationError",
     "evalue": "unindent does not match any outer indentation level (<tokenize>, line 10)",
     "output_type": "error",
     "traceback": [
      "\u001b[1;36m  File \u001b[1;32m\"<tokenize>\"\u001b[1;36m, line \u001b[1;32m10\u001b[0m\n\u001b[1;33m    if flag:\u001b[0m\n\u001b[1;37m    ^\u001b[0m\n\u001b[1;31mIndentationError\u001b[0m\u001b[1;31m:\u001b[0m unindent does not match any outer indentation level\n"
     ]
    }
   ],
   "source": [
    "n=int(input())\n",
    "k=2\n",
    "while k<=n:\n",
    "    d=2\n",
    "    flag=False\n",
    "    while d<k:\n",
    "        if(k%d==0):\n",
    "            flag=True\n",
    "        d=d+1\n",
    "       if flag:\n",
    "          print(\"Not Prime\")\n",
    "       else:\n",
    "          print(\"Prime\")   \n",
    "        \n",
    "   k=k+1 \n",
    "                    \n",
    "    "
   ]
  },
  {
   "cell_type": "code",
   "execution_count": 1,
   "id": "2f5d01a4",
   "metadata": {},
   "outputs": [],
   "source": [
    "quit()"
   ]
  },
  {
   "cell_type": "code",
   "execution_count": 8,
   "id": "b8f575f4",
   "metadata": {},
   "outputs": [
    {
     "name": "stdout",
     "output_type": "stream",
     "text": [
      "80\n",
      "8\n",
      "0\n",
      "8\n"
     ]
    }
   ],
   "source": [
    "n=int(input())\n",
    "ans=0\n",
    "while n>0:\n",
    "    rem=n%10\n",
    "    ans=ans*10+rem\n",
    "    n=n//10\n",
    "    print(n)\n",
    "    \n",
    "print(ans)  "
   ]
  },
  {
   "cell_type": "code",
   "execution_count": 1,
   "id": "e5c5af5f",
   "metadata": {},
   "outputs": [
    {
     "name": "stdout",
     "output_type": "stream",
     "text": [
      "121\n",
      "true\n"
     ]
    }
   ],
   "source": [
    "def checkPalindrome(num):\n",
    "    ans=0\n",
    "\n",
    "    temp=num\n",
    "    while temp>0:\n",
    "        rem=temp%10\n",
    "        ans=ans*10+rem\n",
    "        temp=temp//10\n",
    "    if ans==num:\n",
    "        return True\n",
    "    else:\n",
    "        return False\n",
    "\t\n",
    "\t\t\n",
    "num = int(input())\n",
    "isPalindrome = checkPalindrome(num)\n",
    "if(isPalindrome):\n",
    "\tprint('true')\n",
    "else:\n",
    "\tprint('false')\n"
   ]
  },
  {
   "cell_type": "code",
   "execution_count": null,
   "id": "545f2edf",
   "metadata": {},
   "outputs": [],
   "source": []
  }
 ],
 "metadata": {
  "kernelspec": {
   "display_name": "Python 3 (ipykernel)",
   "language": "python",
   "name": "python3"
  },
  "language_info": {
   "codemirror_mode": {
    "name": "ipython",
    "version": 3
   },
   "file_extension": ".py",
   "mimetype": "text/x-python",
   "name": "python",
   "nbconvert_exporter": "python",
   "pygments_lexer": "ipython3",
   "version": "3.9.7"
  },
  "widgets": {
   "application/vnd.jupyter.widget-state+json": {
    "state": {},
    "version_major": 2,
    "version_minor": 0
   }
  }
 },
 "nbformat": 4,
 "nbformat_minor": 5
}
