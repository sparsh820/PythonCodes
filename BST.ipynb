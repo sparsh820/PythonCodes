{
 "cells": [
  {
   "cell_type": "code",
   "execution_count": 4,
   "id": "bd88b259",
   "metadata": {},
   "outputs": [],
   "source": [
    "class BinaryTreeNode:\n",
    "    def __init__(self,data):\n",
    "        self.data=data\n",
    "        self.left=None\n",
    "        self.right=None"
   ]
  },
  {
   "cell_type": "code",
   "execution_count": 5,
   "id": "13952a75",
   "metadata": {},
   "outputs": [],
   "source": [
    "import queue\n",
    "def takeLevelWiseInput():\n",
    "    q=queue.Queue()\n",
    "    print(\"Enter Root\")\n",
    "    rootdata=int(input())\n",
    "    if rootdata==-1:\n",
    "        return None\n",
    "    root=BinaryTreeNode(rootdata)\n",
    "    q.put(root)\n",
    "    while  q.empty() is False:\n",
    "        cur_node=q.get()\n",
    "        print(\"Enter left child of\",cur_node.data)\n",
    "        leftchilddata=int(input())\n",
    "        if leftchilddata!=-1:\n",
    "            leftNode=BinaryTreeNode(leftchilddata)\n",
    "            cur_node.left=leftNode\n",
    "            q.put(leftNode)\n",
    "        print(\"Enter right child of\",cur_node.data)\n",
    "        rightchilddata=int(input())\n",
    "        if rightchilddata!=-1:\n",
    "            rightNode=BinaryTreeNode(rightchilddata)\n",
    "            cur_node.right=rightNode\n",
    "            q.put(rightNode)\n",
    "    return root        "
   ]
  },
  {
   "cell_type": "code",
   "execution_count": 6,
   "id": "1c1f87fd",
   "metadata": {},
   "outputs": [],
   "source": [
    "def printTree(root):\n",
    "    if root==None:\n",
    "        return\n",
    "    if root.left is not None:\n",
    "        print(str(root.left.data)+\"->\",end=' ')\n",
    "    else:\n",
    "        print('.'+\"->\",end=' ')\n",
    "    print(str(root.data)+\"<-\",end=' ')\n",
    "    if root.right is not None:\n",
    "        print(root.right.data)\n",
    "    else:\n",
    "        print('.')\n",
    "    printTree(root.left)\n",
    "    printTree(root.right)"
   ]
  },
  {
   "cell_type": "code",
   "execution_count": 1,
   "id": "3218c1b4",
   "metadata": {},
   "outputs": [],
   "source": [
    "def searchInBST(root, k):\n",
    "    if root is None:\n",
    "        return False\n",
    "    if root.data==k:\n",
    "        return True\n",
    "    ans=False\n",
    "    if k>root.data:\n",
    "        ans=searchInBST(root.right,k)\n",
    "    else:\n",
    "        ans=searchInBST(root.left,k)\n",
    "    return ans    "
   ]
  },
  {
   "cell_type": "code",
   "execution_count": 2,
   "id": "6f13ad6e",
   "metadata": {},
   "outputs": [],
   "source": [
    "def elementsInRangeK1K2(root, k1, k2):\n",
    "    if root is None:\n",
    "        return\n",
    "    if root.data>=k1 and root.data<=k2:\n",
    "        elementsInRangeK1K2(root.left,k1,k2)\n",
    "        print(root.data,end=' ')   \n",
    "        elementsInRangeK1K2(root.right,k1,k2)\n",
    "    elif root.data>k2:   \n",
    "        elementsInRangeK1K2(root.left,k1,k2)\n",
    "    else:\n",
    "        elementsInRangeK1K2(root.right,k1,k2) "
   ]
  },
  {
   "cell_type": "code",
   "execution_count": 3,
   "id": "b006bc06",
   "metadata": {},
   "outputs": [],
   "source": [
    "def constructBST(lst):\n",
    "    if len(lst)==0:\n",
    "        return None\n",
    "    if len(lst)==1:\n",
    "        nn=BinaryTreeNode(lst[0])\n",
    "        return nn\n",
    "    if len(lst)%2!=0:\n",
    "        mid=(len(lst))//2\n",
    "    else:\n",
    "        mid=(len(lst)-1)//2\n",
    "    root=BinaryTreeNode(lst[mid])\n",
    "    root.left=constructBST(lst[0:mid])\n",
    "    root.right=constructBST(lst[mid+1:])\n",
    "    return root"
   ]
  },
  {
   "cell_type": "code",
   "execution_count": 8,
   "id": "cd6e2918",
   "metadata": {},
   "outputs": [
    {
     "name": "stdout",
     "output_type": "stream",
     "text": [
      "Enter Root\n",
      "4\n",
      "Enter left child of 4\n",
      "1\n",
      "Enter right child of 4\n",
      "6\n",
      "Enter left child of 1\n",
      "-1\n",
      "Enter right child of 1\n",
      "-1\n",
      "Enter left child of 6\n",
      "-1\n",
      "Enter right child of 6\n",
      "-1\n",
      "1-> 4<- 6\n",
      ".-> 1<- .\n",
      ".-> 6<- .\n"
     ]
    }
   ],
   "source": [
    "root=takeLevelWiseInput()\n",
    "printTree(root)"
   ]
  },
  {
   "cell_type": "code",
   "execution_count": 11,
   "id": "3e19d07f",
   "metadata": {},
   "outputs": [
    {
     "name": "stdout",
     "output_type": "stream",
     "text": [
      "1 2 3 4 5 6 7\n",
      "2-> 4<- 6\n",
      "1-> 2<- 3\n",
      ".-> 1<- .\n",
      ".-> 3<- .\n",
      "5-> 6<- 7\n",
      ".-> 5<- .\n",
      ".-> 7<- .\n"
     ]
    }
   ],
   "source": [
    "lst=[int(x) for x in input().split()]\n",
    "root=constructBST(lst)\n",
    "printTree(root)"
   ]
  },
  {
   "cell_type": "code",
   "execution_count": 12,
   "id": "1f10b7fe",
   "metadata": {},
   "outputs": [],
   "source": [
    "def minTree(root):\n",
    "    if root is None:\n",
    "        return 100000\n",
    "    lmin=minTree(root.left)\n",
    "    rmin=minTree(root.right)\n",
    "    return min(lmin,rmin,root.data)"
   ]
  },
  {
   "cell_type": "code",
   "execution_count": 13,
   "id": "069c72b9",
   "metadata": {},
   "outputs": [],
   "source": [
    "def maxTree(root):\n",
    "    if root is None:\n",
    "        return -100000\n",
    "    lmax=maxTree(root.left)\n",
    "    rmax=maxTree(root.right)\n",
    "    return max(lmax,rmax,root.data)"
   ]
  },
  {
   "cell_type": "code",
   "execution_count": 14,
   "id": "e6e8048f",
   "metadata": {},
   "outputs": [],
   "source": [
    "def isBST(root):\n",
    "    if root is None:\n",
    "        return True\n",
    "    leftmax=maxTree(root.left)\n",
    "    rightmin=minTree(root.right)\n",
    "    if root.data>rightmin or root.data<=leftmax:\n",
    "        return False\n",
    "    isLeftBst=isBST(root.left)\n",
    "    isRightBst=isBST(root.right)\n",
    "    return isLeftBst and isRightBst"
   ]
  },
  {
   "cell_type": "code",
   "execution_count": 16,
   "id": "32ba99c3",
   "metadata": {},
   "outputs": [
    {
     "name": "stdout",
     "output_type": "stream",
     "text": [
      "Enter Root\n",
      "4\n",
      "Enter left child of 4\n",
      "7\n",
      "Enter right child of 4\n",
      "10\n",
      "Enter left child of 7\n",
      "-1\n",
      "Enter right child of 7\n",
      "-1\n",
      "Enter left child of 10\n",
      "-1\n",
      "Enter right child of 10\n",
      "-1\n",
      "False\n",
      "7-> 4<- 10\n",
      ".-> 7<- .\n",
      ".-> 10<- .\n"
     ]
    }
   ],
   "source": [
    "root=takeLevelWiseInput()\n",
    "print(isBST(root))\n",
    "printTree(root)"
   ]
  },
  {
   "cell_type": "code",
   "execution_count": 17,
   "id": "5f4cbbdb",
   "metadata": {},
   "outputs": [],
   "source": [
    "def nodeToRootPath(root,s):\n",
    "    if root is None:\n",
    "        return None\n",
    "    if root.data==s:\n",
    "        li=[]\n",
    "        li.append(root.data)\n",
    "        return li\n",
    "    leftoutput=nodeToRootPath(root.left,s)\n",
    "    if leftoutput!=None:\n",
    "        leftoutput.append(root.data)\n",
    "        return leftoutput\n",
    "    rightoutput=nodeToRootPath(root.right,s)\n",
    "    if rightoutput!=None:\n",
    "        rightoutput.append(root.data)\n",
    "        return rightoutput\n",
    "    else:\n",
    "        return None\n",
    "    \n",
    "    "
   ]
  },
  {
   "cell_type": "code",
   "execution_count": 18,
   "id": "77d75c41",
   "metadata": {},
   "outputs": [
    {
     "name": "stdout",
     "output_type": "stream",
     "text": [
      "Enter Root\n",
      "5\n",
      "Enter left child of 5\n",
      "2\n",
      "Enter right child of 5\n",
      "10\n",
      "Enter left child of 2\n",
      "-1\n",
      "Enter right child of 2\n",
      "-1\n",
      "Enter left child of 10\n",
      "-1\n",
      "Enter right child of 10\n",
      "-1\n",
      "[2, 5]\n"
     ]
    }
   ],
   "source": [
    "root=takeLevelWiseInput()\n",
    "print(nodeToRootPath(root,2))"
   ]
  },
  {
   "cell_type": "code",
   "execution_count": 19,
   "id": "4c7bafac",
   "metadata": {},
   "outputs": [],
   "source": [
    "def findPathBST(root,data):\n",
    "    if root is None:\n",
    "        return None\n",
    "    if root.data==data:\n",
    "        li=[]\n",
    "        li.append(root.data)\n",
    "        return li\n",
    "    if data<root.data:\n",
    "        leftoutput=findPathBST(root.left,data)\n",
    "        if leftoutput!=None:\n",
    "            leftoutput.append(root.data)\n",
    "            return leftoutput\n",
    "    if data>root.data:\n",
    "        rightoutput=findPathBST(root.right,data)\n",
    "        if rightoutput!=None:\n",
    "            rightoutput.append(root.data)\n",
    "            return rightoutput\n",
    "        else:\n",
    "            return None"
   ]
  },
  {
   "cell_type": "code",
   "execution_count": 30,
   "id": "b7de438a",
   "metadata": {},
   "outputs": [],
   "source": [
    "class BST:\n",
    "    def __init__(self):\n",
    "        self.root=None\n",
    "        self.numnodes=0\n",
    "    def printTreeHelper(self,root):\n",
    "        if root==None:\n",
    "            return\n",
    "        print(root.data,end=':')\n",
    "        if root.left!=None:\n",
    "            print(\"L:\"+str(root.left.data),end=',')\n",
    "        if root.right!=None:\n",
    "            print(\"R:\"+str(root.right.data),end=' ')\n",
    "        print()        \n",
    "        self.printTreeHelper(root.left)\n",
    "        self.printTreeHelper(root.right)     \n",
    "    def printTree(self):\n",
    "        self.printTreeHelper(self.root)\n",
    "    def isPresentHelper(self,root,data):\n",
    "        if root==None:\n",
    "            return False\n",
    "        if root.data==data:\n",
    "            return True\n",
    "        if  root.data>data:\n",
    "            return self.isPresentHelper(root.left,data)\n",
    "        else:\n",
    "            return self.isPresentHelper(root.right,data)      \n",
    "    def isPresent(self,data):\n",
    "        return  self.isPresentHelper(self.root,data)\n",
    "    def insertHelper(self,root,data):\n",
    "        if root==None:\n",
    "            node=BinaryTreeNode(data)\n",
    "            return node\n",
    "        if root.data>data:\n",
    "            root.left=self.insertHelper(root.left,data)\n",
    "            return root\n",
    "        else:\n",
    "            root.right=self.insertHelper(root.right,data)\n",
    "            return root\n",
    "    def insert(self,data):\n",
    "        self.numnodes+=1\n",
    "        self.root=self.insertHelper(self.root,data)\n",
    "    def minTree(self,root):\n",
    "        if root is None:\n",
    "            return 100000\n",
    "        lmin=self.minTree(root.left)\n",
    "        rmin=self.minTree(root.right)\n",
    "        return min(lmin,rmin,root.data)\n",
    "        \n",
    "    def deleteDatahelper(self,root,data):\n",
    "        if root==None:\n",
    "            return False,None\n",
    "        if data>root.data:\n",
    "            deleted,newRightNode=self.deleteDatahelper(root.right,data)\n",
    "            root.right=newRightNode\n",
    "            return deleted,root\n",
    "        if root.data>data:\n",
    "            deleted,newLeftNode=self.deleteDatahelper(root.left,data)\n",
    "            root.left=newLeftNode\n",
    "            return deleted,root\n",
    "        #root is leaf\n",
    "        if root.left==None and root.right==None:\n",
    "            return True,None\n",
    "        #root has one child \n",
    "        if root.left==None:\n",
    "            return True,root.right\n",
    "        if root.right==None:\n",
    "            return True,root.left\n",
    "        #root has two children\n",
    "        replacement=self.minTree(root.right)\n",
    "        root.data=replacement\n",
    "        deleted,newRightNode=self.deleteDatahelper(root.right,replacement)\n",
    "        root.right=newRightNode\n",
    "        return True,root\n",
    "            \n",
    "    def deleteData(self,data):\n",
    "        deleted,newroot=self.deleteDatahelper(self.root,data)\n",
    "        if deleted:\n",
    "            self.numnodes-=1\n",
    "        self.root=newroot    \n",
    "        return deleted\n",
    "    def count(self):\n",
    "        return self.numnodes\n",
    "        \n",
    "        \n",
    "        "
   ]
  },
  {
   "cell_type": "code",
   "execution_count": 31,
   "id": "a7cf2cf1",
   "metadata": {},
   "outputs": [
    {
     "name": "stdout",
     "output_type": "stream",
     "text": [
      "True\n",
      "False\n",
      "10:L:5,R:12 \n",
      "5:\n",
      "12:\n",
      "False\n",
      "True\n",
      "12:L:5,\n",
      "5:\n"
     ]
    }
   ],
   "source": [
    "b=BST()\n",
    "b.insert(10)\n",
    "b.insert(5)\n",
    "b.insert(12)\n",
    "print(b.isPresent(10))\n",
    "print(b.isPresent(7))\n",
    "b.printTree()\n",
    "print(b.deleteData(4))\n",
    "print(b.deleteData(10))\n",
    "b.printTree()"
   ]
  },
  {
   "cell_type": "code",
   "execution_count": null,
   "id": "097c270a",
   "metadata": {},
   "outputs": [],
   "source": []
  }
 ],
 "metadata": {
  "kernelspec": {
   "display_name": "Python 3 (ipykernel)",
   "language": "python",
   "name": "python3"
  },
  "language_info": {
   "codemirror_mode": {
    "name": "ipython",
    "version": 3
   },
   "file_extension": ".py",
   "mimetype": "text/x-python",
   "name": "python",
   "nbconvert_exporter": "python",
   "pygments_lexer": "ipython3",
   "version": "3.9.7"
  }
 },
 "nbformat": 4,
 "nbformat_minor": 5
}
