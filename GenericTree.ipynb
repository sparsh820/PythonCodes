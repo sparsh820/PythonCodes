{
 "cells": [
  {
   "cell_type": "code",
   "execution_count": 3,
   "id": "eee41351",
   "metadata": {},
   "outputs": [],
   "source": [
    "class TreeNode:\n",
    "    def __init__(self,data):\n",
    "        self.data=data\n",
    "        self.children=list()\n",
    "        "
   ]
  },
  {
   "cell_type": "code",
   "execution_count": 5,
   "id": "f2a383d2",
   "metadata": {},
   "outputs": [],
   "source": [
    "def printTree(root):\n",
    "    if root ==None:\n",
    "        return \n",
    "    print(root.data,\":\",end=' ')\n",
    "    for child in root.children:\n",
    "        print(child.data,\",\",end=' ')\n",
    "    print()\n",
    "    for child in root.children:\n",
    "        printTree(child)\n",
    "    "
   ]
  },
  {
   "cell_type": "code",
   "execution_count": 7,
   "id": "83cf0fea",
   "metadata": {},
   "outputs": [],
   "source": [
    "def takeinput():\n",
    "    print(\"Enter root data\")\n",
    "    rootdata=int(input())\n",
    "    if rootdata==-1:\n",
    "        return None\n",
    "    root=TreeNode(rootdata)\n",
    "    print(\"Enter the number of children for\",root.data)\n",
    "    childcount=int(input())\n",
    "    for i in range(childcount):\n",
    "        child=takeinput()\n",
    "        root.children.append(child)\n",
    "    return root    "
   ]
  },
  {
   "cell_type": "code",
   "execution_count": 11,
   "id": "2b0aa2d3",
   "metadata": {},
   "outputs": [],
   "source": [
    "def numNodes(root):\n",
    "    count=1\n",
    "    for child in root.children:\n",
    "        count=count+numNodes(child)\n",
    "    return count    "
   ]
  },
  {
   "cell_type": "code",
   "execution_count": 6,
   "id": "83290f8a",
   "metadata": {},
   "outputs": [
    {
     "name": "stdout",
     "output_type": "stream",
     "text": [
      "5 : 2 , 9 , 8 , 7 , \n",
      "2 : \n",
      "9 : 15 , 1 , \n",
      "15 : \n",
      "1 : \n",
      "8 : \n",
      "7 : \n"
     ]
    }
   ],
   "source": [
    "n1=TreeNode(5)\n",
    "n2=TreeNode(2)\n",
    "n3=TreeNode(9)\n",
    "n4=TreeNode(8)\n",
    "n5=TreeNode(7)\n",
    "n6=TreeNode(15)\n",
    "n7=TreeNode(1)\n",
    "\n",
    "n1.children.append(n2)\n",
    "n1.children.append(n3)\n",
    "n1.children.append(n4)\n",
    "n1.children.append(n5)\n",
    "\n",
    "n3.children.append(n6)\n",
    "n3.children.append(n7)\n",
    "printTree(n1)"
   ]
  },
  {
   "cell_type": "code",
   "execution_count": 10,
   "id": "aaddf058",
   "metadata": {},
   "outputs": [
    {
     "name": "stdout",
     "output_type": "stream",
     "text": [
      "Enter root data\n",
      "5\n",
      "Enter the number of children for 5\n",
      "4\n",
      "Enter root data\n",
      "2\n",
      "Enter the number of children for 2\n",
      "0\n",
      "Enter root data\n",
      "9\n",
      "Enter the number of children for 9\n",
      "2\n",
      "Enter root data\n",
      "15\n",
      "Enter the number of children for 15\n",
      "0\n",
      "Enter root data\n",
      "1\n",
      "Enter the number of children for 1\n",
      "0\n",
      "Enter root data\n",
      "8\n",
      "Enter the number of children for 8\n",
      "0\n",
      "Enter root data\n",
      "7\n",
      "Enter the number of children for 7\n",
      "0\n",
      "5 : 2 , 9 , 8 , 7 , \n",
      "2 : \n",
      "9 : 15 , 1 , \n",
      "15 : \n",
      "1 : \n",
      "8 : \n",
      "7 : \n"
     ]
    }
   ],
   "source": [
    "root=takeinput()\n",
    "printTree(root)"
   ]
  },
  {
   "cell_type": "code",
   "execution_count": 12,
   "id": "9c4f7942",
   "metadata": {},
   "outputs": [
    {
     "data": {
      "text/plain": [
       "7"
      ]
     },
     "execution_count": 12,
     "metadata": {},
     "output_type": "execute_result"
    }
   ],
   "source": [
    "numNodes(root)"
   ]
  },
  {
   "cell_type": "code",
   "execution_count": 13,
   "id": "7617e0fb",
   "metadata": {},
   "outputs": [],
   "source": [
    "def sumOfAllNodes(root) :\n",
    "    sum=root.data;\n",
    "    for child in root.children:\n",
    "        sum=sum+sumOfAllNodes(child)\n",
    "    return sum    "
   ]
  },
  {
   "cell_type": "code",
   "execution_count": 14,
   "id": "d4f6dcfe",
   "metadata": {},
   "outputs": [
    {
     "data": {
      "text/plain": [
       "5"
      ]
     },
     "execution_count": 14,
     "metadata": {},
     "output_type": "execute_result"
    }
   ],
   "source": [
    "max(5,2)"
   ]
  },
  {
   "cell_type": "code",
   "execution_count": 15,
   "id": "94a13dea",
   "metadata": {},
   "outputs": [],
   "source": [
    "def height(tree):\n",
    "    h=0\n",
    "    for child in tree.children:\n",
    "        ch=height(child)\n",
    "        h=max(h,ch)\n",
    "    return h+1    "
   ]
  },
  {
   "cell_type": "code",
   "execution_count": 20,
   "id": "5afd80bc",
   "metadata": {},
   "outputs": [],
   "source": [
    "import queue\n",
    "def takeinputLevelWise():\n",
    "    q=queue.Queue()\n",
    "    print(\"Enter root data\")\n",
    "    rootdata=int(input())\n",
    "    if rootdata==-1:\n",
    "        return None\n",
    "    root=TreeNode(rootdata)\n",
    "    q.put(root)\n",
    "    while q.empty() is False:\n",
    "        curr_node=q.get()\n",
    "        print(\"Enter the number children of\",curr_node.data)\n",
    "        numchildren=int(input())\n",
    "        for i in range(numchildren):\n",
    "            print(\"Enter next child of\",curr_node.data)\n",
    "            childdata=int(input())\n",
    "            child=TreeNode(childdata)\n",
    "            curr_node.children.append(child)\n",
    "            q.put(child)\n",
    "    return root        \n",
    "            "
   ]
  },
  {
   "cell_type": "code",
   "execution_count": 21,
   "id": "ac2902c3",
   "metadata": {},
   "outputs": [
    {
     "name": "stdout",
     "output_type": "stream",
     "text": [
      "Enter root data\n",
      "1\n",
      "Enter the number children of 1\n",
      "3\n",
      "Enter next child of 1\n",
      "2\n",
      "Enter next child of 1\n",
      "3\n",
      "Enter next child of 1\n",
      "4\n",
      "Enter the number children of 2\n",
      "0\n",
      "Enter the number children of 3\n",
      "0\n",
      "Enter the number children of 4\n",
      "0\n",
      "1 : 2 , 3 , 4 , \n",
      "2 : \n",
      "3 : \n",
      "4 : \n"
     ]
    }
   ],
   "source": [
    "root=takeinputLevelWise()\n",
    "printTree(root)"
   ]
  },
  {
   "cell_type": "code",
   "execution_count": 22,
   "id": "6ad08e0e",
   "metadata": {},
   "outputs": [],
   "source": [
    "\n",
    "def printLevelWiseTree(tree):\n",
    "    q=queue.Queue()\n",
    "    q.put(tree)\n",
    "    while q.empty() is False:\n",
    "        cur_node=q.get()\n",
    "        print(cur_node.data,end=':')\n",
    "        i=0\n",
    "        for child in cur_node.children:\n",
    "            if i!=len(cur_node.children)-1:\n",
    "                print(child.data,end=',')\n",
    "            else:\n",
    "                print(child.data,end='')\n",
    "            i=i+1    \n",
    "            q.put(child)\n",
    "        print()    "
   ]
  },
  {
   "cell_type": "code",
   "execution_count": 23,
   "id": "6491aec3",
   "metadata": {},
   "outputs": [],
   "source": [
    "def containsX(tree, x):\n",
    "    if tree.data==x:\n",
    "        return True\n",
    "    ans=False\n",
    "    for child in tree.children:\n",
    "        ans=ans or containsX(child,x)\n",
    "    return ans    "
   ]
  },
  {
   "cell_type": "code",
   "execution_count": 24,
   "id": "f4d53dfb",
   "metadata": {},
   "outputs": [],
   "source": [
    "def leafNodeCount(tree):\n",
    "    if len(tree.children)==0:\n",
    "        return 1\n",
    "    size=0\n",
    "    for child in tree.children:\n",
    "        size=size+leafNodeCount(child)\n",
    "    return size    "
   ]
  },
  {
   "cell_type": "code",
   "execution_count": 25,
   "id": "da33c400",
   "metadata": {},
   "outputs": [],
   "source": [
    "def maxSumNode(tree):\n",
    "    max=tree.sum()\n",
    "    node=tree\n",
    "    childmaxsum=0\n",
    "    maxnode=None\n",
    "    for child in tree.children:\n",
    "        maxnode,childmaxsum=maxSumNode(child)\n",
    "        if childmaxsum>max:\n",
    "            max=childmaxsum\n",
    "            node=maxnode\n",
    "    return node,max        "
   ]
  },
  {
   "cell_type": "code",
   "execution_count": null,
   "id": "6aae41eb",
   "metadata": {},
   "outputs": [],
   "source": [
    "def createLevelWiseTree(arr):\n",
    "    root = treeNode(int(arr[0]))\n",
    "    q = [root]\n",
    "    size = len(arr)\n",
    "    i = 1\n",
    "    while i<size:\n",
    "        parent = q.pop(0)\n",
    "        childCount = int(arr[i])\n",
    "        i += 1\n",
    "        for j in range(0,childCount):\n",
    "            temp = treeNode(int(arr[i+j]))\n",
    "            parent.children.append(temp)\n",
    "            q.append(temp)\n",
    "        i += childCount\n",
    "    return root\n",
    "\n",
    "# Main\n",
    "arr = list(int(x) for x in stdin.readline().strip().split())\n",
    "tree = createLevelWiseTree(arr)\n",
    "temp, tempSum = maxSumNode(tree)\n",
    "print(temp.data)"
   ]
  },
  {
   "cell_type": "code",
   "execution_count": 1,
   "id": "85f2d068",
   "metadata": {},
   "outputs": [],
   "source": [
    "def isIdentical(tree1, tree2):\n",
    "    if len(tree1.children) != len(tree2.children):\n",
    "        return False\n",
    "    if tree1 is None and tree2 is None :\n",
    "        return True\n",
    "\n",
    "    for i in range(len(tree1.children)):\n",
    "        return isIdentical(tree1.children[i], tree2.children[i])\n",
    "    if tree1.data != tree2.data:\n",
    "        return False\n",
    "    elif tree1.data == tree2.data:\n",
    "        return True"
   ]
  },
  {
   "cell_type": "code",
   "execution_count": 2,
   "id": "bf921cef",
   "metadata": {},
   "outputs": [],
   "source": [
    "def nextLargest(tree,n):\n",
    "    ans=None\n",
    "    if tree==None:\n",
    "        return ans\n",
    "    if tree.data>n:\n",
    "        ans = tree\n",
    "    for child in tree.children:\n",
    "        temp = nextLargest(child,n)\n",
    "        if temp!=None:\n",
    "            if(not ans) or ans.data > temp.data:\n",
    "                ans = temp\n",
    "    return ans"
   ]
  },
  {
   "cell_type": "code",
   "execution_count": 3,
   "id": "32da53a3",
   "metadata": {},
   "outputs": [],
   "source": [
    "def replacewithDepth(tree,d=0):\n",
    "    tree.data=d\n",
    "    for child in tree.children:\n",
    "        replacewithDepth(child,d+1)"
   ]
  },
  {
   "cell_type": "code",
   "execution_count": null,
   "id": "a5f3af37",
   "metadata": {},
   "outputs": [],
   "source": []
  }
 ],
 "metadata": {
  "kernelspec": {
   "display_name": "Python 3 (ipykernel)",
   "language": "python",
   "name": "python3"
  },
  "language_info": {
   "codemirror_mode": {
    "name": "ipython",
    "version": 3
   },
   "file_extension": ".py",
   "mimetype": "text/x-python",
   "name": "python",
   "nbconvert_exporter": "python",
   "pygments_lexer": "ipython3",
   "version": "3.9.7"
  }
 },
 "nbformat": 4,
 "nbformat_minor": 5
}
