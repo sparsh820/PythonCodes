{
 "cells": [
  {
   "cell_type": "code",
   "execution_count": 4,
   "id": "1343c763",
   "metadata": {},
   "outputs": [],
   "source": [
    "from sys import maxsize as MAX_VALUE"
   ]
  },
  {
   "cell_type": "code",
   "execution_count": 5,
   "id": "8cba67bb",
   "metadata": {},
   "outputs": [],
   "source": [
    "def countMinStepsI(n):\n",
    "    dp=[0 for i in range(n+1)]\n",
    "    dp[1]=0\n",
    "    i=2\n",
    "    while i<=n:\n",
    "        ans2=MAX_VALUE\n",
    "        ans3=MAX_VALUE\n",
    "        ans1=dp[i-1]\n",
    "        if i%2==0:\n",
    "            ans2=dp[i//2]\n",
    "        if i%3==0:\n",
    "            ans3=dp[i//3]\n",
    "        dp[i]=1+min(ans1,ans2,ans3)\n",
    "        i=i+1\n",
    "    return dp[n]    "
   ]
  },
  {
   "cell_type": "code",
   "execution_count": 6,
   "id": "fc9e7e29",
   "metadata": {},
   "outputs": [
    {
     "name": "stdout",
     "output_type": "stream",
     "text": [
      "4\n"
     ]
    }
   ],
   "source": [
    "print(countMinStepsI(20))"
   ]
  },
  {
   "cell_type": "code",
   "execution_count": null,
   "id": "886dd8c8",
   "metadata": {},
   "outputs": [],
   "source": []
  }
 ],
 "metadata": {
  "kernelspec": {
   "display_name": "Python 3 (ipykernel)",
   "language": "python",
   "name": "python3"
  },
  "language_info": {
   "codemirror_mode": {
    "name": "ipython",
    "version": 3
   },
   "file_extension": ".py",
   "mimetype": "text/x-python",
   "name": "python",
   "nbconvert_exporter": "python",
   "pygments_lexer": "ipython3",
   "version": "3.9.7"
  }
 },
 "nbformat": 4,
 "nbformat_minor": 5
}
