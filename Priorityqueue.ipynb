{
 "cells": [
  {
   "cell_type": "code",
   "execution_count": 16,
   "id": "bed8cd32",
   "metadata": {},
   "outputs": [],
   "source": [
    "class PriorityQueueNode:\n",
    "    def __init__(self,ele,priority):\n",
    "        self.ele = ele\n",
    "        self.priority = priority\n",
    "        \n",
    "class PriorityQueue:\n",
    "    def __init__(self):\n",
    "        self.pq = []\n",
    "    \n",
    "    def isEmpty(self):\n",
    "        return self.getSize() == 0\n",
    "    \n",
    "    def getSize(self):\n",
    "        return len(self.pq)\n",
    "\n",
    "    def getMin(self):\n",
    "        if self.isEmpty():\n",
    "            return None\n",
    "        return self.pq[0].ele\n",
    "    \n",
    "    def __percolateUp(self):\n",
    "        childIndex = self.getSize() - 1\n",
    "        while childIndex > 0:\n",
    "            parentIndex = (childIndex-1)//2\n",
    "            \n",
    "            if self.pq[parentIndex].priority > self.pq[childIndex].priority:\n",
    "                self.pq[parentIndex],self.pq[childIndex] = self.pq[childIndex],self.pq[parentIndex]\n",
    "                childIndex = parentIndex\n",
    "            else:\n",
    "                break\n",
    "        \n",
    "    def __percolateDown(self):\n",
    "        parentIndex = 0\n",
    "        leftIndex = 2*parentIndex + 1\n",
    "        rightIndex = 2*parentIndex + 2\n",
    "        while leftIndex < self.getSize():\n",
    "            minIndex = parentIndex\n",
    "            if(self.pq[minIndex].priority > self.pq[leftIndex].priority):\n",
    "                minIndex = leftIndex\n",
    "            if(rightIndex < self.getSize() and self.pq[minIndex].priority > self.pq[rightIndex].priority):\n",
    "                minIndex = rightIndex\n",
    "            \n",
    "            if minIndex!=parentIndex:\n",
    "                self.pq[parentIndex],self.pq[minIndex] = self.pq[minIndex],self.pq[parentIndex]\n",
    "                parentIndex = minIndex\n",
    "                leftIndex = 2*parentIndex + 1\n",
    "                rightIndex = 2*parentIndex + 2\n",
    "            else:\n",
    "                break\n",
    "            \n",
    "            \n",
    "    def insert(self,ele,priority):\n",
    "        pqNode = PriorityQueueNode(ele,priority)\n",
    "        self.pq.append(pqNode)\n",
    "        self.__percolateUp()\n",
    "        \n",
    "    def removeMin(self):\n",
    "        if self.isEmpty():\n",
    "            return None\n",
    "        element = self.pq[0]\n",
    "        self.pq[0] = self.pq[self.getSize()-1]\n",
    "        self.pq.pop()\n",
    "        #Heapify-Down\n",
    "        self.__percolateDown()\n",
    "        return element.ele"
   ]
  },
  {
   "cell_type": "code",
   "execution_count": 17,
   "id": "32d31310",
   "metadata": {},
   "outputs": [
    {
     "name": "stdout",
     "output_type": "stream",
     "text": [
      "D\n",
      "B\n",
      "A\n",
      "C\n"
     ]
    }
   ],
   "source": [
    "p=PriorityQueue()\n",
    "p.insert('A',10)\n",
    "p.insert('B',5)\n",
    "p.insert('C',14)\n",
    "p.insert('D',4)\n",
    "for i in range(4):\n",
    "    print(p.removeMin())"
   ]
  },
  {
   "cell_type": "code",
   "execution_count": 18,
   "id": "ec18a94b",
   "metadata": {},
   "outputs": [],
   "source": [
    "#Max-priority queue\n",
    "class PriorityQueueNode:\n",
    "    def __init__(self,ele,priority):\n",
    "        self.ele = ele\n",
    "        self.priority = priority\n",
    "        \n",
    "class MaxPriorityQueue:\n",
    "    def __init__(self):\n",
    "        self.pq = []\n",
    "    \n",
    "    def isEmpty(self):\n",
    "        return self.getSize() == 0\n",
    "    \n",
    "    def getSize(self):\n",
    "        return len(self.pq)\n",
    "\n",
    "    def getMax(self):\n",
    "        if self.isEmpty():\n",
    "            return None\n",
    "        return self.pq[0].ele\n",
    "    \n",
    "    def __percolateUp(self):\n",
    "        childIndex = self.getSize() - 1\n",
    "        while childIndex > 0:\n",
    "            parentIndex = (childIndex-1)//2\n",
    "            \n",
    "            if self.pq[parentIndex].priority < self.pq[childIndex].priority:\n",
    "                self.pq[parentIndex],self.pq[childIndex] = self.pq[childIndex],self.pq[parentIndex]\n",
    "                childIndex = parentIndex\n",
    "            else:\n",
    "                break\n",
    "        \n",
    "    def __percolateDown(self):\n",
    "        parentIndex = 0\n",
    "        leftIndex = 2*parentIndex + 1\n",
    "        rightIndex = 2*parentIndex + 2\n",
    "        while leftIndex < self.getSize():\n",
    "            minIndex = parentIndex\n",
    "            if(self.pq[minIndex].priority < self.pq[leftIndex].priority):\n",
    "                minIndex = leftIndex\n",
    "            if(rightIndex < self.getSize() and self.pq[minIndex].priority < self.pq[rightIndex].priority):\n",
    "                minIndex = rightIndex\n",
    "            \n",
    "            if minIndex!=parentIndex:\n",
    "                self.pq[parentIndex],self.pq[minIndex] = self.pq[minIndex],self.pq[parentIndex]\n",
    "                parentIndex = minIndex\n",
    "                leftIndex = 2*parentIndex + 1\n",
    "                rightIndex = 2*parentIndex + 2\n",
    "            else:\n",
    "                break\n",
    "            \n",
    "            \n",
    "    def insert(self,ele,priority):\n",
    "        pqNode = PriorityQueueNode(ele,priority)\n",
    "        self.pq.append(pqNode)\n",
    "        self.__percolateUp()\n",
    "        \n",
    "    def removeMax(self):\n",
    "        if self.isEmpty():\n",
    "            return None\n",
    "        element = self.pq[0]\n",
    "        self.pq[0] = self.pq[self.getSize()-1]\n",
    "        self.pq.pop()\n",
    "        #Heapify-Down\n",
    "        self.__percolateDown()\n",
    "        return element.ele\n",
    "        "
   ]
  },
  {
   "cell_type": "code",
   "execution_count": 19,
   "id": "a96a494b",
   "metadata": {},
   "outputs": [
    {
     "name": "stdout",
     "output_type": "stream",
     "text": [
      "C\n",
      "A\n",
      "B\n",
      "D\n"
     ]
    }
   ],
   "source": [
    "p=MaxPriorityQueue()\n",
    "p.insert('A',10)\n",
    "p.insert('B',5)\n",
    "p.insert('C',14)\n",
    "p.insert('D',4)\n",
    "for i in range(4):\n",
    "    print(p.removeMax())"
   ]
  },
  {
   "cell_type": "code",
   "execution_count": 23,
   "id": "667e7b48",
   "metadata": {},
   "outputs": [
    {
     "ename": "IndentationError",
     "evalue": "unexpected indent (Temp/ipykernel_17144/122885331.py, line 21)",
     "output_type": "error",
     "traceback": [
      "\u001b[1;36m  File \u001b[1;32m\"C:\\Users\\HP\\AppData\\Local\\Temp/ipykernel_17144/122885331.py\"\u001b[1;36m, line \u001b[1;32m21\u001b[0m\n\u001b[1;33m    heapify(arr, i, 0)\u001b[0m\n\u001b[1;37m    ^\u001b[0m\n\u001b[1;31mIndentationError\u001b[0m\u001b[1;31m:\u001b[0m unexpected indent\n"
     ]
    }
   ],
   "source": [
    "def heapify(arr, n, i):\n",
    "        largest = i\n",
    "        l = 2 * i + 1\n",
    "        r = 2 * i + 2\n",
    "        if l < n and arr[i] < arr[l]:\n",
    "            largest = l\n",
    "        if r < n and arr[largest] < arr[r]:\n",
    "            largest = r\n",
    "        if largest != i:\n",
    "            arr[i], arr[largest] = arr[largest], arr[i]\n",
    "            heapify(arr, n, largest)\n",
    "\n",
    "\n",
    "\n",
    "def heapSort(arr):\n",
    "    n = len(arr)\n",
    "    for i in range(n//2, -1, -1):\n",
    "        heapify(arr, n, i)\n",
    "    for i in range(n-1, 0, -1):\n",
    "          arr[i], arr[0] = arr[0], arr[i]\n",
    "             heapify(arr, i, 0)\n",
    "\n",
    "n = input()\n",
    "arr = [int(ele) for ele in input().split()]\n",
    "heapSort(arr)\n",
    "for ele in arr[::-1]:\n",
    "    print(ele,end=' ')"
   ]
  },
  {
   "cell_type": "code",
   "execution_count": 25,
   "id": "16b8a82f",
   "metadata": {},
   "outputs": [],
   "source": [
    "import heapq\n",
    "li=[1,5,4,8,7,9,11]\n",
    "heapq.heapify(li)"
   ]
  },
  {
   "cell_type": "code",
   "execution_count": 26,
   "id": "0c4fd1ae",
   "metadata": {},
   "outputs": [
    {
     "name": "stdout",
     "output_type": "stream",
     "text": [
      "[1, 5, 4, 8, 7, 9, 11]\n"
     ]
    }
   ],
   "source": [
    "print(li)"
   ]
  },
  {
   "cell_type": "code",
   "execution_count": 27,
   "id": "f8d5ff20",
   "metadata": {},
   "outputs": [
    {
     "name": "stdout",
     "output_type": "stream",
     "text": [
      "[1, 2, 4, 5, 7, 9, 11, 8]\n"
     ]
    }
   ],
   "source": [
    "heapq.heappush(li,2)\n",
    "print(li)"
   ]
  },
  {
   "cell_type": "code",
   "execution_count": 28,
   "id": "f0a44cf7",
   "metadata": {},
   "outputs": [
    {
     "name": "stdout",
     "output_type": "stream",
     "text": [
      "1\n"
     ]
    }
   ],
   "source": [
    "print(heapq.heappop(li))"
   ]
  },
  {
   "cell_type": "code",
   "execution_count": 29,
   "id": "0785260f",
   "metadata": {},
   "outputs": [
    {
     "name": "stdout",
     "output_type": "stream",
     "text": [
      "[2, 5, 4, 8, 7, 9, 11]\n"
     ]
    }
   ],
   "source": [
    "print(li)"
   ]
  },
  {
   "cell_type": "code",
   "execution_count": 31,
   "id": "5810acbe",
   "metadata": {},
   "outputs": [
    {
     "name": "stdout",
     "output_type": "stream",
     "text": [
      "[4, 5, 6, 8, 7, 9, 11]\n"
     ]
    }
   ],
   "source": [
    "heapq.heapreplace(li,6) #replaces top priority element always\n",
    "print(li)"
   ]
  },
  {
   "cell_type": "code",
   "execution_count": 32,
   "id": "80fb8675",
   "metadata": {},
   "outputs": [
    {
     "name": "stdout",
     "output_type": "stream",
     "text": [
      "[9, 8, 4, 7, 5, 1, 2, 3]\n"
     ]
    }
   ],
   "source": [
    "import heapq\n",
    "li=[1,5,4,7,8,9,2,3]\n",
    "heapq._heapify_max(li)\n",
    "print(li)"
   ]
  },
  {
   "cell_type": "code",
   "execution_count": 33,
   "id": "9af1d2c5",
   "metadata": {},
   "outputs": [
    {
     "name": "stdout",
     "output_type": "stream",
     "text": [
      "9\n"
     ]
    }
   ],
   "source": [
    "print(heapq._heappop_max(li))"
   ]
  },
  {
   "cell_type": "code",
   "execution_count": 34,
   "id": "e731d230",
   "metadata": {},
   "outputs": [
    {
     "name": "stdout",
     "output_type": "stream",
     "text": [
      "[8, 7, 4, 3, 5, 1, 2]\n"
     ]
    }
   ],
   "source": [
    "print(li)"
   ]
  },
  {
   "cell_type": "code",
   "execution_count": 35,
   "id": "f23fb5fb",
   "metadata": {},
   "outputs": [
    {
     "name": "stdout",
     "output_type": "stream",
     "text": [
      "[7, 5, 4, 3, 0, 1, 2]\n"
     ]
    }
   ],
   "source": [
    "heapq._heapreplace_max(li,0)\n",
    "print(li)"
   ]
  },
  {
   "cell_type": "code",
   "execution_count": 38,
   "id": "e3005383",
   "metadata": {},
   "outputs": [],
   "source": [
    "import heapq\n",
    "def kSmallest(lst, k):\n",
    "    heap=lst[:k]\n",
    "    heapq._heapify_max(heap)\n",
    "    n=len(lst)\n",
    "    for i in range(k,n):\n",
    "        if heap[0]>lst[i]:\n",
    "            heapq._heapreplace_max(heap,lst[i])\n",
    "    return heap"
   ]
  },
  {
   "cell_type": "code",
   "execution_count": 39,
   "id": "48fbf8f1",
   "metadata": {},
   "outputs": [
    {
     "name": "stdout",
     "output_type": "stream",
     "text": [
      "4\n",
      "4\n",
      "3\n",
      "4\n"
     ]
    }
   ],
   "source": [
    "import heapq\n",
    "def kLargest(lst, k):\n",
    "    heap=lst[0:k]\n",
    "    heapq.heapify(heap)\n",
    "    n=len(lst)\n",
    "    for i in range(k,n):\n",
    "        if lst[i]>heap[0]:\n",
    "            heapq.heapreplace(heap,lst[i])\n",
    "    return heap        \n",
    "\n",
    "# Main Code\n",
    "n=int(input())\n",
    "lst=list(int(i) for i in input().strip().split(' '))\n",
    "k=int(input())\n",
    "ans=kLargest(lst, k)\n",
    "print(*ans, sep='\\n')\n"
   ]
  },
  {
   "cell_type": "code",
   "execution_count": 41,
   "id": "630cfbd6",
   "metadata": {},
   "outputs": [
    {
     "name": "stdout",
     "output_type": "stream",
     "text": [
      "4\n",
      "5 8 10 1\n",
      "2\n",
      "8\n"
     ]
    }
   ],
   "source": [
    "import heapq\n",
    "def kthLargest(lst, k):\n",
    "    heap=lst[0:k]\n",
    "    heapq.heapify(heap)\n",
    "    for i in range(k,len(lst)):\n",
    "        if lst[i]>heap[0]:\n",
    "            heapq.heapreplace(heap,lst[i])\n",
    "    return heap[0]        \n",
    "\n",
    "\n",
    "# Main\n",
    "n=int(input())\n",
    "lst=list(int(i) for i in input().strip().split(' '))\n",
    "k=int(input())\n",
    "ans=kthLargest(lst, k)\n",
    "print(ans)"
   ]
  },
  {
   "cell_type": "code",
   "execution_count": 6,
   "id": "e3d2fe36",
   "metadata": {},
   "outputs": [
    {
     "name": "stdout",
     "output_type": "stream",
     "text": [
      "4\n",
      "5 2 8 7\n",
      "2\n",
      "[8, 7, 5, 2]\n",
      "1\n"
     ]
    }
   ],
   "source": [
    "from sys import stdin\n",
    "import heapq\n",
    "import queue\n",
    "q=queue.Queue()\n",
    "\n",
    "\n",
    "#Function to implement\n",
    "import heapq\n",
    "def ticket(arr,k,count):\n",
    "    Priority=arr[k]\n",
    "    heapq._heapify_max(arr)\n",
    "    print(arr)\n",
    "    time=0\n",
    "    while True:\n",
    "        temp=heapq._heappop_max(arr)\n",
    "        time+=1\n",
    "        if temp==Priority:\n",
    "            count-=1\n",
    "            if count<=0:\n",
    "            \treturn time\n",
    "            \n",
    "n = int(input())                \n",
    "li = [int(x) for x in input().split()]\n",
    "k = int(input())\n",
    "count=0\n",
    "for i in range(k):\n",
    "    if li[k]==li[i]:\n",
    "        count+=1\n",
    "print(ticket(li,k,count))"
   ]
  },
  {
   "cell_type": "code",
   "execution_count": null,
   "id": "9801bf9e",
   "metadata": {},
   "outputs": [],
   "source": []
  }
 ],
 "metadata": {
  "kernelspec": {
   "display_name": "Python 3 (ipykernel)",
   "language": "python",
   "name": "python3"
  },
  "language_info": {
   "codemirror_mode": {
    "name": "ipython",
    "version": 3
   },
   "file_extension": ".py",
   "mimetype": "text/x-python",
   "name": "python",
   "nbconvert_exporter": "python",
   "pygments_lexer": "ipython3",
   "version": "3.9.7"
  }
 },
 "nbformat": 4,
 "nbformat_minor": 5
}
