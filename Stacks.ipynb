{
 "cells": [
  {
   "cell_type": "code",
   "execution_count": 5,
   "id": "dc1d994d",
   "metadata": {},
   "outputs": [],
   "source": [
    "class Stack:\n",
    "    def __init__(self):\n",
    "        self.__data=[]\n",
    "    def push(self,item):\n",
    "        self.__data.append(item)\n",
    "    def pop(self):\n",
    "        if self.isEmpty():\n",
    "            print(\"Hey! Stack is Empty!!\")\n",
    "            return\n",
    "        return self.__data.pop()\n",
    "    def top(self):\n",
    "        if self.isEmpty():\n",
    "            print(\"Hey! Stack is Empty!!\")\n",
    "            return\n",
    "        return self.__data[len(self.__data)-1]\n",
    "    def size(self):\n",
    "        return len(self.__data)\n",
    "    def isEmpty(self):\n",
    "        return self.size()==0\n",
    "    \n",
    "    \n",
    "    \n",
    "    "
   ]
  },
  {
   "cell_type": "code",
   "execution_count": 7,
   "id": "02f541b2",
   "metadata": {},
   "outputs": [
    {
     "name": "stdout",
     "output_type": "stream",
     "text": [
      "15\n",
      "13\n",
      "12\n",
      "Hey! Stack is Empty!!\n"
     ]
    }
   ],
   "source": [
    "s=Stack()\n",
    "s.push(12)\n",
    "s.push(13)\n",
    "s.push(15)\n",
    "while s.isEmpty() is False:\n",
    "    print(s.pop())\n",
    "s.top()    \n",
    "    "
   ]
  },
  {
   "cell_type": "code",
   "execution_count": null,
   "id": "092d3044",
   "metadata": {},
   "outputs": [],
   "source": [
    "#Following is the structure of the node class for a Singly Linked List\n",
    "class Node :\n",
    "\n",
    "    def __init__(self, data) :\n",
    "        self.data = data\n",
    "        self.next = None\n",
    "\n",
    "\n",
    "class Stack :\n",
    "\n",
    "    #Define data members and __init__()\n",
    "    def __init__(self):\n",
    "        self.head=None\n",
    "        self.size=0\n",
    "\n",
    "\n",
    "\n",
    "\n",
    "    '''----------------- Public Functions of Stack -----------------'''\n",
    "\n",
    "\n",
    "    def getSize(self) :\n",
    "        return self.size\n",
    "\n",
    "\n",
    "\n",
    "    def isEmpty(self) :\n",
    "        if self.head is None:\n",
    "            return True\n",
    "        return False\n",
    "\n",
    "\n",
    "\n",
    "    def push(self, data) :\n",
    "        nn=Node(data)\n",
    "        if self.size==0:\n",
    "            self.head=nn\n",
    "        else:\n",
    "            nn.next=self.head\n",
    "            self.head=nn\n",
    "        self.size=self.size+1    \n",
    "            \n",
    "            \n",
    "            \n",
    "            \n",
    "            \n",
    "\n",
    "\n",
    "\n",
    "    def pop(self) :\n",
    "        if self.size==0:\n",
    "            return -1\n",
    "        else:\n",
    "            value=self.head.data\n",
    "            self.head=self.head.next\n",
    "            self.size=self.size-1\n",
    "            return value\n",
    "            \n",
    "\n",
    "\n",
    "\n",
    "\n",
    "    def top(self) :\n",
    "        #Implement the top() function\n",
    "        if self.isEmpty() is True:\n",
    "            return -1\n",
    "        data = self.head.data\n",
    "        return data"
   ]
  },
  {
   "cell_type": "code",
   "execution_count": 9,
   "id": "4ca7145f",
   "metadata": {},
   "outputs": [
    {
     "name": "stdout",
     "output_type": "stream",
     "text": [
      "5\n",
      "4\n"
     ]
    }
   ],
   "source": [
    "#inbuilt list is stack\n",
    "s=[1,2,3]\n",
    "s.append(4)\n",
    "s.append(5)\n",
    "print(s.pop())\n",
    "print(s.pop())"
   ]
  },
  {
   "cell_type": "code",
   "execution_count": 12,
   "id": "67f40b85",
   "metadata": {},
   "outputs": [
    {
     "name": "stdout",
     "output_type": "stream",
     "text": [
      "1\n",
      "2\n",
      "3\n",
      "4\n"
     ]
    }
   ],
   "source": [
    "#inbuilt queue\n",
    "import queue\n",
    "q=queue.Queue()\n",
    "q.put(1)\n",
    "q.put(2)\n",
    "q.put(3)\n",
    "q.put(4)\n",
    "\n",
    "while  not q.empty():\n",
    "    print(q.get())\n",
    "    "
   ]
  },
  {
   "cell_type": "code",
   "execution_count": 17,
   "id": "9c29cec1",
   "metadata": {},
   "outputs": [
    {
     "name": "stdout",
     "output_type": "stream",
     "text": [
      "3\n",
      "2\n",
      "1\n"
     ]
    }
   ],
   "source": [
    "#inbuilt stack\n",
    "s=queue.LifoQueue()\n",
    "s.put(1)\n",
    "s.put(2)\n",
    "s.put(3)\n",
    "while not s.empty():\n",
    "    print(s.get())\n",
    "    "
   ]
  },
  {
   "cell_type": "code",
   "execution_count": 18,
   "id": "d8bc2d42",
   "metadata": {},
   "outputs": [],
   "source": [
    "def isBalanced(expression) :\n",
    "    s=[]\n",
    "    if expression[0]=='}' or expression[0]==')':\n",
    "        expression=expression[1:]\n",
    "    for ch in expression:\n",
    "        if ch=='(' or ch=='{':\n",
    "            s.append(ch)\n",
    "            \n",
    "    for ch in expression:\n",
    "        if ch==')' and s[len(s)-1]=='(':\n",
    "            s.pop()\n",
    "        elif ch=='}' and s[len(s)-1]=='{':\n",
    "            s.pop()\n",
    "        else:\n",
    "            continue\n",
    "    return len(s)==0     "
   ]
  },
  {
   "cell_type": "code",
   "execution_count": 19,
   "id": "618ed78a",
   "metadata": {},
   "outputs": [],
   "source": [
    "def reverseStack(inputStack, extraStack) :\n",
    "    if len(inputStack)==1 or isEmpty(inputStack):\n",
    "        return\n",
    "    while len(inputStack)>1:\n",
    "        extraStack.append(inputStack.pop())\n",
    "    value=inputStack.pop()    \n",
    "    while len(extraStack)>0:\n",
    "        inputStack.append(extraStack.pop())\n",
    "    reverseStack(inputStack,extraStack)\n",
    "    inputStack.append(value)"
   ]
  },
  {
   "cell_type": "code",
   "execution_count": 1,
   "id": "33a6ae78",
   "metadata": {},
   "outputs": [],
   "source": [
    "def checkRedundantBrackets(expression) :\n",
    "    count=0\n",
    "    s=[]\n",
    "    ans=False\n",
    "    for ch in expression:\n",
    "        if ch!=')':\n",
    "            s.append(ch)\n",
    "        else:\n",
    "            while True:\n",
    "                if s[-1]=='(':\n",
    "                    break\n",
    "                count=count+1\n",
    "                s.pop()\n",
    "            s.pop()    \n",
    "            if count>1:\n",
    "                ans=False\n",
    "            else:\n",
    "                ans=True\n",
    "                break\n",
    "            count=0              \n",
    "    return ans        \n",
    "                "
   ]
  },
  {
   "cell_type": "code",
   "execution_count": 2,
   "id": "0af7c211",
   "metadata": {},
   "outputs": [],
   "source": [
    "def stockSpan(price, n) :\n",
    "    st=[]\n",
    "    st.append(0)\n",
    "    S=[]\n",
    "    for i in range(n):\n",
    "        S.append(0)\n",
    "    S[0]=1\n",
    "    for i in range(1,n):\n",
    "        while len(st)>0 and price[st[-1]]<price[i]:\n",
    "            st.pop()\n",
    "        if len(st)<=0:\n",
    "            S[i]=i+1\n",
    "        else:\n",
    "            S[i]=i-st[-1]\n",
    "        st.append(i)\n",
    "    return S   "
   ]
  },
  {
   "cell_type": "code",
   "execution_count": 1,
   "id": "7555a086",
   "metadata": {},
   "outputs": [],
   "source": [
    "def countBracketReversals(inputString) :\n",
    "    st=[]\n",
    "    count=0\n",
    "    for ch in inputString:\n",
    "        if ch=='{':\n",
    "            st.append(ch)\n",
    "        else:\n",
    "            if len(st)==0:\n",
    "                st.append(ch)\n",
    "            elif st[len(st)-1]=='{' and ch=='}':\n",
    "                st.pop()\n",
    "            elif st[len(st)-1]=='}' and ch=='}':\n",
    "                st.append(ch)\n",
    "    if len(st)%2!=0:\n",
    "        return -1\n",
    "    \n",
    "    while len(st)>0:\n",
    "        c1=st.pop()\n",
    "        c2=st.pop()\n",
    "        if c1==c2:\n",
    "            count=count+1\n",
    "        else:\n",
    "            count=count+2\n",
    "    return count"
   ]
  },
  {
   "cell_type": "code",
   "execution_count": null,
   "id": "46112c26",
   "metadata": {},
   "outputs": [],
   "source": []
  }
 ],
 "metadata": {
  "kernelspec": {
   "display_name": "Python 3 (ipykernel)",
   "language": "python",
   "name": "python3"
  },
  "language_info": {
   "codemirror_mode": {
    "name": "ipython",
    "version": 3
   },
   "file_extension": ".py",
   "mimetype": "text/x-python",
   "name": "python",
   "nbconvert_exporter": "python",
   "pygments_lexer": "ipython3",
   "version": "3.9.7"
  }
 },
 "nbformat": 4,
 "nbformat_minor": 5
}
