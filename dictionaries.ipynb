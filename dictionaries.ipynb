{
 "cells": [
  {
   "cell_type": "code",
   "execution_count": 1,
   "id": "defa8093",
   "metadata": {},
   "outputs": [],
   "source": [
    "a={\"the\":100,\"a\":56,1000:\"abc\"}"
   ]
  },
  {
   "cell_type": "code",
   "execution_count": 2,
   "id": "3948078d",
   "metadata": {},
   "outputs": [
    {
     "data": {
      "text/plain": [
       "{'the': 100, 'a': 56, 1000: 'abc'}"
      ]
     },
     "execution_count": 2,
     "metadata": {},
     "output_type": "execute_result"
    }
   ],
   "source": [
    "a"
   ]
  },
  {
   "cell_type": "code",
   "execution_count": 3,
   "id": "41f0ca5e",
   "metadata": {},
   "outputs": [
    {
     "data": {
      "text/plain": [
       "3"
      ]
     },
     "execution_count": 3,
     "metadata": {},
     "output_type": "execute_result"
    }
   ],
   "source": [
    "len(a)"
   ]
  },
  {
   "cell_type": "code",
   "execution_count": 6,
   "id": "06498c5c",
   "metadata": {},
   "outputs": [
    {
     "data": {
      "text/plain": [
       "{'the': 100, 'a': 56, 1000: 'abc'}"
      ]
     },
     "execution_count": 6,
     "metadata": {},
     "output_type": "execute_result"
    }
   ],
   "source": [
    "b=a.copy()\n",
    "b"
   ]
  },
  {
   "cell_type": "code",
   "execution_count": 7,
   "id": "5a0689b5",
   "metadata": {},
   "outputs": [
    {
     "data": {
      "text/plain": [
       "{'the': 4, 'a': 50}"
      ]
     },
     "execution_count": 7,
     "metadata": {},
     "output_type": "execute_result"
    }
   ],
   "source": [
    "c=dict([(\"the\",4),(\"a\",50)])\n",
    "c"
   ]
  },
  {
   "cell_type": "code",
   "execution_count": 8,
   "id": "54b26216",
   "metadata": {},
   "outputs": [
    {
     "data": {
      "text/plain": [
       "{'abc': None, 32: None, 4: None}"
      ]
     },
     "execution_count": 8,
     "metadata": {},
     "output_type": "execute_result"
    }
   ],
   "source": [
    "d=dict.fromkeys([\"abc\",32,4])\n",
    "d"
   ]
  },
  {
   "cell_type": "code",
   "execution_count": 9,
   "id": "6080995d",
   "metadata": {},
   "outputs": [
    {
     "data": {
      "text/plain": [
       "{'abc': 10, 32: 10, 4: 10}"
      ]
     },
     "execution_count": 9,
     "metadata": {},
     "output_type": "execute_result"
    }
   ],
   "source": [
    "d=dict.fromkeys([\"abc\",32,4],10)\n",
    "d"
   ]
  },
  {
   "cell_type": "code",
   "execution_count": 10,
   "id": "72a8a0ac",
   "metadata": {},
   "outputs": [
    {
     "data": {
      "text/plain": [
       "{1: 2, 3: 4, 'list': [2, 3], 'dict': {1: 2}}"
      ]
     },
     "execution_count": 10,
     "metadata": {},
     "output_type": "execute_result"
    }
   ],
   "source": [
    "#dictionaries are mutable\n",
    "a={1:2,3:4,\"list\":[2,3],\"dict\":{1:2}}\n",
    "a"
   ]
  },
  {
   "cell_type": "code",
   "execution_count": 11,
   "id": "17607eec",
   "metadata": {},
   "outputs": [
    {
     "data": {
      "text/plain": [
       "[2, 3]"
      ]
     },
     "execution_count": 11,
     "metadata": {},
     "output_type": "execute_result"
    }
   ],
   "source": [
    "a['list']"
   ]
  },
  {
   "cell_type": "code",
   "execution_count": 12,
   "id": "1c444b6f",
   "metadata": {},
   "outputs": [
    {
     "data": {
      "text/plain": [
       "{1: 2}"
      ]
     },
     "execution_count": 12,
     "metadata": {},
     "output_type": "execute_result"
    }
   ],
   "source": [
    "a['dict']"
   ]
  },
  {
   "cell_type": "code",
   "execution_count": 13,
   "id": "b09718de",
   "metadata": {},
   "outputs": [
    {
     "data": {
      "text/plain": [
       "[2, 3]"
      ]
     },
     "execution_count": 13,
     "metadata": {},
     "output_type": "execute_result"
    }
   ],
   "source": [
    "a.get('list')"
   ]
  },
  {
   "cell_type": "code",
   "execution_count": 16,
   "id": "f91937d9",
   "metadata": {},
   "outputs": [
    {
     "name": "stdout",
     "output_type": "stream",
     "text": [
      "None\n"
     ]
    },
    {
     "ename": "KeyError",
     "evalue": "'li'",
     "output_type": "error",
     "traceback": [
      "\u001b[1;31m---------------------------------------------------------------------------\u001b[0m",
      "\u001b[1;31mKeyError\u001b[0m                                  Traceback (most recent call last)",
      "\u001b[1;32m~\\AppData\\Local\\Temp/ipykernel_20956/3212550270.py\u001b[0m in \u001b[0;36m<module>\u001b[1;34m\u001b[0m\n\u001b[0;32m      1\u001b[0m \u001b[0mprint\u001b[0m\u001b[1;33m(\u001b[0m\u001b[0ma\u001b[0m\u001b[1;33m.\u001b[0m\u001b[0mget\u001b[0m\u001b[1;33m(\u001b[0m\u001b[1;34m'li'\u001b[0m\u001b[1;33m)\u001b[0m\u001b[1;33m)\u001b[0m\u001b[1;33m\u001b[0m\u001b[1;33m\u001b[0m\u001b[0m\n\u001b[1;32m----> 2\u001b[1;33m \u001b[0ma\u001b[0m\u001b[1;33m[\u001b[0m\u001b[1;34m'li'\u001b[0m\u001b[1;33m]\u001b[0m\u001b[1;33m\u001b[0m\u001b[1;33m\u001b[0m\u001b[0m\n\u001b[0m",
      "\u001b[1;31mKeyError\u001b[0m: 'li'"
     ]
    }
   ],
   "source": [
    "print(a.get('li')) # does not give error \n",
    "a['li'] #give error"
   ]
  },
  {
   "cell_type": "code",
   "execution_count": 17,
   "id": "2052167f",
   "metadata": {},
   "outputs": [
    {
     "data": {
      "text/plain": [
       "0"
      ]
     },
     "execution_count": 17,
     "metadata": {},
     "output_type": "execute_result"
    }
   ],
   "source": [
    "a.get('li',0) #default value 0"
   ]
  },
  {
   "cell_type": "code",
   "execution_count": 18,
   "id": "993d3d90",
   "metadata": {},
   "outputs": [
    {
     "data": {
      "text/plain": [
       "dict_keys([1, 3, 'list', 'dict'])"
      ]
     },
     "execution_count": 18,
     "metadata": {},
     "output_type": "execute_result"
    }
   ],
   "source": [
    "a.keys()"
   ]
  },
  {
   "cell_type": "code",
   "execution_count": 19,
   "id": "ca8e44ba",
   "metadata": {},
   "outputs": [
    {
     "data": {
      "text/plain": [
       "dict_values([2, 4, [2, 3], {1: 2}])"
      ]
     },
     "execution_count": 19,
     "metadata": {},
     "output_type": "execute_result"
    }
   ],
   "source": [
    "a.values()"
   ]
  },
  {
   "cell_type": "code",
   "execution_count": 20,
   "id": "1a60e101",
   "metadata": {},
   "outputs": [
    {
     "data": {
      "text/plain": [
       "dict_items([(1, 2), (3, 4), ('list', [2, 3]), ('dict', {1: 2})])"
      ]
     },
     "execution_count": 20,
     "metadata": {},
     "output_type": "execute_result"
    }
   ],
   "source": [
    "a.items()"
   ]
  },
  {
   "cell_type": "code",
   "execution_count": 21,
   "id": "0693116d",
   "metadata": {},
   "outputs": [
    {
     "name": "stdout",
     "output_type": "stream",
     "text": [
      "1 2\n",
      "3 4\n",
      "list [2, 3]\n",
      "dict {1: 2}\n"
     ]
    }
   ],
   "source": [
    "for i in a:\n",
    "    print(i,a[i])"
   ]
  },
  {
   "cell_type": "code",
   "execution_count": 22,
   "id": "c843e761",
   "metadata": {},
   "outputs": [
    {
     "name": "stdout",
     "output_type": "stream",
     "text": [
      "2\n",
      "4\n",
      "[2, 3]\n",
      "{1: 2}\n"
     ]
    }
   ],
   "source": [
    "for i in a.values():\n",
    "    print(i)"
   ]
  },
  {
   "cell_type": "code",
   "execution_count": 23,
   "id": "7ead610a",
   "metadata": {},
   "outputs": [
    {
     "data": {
      "text/plain": [
       "True"
      ]
     },
     "execution_count": 23,
     "metadata": {},
     "output_type": "execute_result"
    }
   ],
   "source": [
    "\"list\" in a"
   ]
  },
  {
   "cell_type": "code",
   "execution_count": 25,
   "id": "3ff14629",
   "metadata": {},
   "outputs": [
    {
     "name": "stdout",
     "output_type": "stream",
     "text": [
      "5\n"
     ]
    }
   ],
   "source": [
    "d = {1:2, 'abc':5, 'def':7}\n",
    "print(d.get(0,5))"
   ]
  },
  {
   "cell_type": "code",
   "execution_count": 26,
   "id": "5ce9e978",
   "metadata": {},
   "outputs": [
    {
     "data": {
      "text/plain": [
       "{1: 2, 3: 4, 'list': [2, 3], 'dict': {1: 2}, 'tuple': (1, 2, 3)}"
      ]
     },
     "execution_count": 26,
     "metadata": {},
     "output_type": "execute_result"
    }
   ],
   "source": [
    "a['tuple']=(1,2,3)\n",
    "a"
   ]
  },
  {
   "cell_type": "code",
   "execution_count": 28,
   "id": "ef642779",
   "metadata": {},
   "outputs": [
    {
     "data": {
      "text/plain": [
       "{1: 10, 3: 4, 'list': [2, 3], 'dict': {1: 2}, 'tuple': (1, 2, 3)}"
      ]
     },
     "execution_count": 28,
     "metadata": {},
     "output_type": "execute_result"
    }
   ],
   "source": [
    "a[1]=10\n",
    "a"
   ]
  },
  {
   "cell_type": "code",
   "execution_count": 30,
   "id": "0c2fbcd0",
   "metadata": {},
   "outputs": [
    {
     "data": {
      "text/plain": [
       "{1: 10,\n",
       " 3: 5,\n",
       " 'list': [2, 3],\n",
       " 'dict': {1: 2},\n",
       " 'tuple': (1, 2, 3),\n",
       " 'the': 4,\n",
       " 'a': 56,\n",
       " 1000: 'abc',\n",
       " 2: 100}"
      ]
     },
     "execution_count": 30,
     "metadata": {},
     "output_type": "execute_result"
    }
   ],
   "source": [
    "a={1:2,3:4,\"list\":[2,3],\"dict\":{1:2}}\n",
    "b={3:5,\"the\":4,2:100}\n",
    "a.update(b) #common values get updated according to b rest updated as it is\n",
    "a"
   ]
  },
  {
   "cell_type": "code",
   "execution_count": 31,
   "id": "ff59f2d5",
   "metadata": {},
   "outputs": [
    {
     "data": {
      "text/plain": [
       "56"
      ]
     },
     "execution_count": 31,
     "metadata": {},
     "output_type": "execute_result"
    }
   ],
   "source": [
    "a.pop('a')"
   ]
  },
  {
   "cell_type": "code",
   "execution_count": 32,
   "id": "494c9ca3",
   "metadata": {},
   "outputs": [
    {
     "data": {
      "text/plain": [
       "{1: 10,\n",
       " 3: 5,\n",
       " 'list': [2, 3],\n",
       " 'dict': {1: 2},\n",
       " 'tuple': (1, 2, 3),\n",
       " 'the': 4,\n",
       " 1000: 'abc',\n",
       " 2: 100}"
      ]
     },
     "execution_count": 32,
     "metadata": {},
     "output_type": "execute_result"
    }
   ],
   "source": [
    "a"
   ]
  },
  {
   "cell_type": "code",
   "execution_count": 33,
   "id": "14cf8863",
   "metadata": {},
   "outputs": [
    {
     "data": {
      "text/plain": [
       "{3: 5,\n",
       " 'list': [2, 3],\n",
       " 'dict': {1: 2},\n",
       " 'tuple': (1, 2, 3),\n",
       " 'the': 4,\n",
       " 1000: 'abc',\n",
       " 2: 100}"
      ]
     },
     "execution_count": 33,
     "metadata": {},
     "output_type": "execute_result"
    }
   ],
   "source": [
    "del a[1]\n",
    "a"
   ]
  },
  {
   "cell_type": "code",
   "execution_count": 34,
   "id": "75ad5bdd",
   "metadata": {},
   "outputs": [
    {
     "data": {
      "text/plain": [
       "{}"
      ]
     },
     "execution_count": 34,
     "metadata": {},
     "output_type": "execute_result"
    }
   ],
   "source": [
    "a.clear()\n",
    "a"
   ]
  },
  {
   "cell_type": "code",
   "execution_count": 35,
   "id": "91ce9daf",
   "metadata": {},
   "outputs": [],
   "source": [
    "del a"
   ]
  },
  {
   "cell_type": "code",
   "execution_count": 36,
   "id": "c2989018",
   "metadata": {},
   "outputs": [
    {
     "ename": "NameError",
     "evalue": "name 'a' is not defined",
     "output_type": "error",
     "traceback": [
      "\u001b[1;31m---------------------------------------------------------------------------\u001b[0m",
      "\u001b[1;31mNameError\u001b[0m                                 Traceback (most recent call last)",
      "\u001b[1;32m~\\AppData\\Local\\Temp/ipykernel_20956/2167009006.py\u001b[0m in \u001b[0;36m<module>\u001b[1;34m\u001b[0m\n\u001b[1;32m----> 1\u001b[1;33m \u001b[0ma\u001b[0m\u001b[1;33m\u001b[0m\u001b[1;33m\u001b[0m\u001b[0m\n\u001b[0m",
      "\u001b[1;31mNameError\u001b[0m: name 'a' is not defined"
     ]
    }
   ],
   "source": [
    "a"
   ]
  },
  {
   "cell_type": "code",
   "execution_count": 8,
   "id": "ed67a071",
   "metadata": {},
   "outputs": [
    {
     "data": {
      "text/plain": [
       "['this', 'is', 'a', 'word', 'string', 'having', 'many', 'many', 'words']"
      ]
     },
     "execution_count": 8,
     "metadata": {},
     "output_type": "execute_result"
    }
   ],
   "source": [
    "s=\"this is a word string having many many words\"\n",
    "k=2\n",
    "words=s.split()\n",
    "words"
   ]
  },
  {
   "cell_type": "code",
   "execution_count": 5,
   "id": "21a43d25",
   "metadata": {},
   "outputs": [
    {
     "data": {
      "text/plain": [
       "{'this': 1,\n",
       " 'is': 1,\n",
       " 'a': 1,\n",
       " 'word': 1,\n",
       " 'string': 1,\n",
       " 'having': 1,\n",
       " 'many': 2,\n",
       " 'words': 1}"
      ]
     },
     "execution_count": 5,
     "metadata": {},
     "output_type": "execute_result"
    }
   ],
   "source": [
    "d={}\n",
    "for w in words:\n",
    "    if w in d:\n",
    "        d[w]=d[w]+1\n",
    "    else:\n",
    "        d[w]=1\n",
    "d        "
   ]
  },
  {
   "cell_type": "code",
   "execution_count": 6,
   "id": "a43554a0",
   "metadata": {},
   "outputs": [
    {
     "data": {
      "text/plain": [
       "{'this': 1,\n",
       " 'is': 1,\n",
       " 'a': 1,\n",
       " 'word': 1,\n",
       " 'string': 1,\n",
       " 'having': 1,\n",
       " 'many': 2,\n",
       " 'words': 1}"
      ]
     },
     "execution_count": 6,
     "metadata": {},
     "output_type": "execute_result"
    }
   ],
   "source": [
    "d={}\n",
    "for w in words:\n",
    "    d[w]=d.get(w,0)+1\n",
    "d    "
   ]
  },
  {
   "cell_type": "code",
   "execution_count": 12,
   "id": "2a54289d",
   "metadata": {},
   "outputs": [
    {
     "name": "stdout",
     "output_type": "stream",
     "text": [
      "many\n"
     ]
    }
   ],
   "source": [
    "for w in d:\n",
    "    if d[w]==k:\n",
    "        print(w)"
   ]
  },
  {
   "cell_type": "code",
   "execution_count": 13,
   "id": "b33ae225",
   "metadata": {},
   "outputs": [],
   "source": [
    "def printKfrequentWords(s,k):\n",
    "    words=s.split()\n",
    "    d={}\n",
    "    for w in words:\n",
    "        d[w]=d.get(w,0)+1\n",
    "    for w in d:\n",
    "        if d[w]==k:\n",
    "            print(w)\n",
    "    \n",
    "    \n",
    "    "
   ]
  },
  {
   "cell_type": "code",
   "execution_count": 14,
   "id": "32b7c6b4",
   "metadata": {},
   "outputs": [
    {
     "name": "stdout",
     "output_type": "stream",
     "text": [
      "many\n"
     ]
    }
   ],
   "source": [
    "s=\"this is a word string having many many words\"\n",
    "k=2\n",
    "printKfrequentWords(s,k)"
   ]
  },
  {
   "cell_type": "code",
   "execution_count": 10,
   "id": "72396a7e",
   "metadata": {},
   "outputs": [
    {
     "name": "stdout",
     "output_type": "stream",
     "text": [
      "abcde\n",
      "aeb\n",
      "false\n"
     ]
    }
   ],
   "source": [
    "def contains(s,t):\n",
    "    str=\"\"\n",
    "    i=0\n",
    "    for letter in s:\n",
    "        if t[i]==letter:\n",
    "            str=str+letter\n",
    "            i=i+1\n",
    "        if len(str)==len(t):\n",
    "            return True\n",
    "    return False    \n",
    "            \n",
    "                \n",
    "        \n",
    "    \n",
    "s = input()\n",
    "t = input()\n",
    "\n",
    "ans = contains(s,t)\n",
    "if ans is True:\n",
    "    print('true')\n",
    "else:\n",
    "    print('false')"
   ]
  },
  {
   "cell_type": "code",
   "execution_count": 6,
   "id": "01457cf1",
   "metadata": {},
   "outputs": [
    {
     "name": "stdout",
     "output_type": "stream",
     "text": [
      "5\n"
     ]
    }
   ],
   "source": [
    "d = {1:2,\"abc\":5 ,\"def\":7}\n",
    "print(d.get(0,5))"
   ]
  },
  {
   "cell_type": "code",
   "execution_count": 9,
   "id": "921155b3",
   "metadata": {},
   "outputs": [],
   "source": [
    "def maxfreq(arr):\n",
    "    d={}\n",
    "    for i in range(len(arr)):\n",
    "        if arr[i] in d:\n",
    "            d[arr[i]]=d[arr[i]]+1\n",
    "        else:\n",
    "            d[arr[i]]=1\n",
    "    max_dict=-999999\n",
    "    max_ele=0;\n",
    "    # print(d)\n",
    "    for ele in arr:\n",
    "        if d[ele]>max_dict:\n",
    "            max_dict=d[ele]\n",
    "            max_ele=ele\n",
    "    return max_ele"
   ]
  },
  {
   "cell_type": "code",
   "execution_count": 12,
   "id": "a39d3432",
   "metadata": {},
   "outputs": [],
   "source": [
    "def pairSum0(l,n):\n",
    "    d={}\n",
    "    target=0\n",
    "    count=0\n",
    "    for i in range(n):\n",
    "        if target-l[i] in d:\n",
    "            count=count+d[target-l[i]]\n",
    "        d[l[i]]=d.get(l[i],0)+1\n",
    "    return count    "
   ]
  },
  {
   "cell_type": "code",
   "execution_count": 33,
   "id": "2303c07c",
   "metadata": {},
   "outputs": [],
   "source": [
    "#HashMap->(keys,values) we want to access and insert in a hashmap\n",
    "class MapNode:\n",
    "    def __init__(self,key,value):\n",
    "        self.key=key\n",
    "        self.value=value\n",
    "        self.next=None      \n",
    "class Map:\n",
    "    def __init__(self):\n",
    "        self.bucketSize=10\n",
    "        self.buckets=[None for i in range(self.bucketSize)]\n",
    "        self.count=0\n",
    "    def size(self):\n",
    "        return self.count\n",
    "    def getbucketIndex(self,hc):\n",
    "        return (abs(hc)%self.bucketSize)\n",
    "    def remove(self,key):\n",
    "        hc=hash(key)\n",
    "        index=self.getbucketIndex(hc)\n",
    "        head=self.buckets[index]\n",
    "        prev=None\n",
    "        while head is not None:\n",
    "            if head.key==key:\n",
    "                if prev is None:\n",
    "                    self.buckets[index]=head.next\n",
    "                else:\n",
    "                    prev.next=head.next\n",
    "                    return head.value\n",
    "                self.count=self.count-1    \n",
    "            prev=head\n",
    "            head=head.next    \n",
    "    def getValue(self,key):\n",
    "        hc=hash(key)\n",
    "        index=self.getbucketIndex(hc)\n",
    "        head=self.buckets[index]\n",
    "        while head is not None:\n",
    "            if head.key==key:\n",
    "                return head.value\n",
    "            head=head.next\n",
    "        return None    \n",
    "    def insert(self,key,value):\n",
    "        hc=hash(key) #hc returns and number either positive or negative\n",
    "        idx=self.getbucketIndex(hc)# abs(hc) convert to positive and then modulus gives index\n",
    "        head=self.buckets[idx]\n",
    "        while head is not None:\n",
    "            if head.key==key:\n",
    "                head.value=value\n",
    "                return\n",
    "            head=head.next\n",
    "        head=self.buckets[idx]    \n",
    "        newNode=MapNode(key,value)\n",
    "        newNode.next=head\n",
    "        self.buckets[idx]=newNode\n",
    "        self.count=self.count+1\n",
    "        \n",
    "        \n"
   ]
  },
  {
   "cell_type": "code",
   "execution_count": 34,
   "id": "6765c0d2",
   "metadata": {},
   "outputs": [
    {
     "name": "stdout",
     "output_type": "stream",
     "text": [
      "1\n",
      "2\n",
      "2\n",
      "9\n",
      "1\n",
      "None\n"
     ]
    }
   ],
   "source": [
    "m=Map()\n",
    "m.insert('Parikh',2)\n",
    "print(m.size())\n",
    "m.insert('Rohan',1)\n",
    "print(m.size())\n",
    "m.insert('Parikh',9)\n",
    "print(m.size())\n",
    "print(m.getValue('Parikh'))\n",
    "print(m.getValue('Rohan'))\n",
    "m.remove('Rohan')\n",
    "print(m.getValue('Rohan'))"
   ]
  },
  {
   "cell_type": "code",
   "execution_count": 35,
   "id": "d22acd62",
   "metadata": {},
   "outputs": [],
   "source": [
    "def uniqueChar(s): \n",
    "    d={}\n",
    "    ans=''\n",
    "    for i in range(len(s)):\n",
    "        if s[i] not in d:\n",
    "            ans=ans+s[i]\n",
    "            d[s[i]]=d.get(s[i],0)+1\n",
    "        else:\n",
    "            pass\n",
    "    return ans  "
   ]
  },
  {
   "cell_type": "code",
   "execution_count": 36,
   "id": "0416524f",
   "metadata": {},
   "outputs": [],
   "source": [
    "def longestConsecutiveSubsequence(arr,n):\n",
    "    d={}\n",
    "    ans=[0,0]\n",
    "    maxlen=-1;\n",
    "    len=0\n",
    "    for i in range(n):\n",
    "        if arr[i] not in d:\n",
    "            d[arr[i]]=d.get(arr[i],0)+1\n",
    "    for i in range(n):\n",
    "        if arr[i]-1 not in d:\n",
    "            ele=arr[i]\n",
    "            while ele in d:\n",
    "                ele=ele+1\n",
    "            len=ele-arr[i]\n",
    "            if len>maxlen:\n",
    "                maxlen=len\n",
    "                ans[0]=arr[i]\n",
    "                ans[1]=ele-1     \n",
    "    return ans\n",
    "        "
   ]
  },
  {
   "cell_type": "code",
   "execution_count": 37,
   "id": "20a412ed",
   "metadata": {},
   "outputs": [],
   "source": [
    "def printPairDiffK(l, k):\n",
    "    d={}\n",
    "    count=0\n",
    "    for i in range(len(l)):\n",
    "        if l[i]+k in d:\n",
    "            count=count+d[l[i]+k]\n",
    "        elif l[i]-k in d:\n",
    "            count=count+d[l[i]-k]    \n",
    "        d[l[i]]=d.get(l[i],0)+1\n",
    "    return count    "
   ]
  },
  {
   "cell_type": "code",
   "execution_count": 38,
   "id": "2763dd37",
   "metadata": {},
   "outputs": [],
   "source": [
    "def subsetSum(l):\n",
    "    d={}\n",
    "    max_len=0\n",
    "    cur_sum=0\n",
    "    for i in range(len(l)):\n",
    "        cur_sum=cur_sum+l[i]\n",
    "        if l[i]==0 and max_len==1:\n",
    "            max_len=1\n",
    "        if cur_sum==0:\n",
    "            max_len=i+1\n",
    "        if cur_sum in d:\n",
    "            max_len=max(max_len,i-d[cur_sum])\n",
    "        else:\n",
    "            d[cur_sum]=i\n",
    "    return max_len       "
   ]
  },
  {
   "cell_type": "code",
   "execution_count": 2,
   "id": "68a54b35",
   "metadata": {},
   "outputs": [],
   "source": [
    "def minGroups(intervals) :\n",
    "        intervals.sort(key=lambda x:x[0])\n",
    "        curi=intervals[0]\n",
    "        intervals.remove(curi)\n",
    "        count=0\n",
    "        while len(intervals)>0:\n",
    "            for nexti in intervals:\n",
    "                if nexti[0]>curi[1]:\n",
    "                    intervals.remove(nexti)\n",
    "            count=count+1\n",
    "            curi=intervals[0]\n",
    "        return count        \n",
    "            "
   ]
  },
  {
   "cell_type": "code",
   "execution_count": 3,
   "id": "0917dee5",
   "metadata": {},
   "outputs": [
    {
     "ename": "KeyboardInterrupt",
     "evalue": "",
     "output_type": "error",
     "traceback": [
      "\u001b[1;31m---------------------------------------------------------------------------\u001b[0m",
      "\u001b[1;31mKeyboardInterrupt\u001b[0m                         Traceback (most recent call last)",
      "\u001b[1;32m~\\AppData\\Local\\Temp/ipykernel_6344/2135219135.py\u001b[0m in \u001b[0;36m<module>\u001b[1;34m\u001b[0m\n\u001b[0;32m      1\u001b[0m \u001b[0mintervals\u001b[0m\u001b[1;33m=\u001b[0m\u001b[1;33m[\u001b[0m\u001b[1;33m[\u001b[0m\u001b[1;36m5\u001b[0m\u001b[1;33m,\u001b[0m\u001b[1;36m10\u001b[0m\u001b[1;33m]\u001b[0m\u001b[1;33m,\u001b[0m\u001b[1;33m[\u001b[0m\u001b[1;36m6\u001b[0m\u001b[1;33m,\u001b[0m\u001b[1;36m8\u001b[0m\u001b[1;33m]\u001b[0m\u001b[1;33m,\u001b[0m\u001b[1;33m[\u001b[0m\u001b[1;36m1\u001b[0m\u001b[1;33m,\u001b[0m\u001b[1;36m5\u001b[0m\u001b[1;33m]\u001b[0m\u001b[1;33m,\u001b[0m\u001b[1;33m[\u001b[0m\u001b[1;36m2\u001b[0m\u001b[1;33m,\u001b[0m\u001b[1;36m3\u001b[0m\u001b[1;33m]\u001b[0m\u001b[1;33m,\u001b[0m\u001b[1;33m[\u001b[0m\u001b[1;36m1\u001b[0m\u001b[1;33m,\u001b[0m\u001b[1;36m10\u001b[0m\u001b[1;33m]\u001b[0m\u001b[1;33m]\u001b[0m\u001b[1;33m\u001b[0m\u001b[1;33m\u001b[0m\u001b[0m\n\u001b[1;32m----> 2\u001b[1;33m \u001b[0mminGroups\u001b[0m\u001b[1;33m(\u001b[0m\u001b[0mintervals\u001b[0m\u001b[1;33m)\u001b[0m\u001b[1;33m\u001b[0m\u001b[1;33m\u001b[0m\u001b[0m\n\u001b[0m",
      "\u001b[1;32m~\\AppData\\Local\\Temp/ipykernel_6344/1973773358.py\u001b[0m in \u001b[0;36mminGroups\u001b[1;34m(intervals)\u001b[0m\n\u001b[0;32m      6\u001b[0m         \u001b[1;32mwhile\u001b[0m \u001b[0mlen\u001b[0m\u001b[1;33m(\u001b[0m\u001b[0mintervals\u001b[0m\u001b[1;33m)\u001b[0m\u001b[1;33m>\u001b[0m\u001b[1;36m0\u001b[0m\u001b[1;33m:\u001b[0m\u001b[1;33m\u001b[0m\u001b[1;33m\u001b[0m\u001b[0m\n\u001b[0;32m      7\u001b[0m             \u001b[1;32mfor\u001b[0m \u001b[0mnexti\u001b[0m \u001b[1;32min\u001b[0m \u001b[0mintervals\u001b[0m\u001b[1;33m:\u001b[0m\u001b[1;33m\u001b[0m\u001b[1;33m\u001b[0m\u001b[0m\n\u001b[1;32m----> 8\u001b[1;33m                 \u001b[1;32mif\u001b[0m \u001b[0mnexti\u001b[0m\u001b[1;33m[\u001b[0m\u001b[1;36m0\u001b[0m\u001b[1;33m]\u001b[0m\u001b[1;33m>\u001b[0m\u001b[0mcuri\u001b[0m\u001b[1;33m[\u001b[0m\u001b[1;36m1\u001b[0m\u001b[1;33m]\u001b[0m\u001b[1;33m:\u001b[0m\u001b[1;33m\u001b[0m\u001b[1;33m\u001b[0m\u001b[0m\n\u001b[0m\u001b[0;32m      9\u001b[0m                     \u001b[0mintervals\u001b[0m\u001b[1;33m.\u001b[0m\u001b[0mremove\u001b[0m\u001b[1;33m(\u001b[0m\u001b[0mnexti\u001b[0m\u001b[1;33m)\u001b[0m\u001b[1;33m\u001b[0m\u001b[1;33m\u001b[0m\u001b[0m\n\u001b[0;32m     10\u001b[0m             \u001b[0mcount\u001b[0m\u001b[1;33m=\u001b[0m\u001b[0mcount\u001b[0m\u001b[1;33m+\u001b[0m\u001b[1;36m1\u001b[0m\u001b[1;33m\u001b[0m\u001b[1;33m\u001b[0m\u001b[0m\n",
      "\u001b[1;31mKeyboardInterrupt\u001b[0m: "
     ]
    }
   ],
   "source": [
    "intervals=[[5,10],[6,8],[1,5],[2,3],[1,10]]\n",
    "minGroups(intervals)"
   ]
  },
  {
   "cell_type": "code",
   "execution_count": null,
   "id": "9a46490a",
   "metadata": {},
   "outputs": [],
   "source": []
  }
 ],
 "metadata": {
  "kernelspec": {
   "display_name": "Python 3 (ipykernel)",
   "language": "python",
   "name": "python3"
  },
  "language_info": {
   "codemirror_mode": {
    "name": "ipython",
    "version": 3
   },
   "file_extension": ".py",
   "mimetype": "text/x-python",
   "name": "python",
   "nbconvert_exporter": "python",
   "pygments_lexer": "ipython3",
   "version": "3.9.7"
  }
 },
 "nbformat": 4,
 "nbformat_minor": 5
}
