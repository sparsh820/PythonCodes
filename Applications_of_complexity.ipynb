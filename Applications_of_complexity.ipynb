{
 "cells": [
  {
   "cell_type": "code",
   "execution_count": 2,
   "id": "7eb7e497",
   "metadata": {},
   "outputs": [
    {
     "name": "stdout",
     "output_type": "stream",
     "text": [
      "2 5\n",
      "32\n"
     ]
    }
   ],
   "source": [
    "def power(x, n):\n",
    "    if n==0:\n",
    "        return 1\n",
    "    if n==1:\n",
    "        return x\n",
    "    res=power(x,n//2)\n",
    "    if n%2==0:\n",
    "        return res*res\n",
    "    else:\n",
    "        return res*res*x\n",
    "\n",
    "# Main\n",
    "from sys import setrecursionlimit\n",
    "setrecursionlimit(11000)\n",
    "x, n=list(int(i) for i in input().strip().split(' '))\n",
    "print(power(x, n))"
   ]
  },
  {
   "cell_type": "code",
   "execution_count": 4,
   "id": "989c538a",
   "metadata": {},
   "outputs": [],
   "source": [
    "def binarySearch(arr, l, r, x):\n",
    "    if (r >= l):\n",
    "        mid = int(l + (r - l)/2)\n",
    "    if (arr[mid] == x):\n",
    "        return mid\n",
    "    if (arr[mid] > x):\n",
    "            return binarySearch(arr, l, mid - 1, x)\n",
    "    return binarySearch(arr, mid + 1, r, x)\n",
    "    return -1"
   ]
  },
  {
   "cell_type": "code",
   "execution_count": 5,
   "id": "6b3cd9e9",
   "metadata": {},
   "outputs": [],
   "source": [
    "def printIntersection(arr1, arr2, m, n):\n",
    "    if (m > n):\n",
    "        tempp = arr1\n",
    "        arr1 = arr2\n",
    "        arr2 = tempp\n",
    "        \n",
    "        temp = m\n",
    "        m = n\n",
    "        n = temp\n",
    "        \n",
    "    arr1.sort()\n",
    "    for i in range(0, n):\n",
    "        if (binarySearch(arr1, 0, m - 1, arr2[i]) != -1):\n",
    "            print(arr2[i], end=\" \")\n",
    " \n",
    "\n",
    "\n",
    "\n"
   ]
  },
  {
   "cell_type": "code",
   "execution_count": 6,
   "id": "c8c1694d",
   "metadata": {},
   "outputs": [
    {
     "name": "stdout",
     "output_type": "stream",
     "text": [
      "\n",
      "Intersection of two arrays is \n",
      "7 "
     ]
    },
    {
     "ename": "UnboundLocalError",
     "evalue": "local variable 'mid' referenced before assignment",
     "output_type": "error",
     "traceback": [
      "\u001b[1;31m---------------------------------------------------------------------------\u001b[0m",
      "\u001b[1;31mUnboundLocalError\u001b[0m                         Traceback (most recent call last)",
      "\u001b[1;32m~\\AppData\\Local\\Temp/ipykernel_7300/3198613074.py\u001b[0m in \u001b[0;36m<module>\u001b[1;34m\u001b[0m\n\u001b[0;32m      6\u001b[0m \u001b[1;33m\u001b[0m\u001b[0m\n\u001b[0;32m      7\u001b[0m \u001b[0mprint\u001b[0m\u001b[1;33m(\u001b[0m\u001b[1;34m\"\\nIntersection of two arrays is \"\u001b[0m\u001b[1;33m)\u001b[0m\u001b[1;33m\u001b[0m\u001b[1;33m\u001b[0m\u001b[0m\n\u001b[1;32m----> 8\u001b[1;33m \u001b[0mprintIntersection\u001b[0m\u001b[1;33m(\u001b[0m\u001b[0marr1\u001b[0m\u001b[1;33m,\u001b[0m \u001b[0marr2\u001b[0m\u001b[1;33m,\u001b[0m \u001b[0mm\u001b[0m\u001b[1;33m,\u001b[0m \u001b[0mn\u001b[0m\u001b[1;33m)\u001b[0m\u001b[1;33m\u001b[0m\u001b[1;33m\u001b[0m\u001b[0m\n\u001b[0m",
      "\u001b[1;32m~\\AppData\\Local\\Temp/ipykernel_7300/1749119562.py\u001b[0m in \u001b[0;36mprintIntersection\u001b[1;34m(arr1, arr2, m, n)\u001b[0m\n\u001b[0;32m     11\u001b[0m     \u001b[0marr1\u001b[0m\u001b[1;33m.\u001b[0m\u001b[0msort\u001b[0m\u001b[1;33m(\u001b[0m\u001b[1;33m)\u001b[0m\u001b[1;33m\u001b[0m\u001b[1;33m\u001b[0m\u001b[0m\n\u001b[0;32m     12\u001b[0m     \u001b[1;32mfor\u001b[0m \u001b[0mi\u001b[0m \u001b[1;32min\u001b[0m \u001b[0mrange\u001b[0m\u001b[1;33m(\u001b[0m\u001b[1;36m0\u001b[0m\u001b[1;33m,\u001b[0m \u001b[0mn\u001b[0m\u001b[1;33m)\u001b[0m\u001b[1;33m:\u001b[0m\u001b[1;33m\u001b[0m\u001b[1;33m\u001b[0m\u001b[0m\n\u001b[1;32m---> 13\u001b[1;33m         \u001b[1;32mif\u001b[0m \u001b[1;33m(\u001b[0m\u001b[0mbinarySearch\u001b[0m\u001b[1;33m(\u001b[0m\u001b[0marr1\u001b[0m\u001b[1;33m,\u001b[0m \u001b[1;36m0\u001b[0m\u001b[1;33m,\u001b[0m \u001b[0mm\u001b[0m \u001b[1;33m-\u001b[0m \u001b[1;36m1\u001b[0m\u001b[1;33m,\u001b[0m \u001b[0marr2\u001b[0m\u001b[1;33m[\u001b[0m\u001b[0mi\u001b[0m\u001b[1;33m]\u001b[0m\u001b[1;33m)\u001b[0m \u001b[1;33m!=\u001b[0m \u001b[1;33m-\u001b[0m\u001b[1;36m1\u001b[0m\u001b[1;33m)\u001b[0m\u001b[1;33m:\u001b[0m\u001b[1;33m\u001b[0m\u001b[1;33m\u001b[0m\u001b[0m\n\u001b[0m\u001b[0;32m     14\u001b[0m             \u001b[0mprint\u001b[0m\u001b[1;33m(\u001b[0m\u001b[0marr2\u001b[0m\u001b[1;33m[\u001b[0m\u001b[0mi\u001b[0m\u001b[1;33m]\u001b[0m\u001b[1;33m,\u001b[0m \u001b[0mend\u001b[0m\u001b[1;33m=\u001b[0m\u001b[1;34m\" \"\u001b[0m\u001b[1;33m)\u001b[0m\u001b[1;33m\u001b[0m\u001b[1;33m\u001b[0m\u001b[0m\n\u001b[0;32m     15\u001b[0m \u001b[1;33m\u001b[0m\u001b[0m\n",
      "\u001b[1;32m~\\AppData\\Local\\Temp/ipykernel_7300/1974106156.py\u001b[0m in \u001b[0;36mbinarySearch\u001b[1;34m(arr, l, r, x)\u001b[0m\n\u001b[0;32m      5\u001b[0m         \u001b[1;32mreturn\u001b[0m \u001b[0mmid\u001b[0m\u001b[1;33m\u001b[0m\u001b[1;33m\u001b[0m\u001b[0m\n\u001b[0;32m      6\u001b[0m     \u001b[1;32mif\u001b[0m \u001b[1;33m(\u001b[0m\u001b[0marr\u001b[0m\u001b[1;33m[\u001b[0m\u001b[0mmid\u001b[0m\u001b[1;33m]\u001b[0m \u001b[1;33m>\u001b[0m \u001b[0mx\u001b[0m\u001b[1;33m)\u001b[0m\u001b[1;33m:\u001b[0m\u001b[1;33m\u001b[0m\u001b[1;33m\u001b[0m\u001b[0m\n\u001b[1;32m----> 7\u001b[1;33m             \u001b[1;32mreturn\u001b[0m \u001b[0mbinarySearch\u001b[0m\u001b[1;33m(\u001b[0m\u001b[0marr\u001b[0m\u001b[1;33m,\u001b[0m \u001b[0ml\u001b[0m\u001b[1;33m,\u001b[0m \u001b[0mmid\u001b[0m \u001b[1;33m-\u001b[0m \u001b[1;36m1\u001b[0m\u001b[1;33m,\u001b[0m \u001b[0mx\u001b[0m\u001b[1;33m)\u001b[0m\u001b[1;33m\u001b[0m\u001b[1;33m\u001b[0m\u001b[0m\n\u001b[0m\u001b[0;32m      8\u001b[0m     \u001b[1;32mreturn\u001b[0m \u001b[0mbinarySearch\u001b[0m\u001b[1;33m(\u001b[0m\u001b[0marr\u001b[0m\u001b[1;33m,\u001b[0m \u001b[0mmid\u001b[0m \u001b[1;33m+\u001b[0m \u001b[1;36m1\u001b[0m\u001b[1;33m,\u001b[0m \u001b[0mr\u001b[0m\u001b[1;33m,\u001b[0m \u001b[0mx\u001b[0m\u001b[1;33m)\u001b[0m\u001b[1;33m\u001b[0m\u001b[1;33m\u001b[0m\u001b[0m\n\u001b[0;32m      9\u001b[0m     \u001b[1;32mreturn\u001b[0m \u001b[1;33m-\u001b[0m\u001b[1;36m1\u001b[0m\u001b[1;33m\u001b[0m\u001b[1;33m\u001b[0m\u001b[0m\n",
      "\u001b[1;32m~\\AppData\\Local\\Temp/ipykernel_7300/1974106156.py\u001b[0m in \u001b[0;36mbinarySearch\u001b[1;34m(arr, l, r, x)\u001b[0m\n\u001b[0;32m      5\u001b[0m         \u001b[1;32mreturn\u001b[0m \u001b[0mmid\u001b[0m\u001b[1;33m\u001b[0m\u001b[1;33m\u001b[0m\u001b[0m\n\u001b[0;32m      6\u001b[0m     \u001b[1;32mif\u001b[0m \u001b[1;33m(\u001b[0m\u001b[0marr\u001b[0m\u001b[1;33m[\u001b[0m\u001b[0mmid\u001b[0m\u001b[1;33m]\u001b[0m \u001b[1;33m>\u001b[0m \u001b[0mx\u001b[0m\u001b[1;33m)\u001b[0m\u001b[1;33m:\u001b[0m\u001b[1;33m\u001b[0m\u001b[1;33m\u001b[0m\u001b[0m\n\u001b[1;32m----> 7\u001b[1;33m             \u001b[1;32mreturn\u001b[0m \u001b[0mbinarySearch\u001b[0m\u001b[1;33m(\u001b[0m\u001b[0marr\u001b[0m\u001b[1;33m,\u001b[0m \u001b[0ml\u001b[0m\u001b[1;33m,\u001b[0m \u001b[0mmid\u001b[0m \u001b[1;33m-\u001b[0m \u001b[1;36m1\u001b[0m\u001b[1;33m,\u001b[0m \u001b[0mx\u001b[0m\u001b[1;33m)\u001b[0m\u001b[1;33m\u001b[0m\u001b[1;33m\u001b[0m\u001b[0m\n\u001b[0m\u001b[0;32m      8\u001b[0m     \u001b[1;32mreturn\u001b[0m \u001b[0mbinarySearch\u001b[0m\u001b[1;33m(\u001b[0m\u001b[0marr\u001b[0m\u001b[1;33m,\u001b[0m \u001b[0mmid\u001b[0m \u001b[1;33m+\u001b[0m \u001b[1;36m1\u001b[0m\u001b[1;33m,\u001b[0m \u001b[0mr\u001b[0m\u001b[1;33m,\u001b[0m \u001b[0mx\u001b[0m\u001b[1;33m)\u001b[0m\u001b[1;33m\u001b[0m\u001b[1;33m\u001b[0m\u001b[0m\n\u001b[0;32m      9\u001b[0m     \u001b[1;32mreturn\u001b[0m \u001b[1;33m-\u001b[0m\u001b[1;36m1\u001b[0m\u001b[1;33m\u001b[0m\u001b[1;33m\u001b[0m\u001b[0m\n",
      "\u001b[1;32m~\\AppData\\Local\\Temp/ipykernel_7300/1974106156.py\u001b[0m in \u001b[0;36mbinarySearch\u001b[1;34m(arr, l, r, x)\u001b[0m\n\u001b[0;32m      2\u001b[0m     \u001b[1;32mif\u001b[0m \u001b[1;33m(\u001b[0m\u001b[0mr\u001b[0m \u001b[1;33m>=\u001b[0m \u001b[0ml\u001b[0m\u001b[1;33m)\u001b[0m\u001b[1;33m:\u001b[0m\u001b[1;33m\u001b[0m\u001b[1;33m\u001b[0m\u001b[0m\n\u001b[0;32m      3\u001b[0m         \u001b[0mmid\u001b[0m \u001b[1;33m=\u001b[0m \u001b[0mint\u001b[0m\u001b[1;33m(\u001b[0m\u001b[0ml\u001b[0m \u001b[1;33m+\u001b[0m \u001b[1;33m(\u001b[0m\u001b[0mr\u001b[0m \u001b[1;33m-\u001b[0m \u001b[0ml\u001b[0m\u001b[1;33m)\u001b[0m\u001b[1;33m/\u001b[0m\u001b[1;36m2\u001b[0m\u001b[1;33m)\u001b[0m\u001b[1;33m\u001b[0m\u001b[1;33m\u001b[0m\u001b[0m\n\u001b[1;32m----> 4\u001b[1;33m     \u001b[1;32mif\u001b[0m \u001b[1;33m(\u001b[0m\u001b[0marr\u001b[0m\u001b[1;33m[\u001b[0m\u001b[0mmid\u001b[0m\u001b[1;33m]\u001b[0m \u001b[1;33m==\u001b[0m \u001b[0mx\u001b[0m\u001b[1;33m)\u001b[0m\u001b[1;33m:\u001b[0m\u001b[1;33m\u001b[0m\u001b[1;33m\u001b[0m\u001b[0m\n\u001b[0m\u001b[0;32m      5\u001b[0m         \u001b[1;32mreturn\u001b[0m \u001b[0mmid\u001b[0m\u001b[1;33m\u001b[0m\u001b[1;33m\u001b[0m\u001b[0m\n\u001b[0;32m      6\u001b[0m     \u001b[1;32mif\u001b[0m \u001b[1;33m(\u001b[0m\u001b[0marr\u001b[0m\u001b[1;33m[\u001b[0m\u001b[0mmid\u001b[0m\u001b[1;33m]\u001b[0m \u001b[1;33m>\u001b[0m \u001b[0mx\u001b[0m\u001b[1;33m)\u001b[0m\u001b[1;33m:\u001b[0m\u001b[1;33m\u001b[0m\u001b[1;33m\u001b[0m\u001b[0m\n",
      "\u001b[1;31mUnboundLocalError\u001b[0m: local variable 'mid' referenced before assignment"
     ]
    }
   ],
   "source": [
    "arr1 = [7, 1, 5, 2, 3, 6]\n",
    "arr2 = [3, 8, 6, 20, 7]\n",
    "m = len(arr1)\n",
    "n = len(arr2)\n",
    " \n",
    "\n",
    "print(\"\\nIntersection of two arrays is \")\n",
    "printIntersection(arr1, arr2, m, n)"
   ]
  },
  {
   "cell_type": "code",
   "execution_count": 7,
   "id": "249795b2",
   "metadata": {},
   "outputs": [],
   "source": [
    "def intersection(arr1, arr2, n, m) :\n",
    "    arr1.sort()\n",
    "    arr2.sort()\n",
    "    i = 0\n",
    "    j = 0\n",
    "    while (i < n and j < m):\n",
    "        if (arr1[i] > arr2[j]):\n",
    "            j += 1\n",
    "        else:\n",
    "            if (arr2[j] > arr1[i]):\n",
    "                i += 1\n",
    "            else:\n",
    "                # when both are equal\n",
    "                print(arr1[i], end=\" \")\n",
    "                i += 1\n",
    "                j += 1\n",
    "                \n",
    "        "
   ]
  },
  {
   "cell_type": "code",
   "execution_count": 8,
   "id": "8558c7ed",
   "metadata": {},
   "outputs": [
    {
     "name": "stdout",
     "output_type": "stream",
     "text": [
      "3 6 "
     ]
    }
   ],
   "source": [
    "arr1 = [7, 1, 5, 2, 3, 6]\n",
    "arr2 = [3, 8, 6, 20, 7]\n",
    "m = len(arr1)\n",
    "n = len(arr2)\n",
    "intersection(arr1,arr2,n,m)"
   ]
  },
  {
   "cell_type": "code",
   "execution_count": 1,
   "id": "bfd2e85a",
   "metadata": {},
   "outputs": [],
   "source": [
    "def arrayEquilibriumIndex(arr, n) :\n",
    "    if n==0:\n",
    "        return -1\n",
    "    pref=[]\n",
    "    suff=[]\n",
    "    for i in range(n):\n",
    "        pref.append(0)\n",
    "        suff.append(0)\n",
    "    pref[0]=arr[0]\n",
    "    for i in range(1,n,1):\n",
    "        pref[i]=pref[i-1]+arr[i]\n",
    "    suff[n-1]=arr[n-1]\n",
    "    for i in range(n-2,-1,-1):\n",
    "        suff[i]=suff[i+1]+arr[i]    \n",
    "    for i in range(2,n-1,1):\n",
    "        if pref[i-1]==suff[i+1]:\n",
    "            return i\n",
    "    return -1    "
   ]
  },
  {
   "cell_type": "code",
   "execution_count": 4,
   "id": "b03705f5",
   "metadata": {},
   "outputs": [
    {
     "name": "stdout",
     "output_type": "stream",
     "text": [
      "1 4 9 3 2\n"
     ]
    },
    {
     "data": {
      "text/plain": [
       "2"
      ]
     },
     "execution_count": 4,
     "metadata": {},
     "output_type": "execute_result"
    }
   ],
   "source": [
    "arr=[int(x) for x in input().split()]\n",
    "arrayEquilibriumIndex(arr, len(arr)) \n",
    "#totalsum-leftsum-a[i] "
   ]
  },
  {
   "cell_type": "code",
   "execution_count": 5,
   "id": "16192401",
   "metadata": {},
   "outputs": [],
   "source": [
    "def findUnique(arr, n) :\n",
    "    mp=dict()\n",
    "    for i in range(n):\n",
    "        if arr[i] in mp:\n",
    "            mp[arr[i]]=mp[arr[i]]+1\n",
    "        else:\n",
    "            mp[arr[i]]=1\n",
    "    for key in mp:\n",
    "        if mp[key]==1:\n",
    "            return key"
   ]
  },
  {
   "cell_type": "code",
   "execution_count": 6,
   "id": "ced751d3",
   "metadata": {},
   "outputs": [],
   "source": [
    "def findDuplicate(arr, n) :\n",
    "    mp=dict()\n",
    "    for i in range(n):\n",
    "        if arr[i] in mp:\n",
    "            mp[arr[i]]=mp[arr[i]]+1\n",
    "        else:\n",
    "            mp[arr[i]]=1\n",
    "    for key in mp:\n",
    "        if mp[key]==2:\n",
    "            return key"
   ]
  },
  {
   "cell_type": "code",
   "execution_count": null,
   "id": "d51e50ad",
   "metadata": {},
   "outputs": [],
   "source": []
  }
 ],
 "metadata": {
  "kernelspec": {
   "display_name": "Python 3 (ipykernel)",
   "language": "python",
   "name": "python3"
  },
  "language_info": {
   "codemirror_mode": {
    "name": "ipython",
    "version": 3
   },
   "file_extension": ".py",
   "mimetype": "text/x-python",
   "name": "python",
   "nbconvert_exporter": "python",
   "pygments_lexer": "ipython3",
   "version": "3.9.7"
  }
 },
 "nbformat": 4,
 "nbformat_minor": 5
}
